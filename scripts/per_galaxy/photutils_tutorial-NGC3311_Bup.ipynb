{
 "cells": [
  {
   "cell_type": "markdown",
   "metadata": {},
   "source": [
    "# Photutils tutorial\n"
   ]
  },
  {
   "cell_type": "markdown",
   "metadata": {},
   "source": [
    "## Morphological properties\n",
    "Source: https://photutils.readthedocs.io/en/stable/morphology.html"
   ]
  },
  {
   "cell_type": "markdown",
   "metadata": {},
   "source": [
    "## Elliptical Isophote Analysis\n",
    "Source: https://photutils.readthedocs.io/en/stable/isophote.html"
   ]
  },
  {
   "cell_type": "code",
   "execution_count": 4,
   "metadata": {},
   "outputs": [],
   "source": [
    "# import relevant packages\n",
    "import numpy as np\n",
    "import matplotlib.pyplot as plt\n",
    "from astropy.modeling.models import Gaussian2D\n",
    "from astropy.stats import sigma_clipped_stats\n",
    "from photutils.datasets import make_noise_image\n",
    "from photutils.isophote import EllipseGeometry, Ellipse, build_ellipse_model\n",
    "from photutils import EllipticalAperture, data_properties"
   ]
  },
  {
   "cell_type": "code",
   "execution_count": 9,
   "metadata": {},
   "outputs": [
    {
     "ename": "NameError",
     "evalue": "name 'fits' is not defined",
     "output_type": "error",
     "traceback": [
      "\u001b[0;31m---------------------------------------------------------------------------\u001b[0m",
      "\u001b[0;31mNameError\u001b[0m                                 Traceback (most recent call last)",
      "\u001b[0;32m<ipython-input-9-64cd007b375b>\u001b[0m in \u001b[0;36m<module>\u001b[0;34m()\u001b[0m\n\u001b[1;32m      1\u001b[0m \u001b[0;31m#data = g(x, y) + noise\u001b[0m\u001b[0;34m\u001b[0m\u001b[0;34m\u001b[0m\u001b[0m\n\u001b[0;32m----> 2\u001b[0;31m \u001b[0mhdu\u001b[0m\u001b[0;34m=\u001b[0m\u001b[0mfits\u001b[0m\u001b[0;34m.\u001b[0m\u001b[0mopen\u001b[0m\u001b[0;34m(\u001b[0m\u001b[0;34m'/Users/lasilla/data/2020-02-10/reduced/NGC3311/NGC3311_B.fits'\u001b[0m\u001b[0;34m)\u001b[0m\u001b[0;34m\u001b[0m\u001b[0m\n\u001b[0m\u001b[1;32m      3\u001b[0m \u001b[0mdata\u001b[0m \u001b[0;34m=\u001b[0m \u001b[0mhdu\u001b[0m\u001b[0;34m[\u001b[0m\u001b[0;34m'PRIMARY'\u001b[0m\u001b[0;34m]\u001b[0m\u001b[0;34m.\u001b[0m\u001b[0mdata\u001b[0m\u001b[0;34m\u001b[0m\u001b[0m\n",
      "\u001b[0;31mNameError\u001b[0m: name 'fits' is not defined"
     ]
    }
   ],
   "source": [
    "#data = g(x, y) + noise\n",
    "hdu=fits.open('/Users/lasilla/data/2020-02-10/reduced/NGC3311/NGC3311_B.fits')\n",
    "data = hdu['PRIMARY'].data"
   ]
  },
  {
   "cell_type": "code",
   "execution_count": 6,
   "metadata": {},
   "outputs": [
    {
     "ename": "NameError",
     "evalue": "name 'data' is not defined",
     "output_type": "error",
     "traceback": [
      "\u001b[0;31m---------------------------------------------------------------------------\u001b[0m",
      "\u001b[0;31mNameError\u001b[0m                                 Traceback (most recent call last)",
      "\u001b[0;32m<ipython-input-6-946ac6725b6e>\u001b[0m in \u001b[0;36m<module>\u001b[0;34m()\u001b[0m\n\u001b[1;32m      1\u001b[0m \u001b[0;31m# how does it look?\u001b[0m\u001b[0;34m\u001b[0m\u001b[0;34m\u001b[0m\u001b[0m\n\u001b[0;32m----> 2\u001b[0;31m \u001b[0mplt\u001b[0m\u001b[0;34m.\u001b[0m\u001b[0mimshow\u001b[0m\u001b[0;34m(\u001b[0m\u001b[0mdata\u001b[0m\u001b[0;34m,\u001b[0m \u001b[0mcmap\u001b[0m\u001b[0;34m=\u001b[0m\u001b[0;34m'gray'\u001b[0m\u001b[0;34m,\u001b[0m \u001b[0morigin\u001b[0m\u001b[0;34m=\u001b[0m\u001b[0;34m'lower'\u001b[0m\u001b[0;34m,\u001b[0m \u001b[0mvmin\u001b[0m\u001b[0;34m=\u001b[0m\u001b[0;36m11.85\u001b[0m\u001b[0;34m,\u001b[0m \u001b[0mvmax\u001b[0m\u001b[0;34m=\u001b[0m\u001b[0;36m13.0939\u001b[0m\u001b[0;34m)\u001b[0m\u001b[0;34m\u001b[0m\u001b[0m\n\u001b[0m",
      "\u001b[0;31mNameError\u001b[0m: name 'data' is not defined"
     ]
    }
   ],
   "source": [
    "# how does it look?\n",
    "plt.imshow(data, cmap='gray', origin='lower', vmin=11.85, vmax=13.0939)"
   ]
  },
  {
   "cell_type": "code",
   "execution_count": 7,
   "metadata": {},
   "outputs": [
    {
     "ename": "NameError",
     "evalue": "name 'data' is not defined",
     "output_type": "error",
     "traceback": [
      "\u001b[0;31m---------------------------------------------------------------------------\u001b[0m",
      "\u001b[0;31mNameError\u001b[0m                                 Traceback (most recent call last)",
      "\u001b[0;32m<ipython-input-7-b0e8a72ad4fe>\u001b[0m in \u001b[0;36m<module>\u001b[0;34m()\u001b[0m\n\u001b[1;32m      3\u001b[0m \u001b[0mposition\u001b[0m \u001b[0;34m=\u001b[0m \u001b[0;34m(\u001b[0m\u001b[0;36m902\u001b[0m\u001b[0;34m,\u001b[0m \u001b[0;36m1257\u001b[0m\u001b[0;34m)\u001b[0m\u001b[0;34m\u001b[0m\u001b[0m\n\u001b[1;32m      4\u001b[0m \u001b[0msize\u001b[0m\u001b[0;34m=\u001b[0m\u001b[0;34m(\u001b[0m\u001b[0;36m100\u001b[0m\u001b[0;34m,\u001b[0m\u001b[0;36m100\u001b[0m\u001b[0;34m)\u001b[0m\u001b[0;34m\u001b[0m\u001b[0m\n\u001b[0;32m----> 5\u001b[0;31m \u001b[0mcutout\u001b[0m\u001b[0;34m=\u001b[0m\u001b[0mCutout2D\u001b[0m \u001b[0;34m(\u001b[0m\u001b[0mdata\u001b[0m\u001b[0;34m,\u001b[0m\u001b[0mposition\u001b[0m\u001b[0;34m,\u001b[0m\u001b[0msize\u001b[0m\u001b[0;34m)\u001b[0m\u001b[0;34m\u001b[0m\u001b[0m\n\u001b[0m\u001b[1;32m      6\u001b[0m \u001b[0mplt\u001b[0m\u001b[0;34m.\u001b[0m\u001b[0mimshow\u001b[0m\u001b[0;34m(\u001b[0m\u001b[0mcutout\u001b[0m\u001b[0;34m.\u001b[0m\u001b[0mdata\u001b[0m\u001b[0;34m,\u001b[0m\u001b[0mcmap\u001b[0m\u001b[0;34m=\u001b[0m\u001b[0;34m'gray'\u001b[0m\u001b[0;34m,\u001b[0m \u001b[0morigin\u001b[0m\u001b[0;34m=\u001b[0m\u001b[0;34m'lower'\u001b[0m\u001b[0;34m,\u001b[0m \u001b[0mvmin\u001b[0m\u001b[0;34m=\u001b[0m\u001b[0;36m11.85\u001b[0m\u001b[0;34m,\u001b[0m \u001b[0mvmax\u001b[0m\u001b[0;34m=\u001b[0m\u001b[0;36m13.093\u001b[0m\u001b[0;34m)\u001b[0m\u001b[0;34m\u001b[0m\u001b[0m\n",
      "\u001b[0;31mNameError\u001b[0m: name 'data' is not defined"
     ]
    }
   ],
   "source": [
    "#cut\n",
    "from astropy.nddata import Cutout2D\n",
    "position = (902, 1257)\n",
    "size=(100,100)\n",
    "cutout=Cutout2D (data,position,size)\n",
    "plt.imshow(cutout.data,cmap='gray', origin='lower', vmin=11.85, vmax=13.093)"
   ]
  },
  {
   "cell_type": "markdown",
   "metadata": {},
   "source": [
    "We first need to estimate an initial guess of the ellipse geometry and pass it to the fitters."
   ]
  },
  {
   "cell_type": "code",
   "execution_count": 8,
   "metadata": {},
   "outputs": [],
   "source": [
    "# image statistics \n",
    "mean, median, std = sigma_clipped_stats(cutout.data, sigma=3.0)\n",
    "# subract background\n",
    "data_sub = cutout.data - median\n",
    "# first guess\n",
    "cat = data_properties(data_sub)\n",
    "columns = ['id', 'xcentroid', 'ycentroid', 'semimajor_axis_sigma',\n",
    "           'semiminor_axis_sigma', 'orientation']\n",
    "tbl = cat.to_table(columns=columns)\n",
    "# initialize an ellipse with the properties that we guessed\n",
    "geometry = EllipseGeometry(x0=tbl['xcentroid'][0].value,\n",
    "                           y0=tbl['ycentroid'][0].value,\n",
    "                           pa=tbl['orientation'][0].value,\n",
    "                           sma=tbl['semimajor_axis_sigma'][0].value,\n",
    "                           eps=tbl['semiminor_axis_sigma'][0].value/tbl['semimajor_axis_sigma'][0].value\n",
    "                           )"
   ]
  },
  {
   "cell_type": "code",
   "execution_count": 1,
   "metadata": {},
   "outputs": [
    {
     "ename": "NameError",
     "evalue": "name 'EllipseGeometry' is not defined",
     "output_type": "error",
     "traceback": [
      "\u001b[0;31m---------------------------------------------------------------------------\u001b[0m",
      "\u001b[0;31mNameError\u001b[0m                                 Traceback (most recent call last)",
      "\u001b[0;32m<ipython-input-1-c98a42c66c91>\u001b[0m in \u001b[0;36m<module>\u001b[0;34m()\u001b[0m\n\u001b[1;32m      1\u001b[0m \u001b[0;31m# how does it look?\u001b[0m\u001b[0;34m\u001b[0m\u001b[0;34m\u001b[0m\u001b[0m\n\u001b[0;32m----> 2\u001b[0;31m \u001b[0mgeometry\u001b[0m \u001b[0;34m=\u001b[0m \u001b[0mEllipseGeometry\u001b[0m \u001b[0;34m(\u001b[0m\u001b[0mx0\u001b[0m\u001b[0;34m=\u001b[0m\u001b[0;36m50\u001b[0m\u001b[0;34m,\u001b[0m \u001b[0my0\u001b[0m\u001b[0;34m=\u001b[0m\u001b[0;36m40\u001b[0m\u001b[0;34m,\u001b[0m \u001b[0msma\u001b[0m\u001b[0;34m=\u001b[0m\u001b[0;36m40\u001b[0m\u001b[0;34m,\u001b[0m \u001b[0meps\u001b[0m\u001b[0;34m=\u001b[0m\u001b[0;36m0.6\u001b[0m\u001b[0;34m,\u001b[0m\u001b[0mpa\u001b[0m\u001b[0;34m=\u001b[0m\u001b[0;36m75\u001b[0m\u001b[0;34m*\u001b[0m\u001b[0mnp\u001b[0m\u001b[0;34m.\u001b[0m\u001b[0mpi\u001b[0m\u001b[0;34m/\u001b[0m\u001b[0;36m180\u001b[0m\u001b[0;34m)\u001b[0m\u001b[0;34m\u001b[0m\u001b[0m\n\u001b[0m\u001b[1;32m      3\u001b[0m \u001b[0mplt\u001b[0m\u001b[0;34m.\u001b[0m\u001b[0mimshow\u001b[0m\u001b[0;34m(\u001b[0m\u001b[0mcutout\u001b[0m\u001b[0;34m.\u001b[0m\u001b[0mdata\u001b[0m\u001b[0;34m,\u001b[0m \u001b[0mcmap\u001b[0m\u001b[0;34m=\u001b[0m\u001b[0;34m'gray'\u001b[0m\u001b[0;34m,\u001b[0m \u001b[0morigin\u001b[0m\u001b[0;34m=\u001b[0m\u001b[0;34m'lower'\u001b[0m\u001b[0;34m,\u001b[0m \u001b[0mvmin\u001b[0m\u001b[0;34m=\u001b[0m\u001b[0;36m11.85\u001b[0m\u001b[0;34m,\u001b[0m \u001b[0mvmax\u001b[0m\u001b[0;34m=\u001b[0m\u001b[0;36m13.093\u001b[0m\u001b[0;34m)\u001b[0m\u001b[0;34m\u001b[0m\u001b[0m\n\u001b[1;32m      4\u001b[0m \u001b[0mgeometry\u001b[0m\u001b[0;34m.\u001b[0m\u001b[0msma\u001b[0m\u001b[0;34m\u001b[0m\u001b[0m\n\u001b[1;32m      5\u001b[0m aper = EllipticalAperture(positions=(geometry.x0, geometry.y0), \n",
      "\u001b[0;31mNameError\u001b[0m: name 'EllipseGeometry' is not defined"
     ]
    }
   ],
   "source": [
    "# how does it look?\n",
    "geometry = EllipseGeometry (x0=50, y0=40, sma=40, eps=0.6,pa=75*np.pi/180)\n",
    "plt.imshow(cutout.data, cmap='gray', origin='lower', vmin=11.85, vmax=13.093)\n",
    "geometry.sma\n",
    "aper = EllipticalAperture(positions=(geometry.x0, geometry.y0), \n",
    "                          a=geometry.sma,\n",
    "                          b=geometry.sma*(geometry.eps),\n",
    "                          theta=geometry.pa)\n",
    "aper.plot(color='r')"
   ]
  },
  {
   "cell_type": "markdown",
   "metadata": {},
   "source": [
    "Now we want to initiliaze an instance of the Ellipse class with the data and our initial guess and fit the data:"
   ]
  },
  {
   "cell_type": "code",
   "execution_count": 11,
   "metadata": {},
   "outputs": [],
   "source": [
    "ellipse = Ellipse(data_sub, geometry)\n",
    "isolist = ellipse.fit_image()"
   ]
  },
  {
   "cell_type": "code",
   "execution_count": 12,
   "metadata": {},
   "outputs": [
    {
     "data": {
      "text/html": [
       "&lt;QTable length=48&gt;\n",
       "<table id=\"table47612916048\" class=\"table-striped table-bordered table-condensed\">\n",
       "<thead><tr><th>sma</th><th>intens</th><th>intens_err</th><th>ellipticity</th><th>ellipticity_err</th><th>pa</th><th>pa_err</th><th>grad_rerr</th><th>ndata</th><th>flag</th><th>niter</th><th>stop_code</th></tr></thead>\n",
       "<thead><tr><th></th><th></th><th></th><th></th><th></th><th>deg</th><th>deg</th><th></th><th></th><th></th><th></th><th></th></tr></thead>\n",
       "<thead><tr><th>float64</th><th>float64</th><th>float64</th><th>float64</th><th>float64</th><th>float64</th><th>float64</th><th>object</th><th>int64</th><th>int64</th><th>int64</th><th>int64</th></tr></thead>\n",
       "<tr><td>0.0</td><td>12.187864924559262</td><td>0.0</td><td>0.0</td><td>0.0</td><td>0.0</td><td>0.0</td><td>None</td><td>1</td><td>0</td><td>0</td><td>0</td></tr>\n",
       "<tr><td>0.5303938494175516</td><td>11.855297330192089</td><td>0.009209839661678319</td><td>0.20912964891598376</td><td>0.01885867418089235</td><td>84.6947918041</td><td>3.28794816629</td><td>0.3357803890710096</td><td>13</td><td>0</td><td>10</td><td>0</td></tr>\n",
       "<tr><td>0.5834332343593068</td><td>11.816450868035206</td><td>0.010025406639158537</td><td>0.21122421902271135</td><td>0.019303484086543782</td><td>84.1434872264</td><td>2.96497636581</td><td>0.3346190450021897</td><td>13</td><td>0</td><td>10</td><td>0</td></tr>\n",
       "<tr><td>0.6417765577952376</td><td>11.77426529388243</td><td>0.010942338017261417</td><td>0.21352034841212444</td><td>0.01928526022958993</td><td>83.5217156556</td><td>3.09465853991</td><td>0.33464066429002576</td><td>13</td><td>0</td><td>10</td><td>0</td></tr>\n",
       "<tr><td>0.7059542135747613</td><td>11.728669577847253</td><td>0.011984496993559704</td><td>0.216373403775039</td><td>0.0192818496021156</td><td>82.8225502742</td><td>2.85366151117</td><td>0.3362296620102344</td><td>13</td><td>0</td><td>10</td><td>0</td></tr>\n",
       "<tr><td>0.7765496349322375</td><td>11.67951283603498</td><td>0.013189379474656667</td><td>0.21976794530426644</td><td>0.019671270223080566</td><td>82.0341590339</td><td>3.43119768231</td><td>0.3399324534949518</td><td>13</td><td>0</td><td>10</td><td>0</td></tr>\n",
       "<tr><td>0.8542045984254613</td><td>11.626802761454286</td><td>0.014649599546624243</td><td>0.22385208443517052</td><td>0.01894207455437845</td><td>81.0800458958</td><td>2.91519675512</td><td>0.3178953701831729</td><td>13</td><td>0</td><td>10</td><td>0</td></tr>\n",
       "<tr><td>0.9396250582680075</td><td>11.55857369843677</td><td>0.015167074214767904</td><td>0.2126398650229936</td><td>0.016644051687175643</td><td>79.7166881793</td><td>2.68063584079</td><td>0.2777238544996696</td><td>13</td><td>0</td><td>10</td><td>0</td></tr>\n",
       "<tr><td>1.0335875640948082</td><td>11.470896281526878</td><td>0.017737568056772613</td><td>0.18782871625341588</td><td>0.016676796082978215</td><td>77.451943329</td><td>2.99751724782</td><td>0.2802899346386327</td><td>13</td><td>0</td><td>10</td><td>0</td></tr>\n",
       "<tr><td>...</td><td>...</td><td>...</td><td>...</td><td>...</td><td>...</td><td>...</td><td>...</td><td>...</td><td>...</td><td>...</td><td>...</td></tr>\n",
       "<tr><td>18.035485186008746</td><td>1.0487715101780093</td><td>0.007844996153111973</td><td>0.16168512878321709</td><td>0.001545295595354443</td><td>45.2719287031</td><td>0.300771143458</td><td>0.06820364563283529</td><td>104</td><td>0</td><td>10</td><td>0</td></tr>\n",
       "<tr><td>19.839033704609623</td><td>0.8674180538078266</td><td>0.007559297644097554</td><td>0.14971084572180204</td><td>0.0016674859449005135</td><td>48.3971751938</td><td>0.346815718948</td><td>0.07257774218468863</td><td>115</td><td>0</td><td>10</td><td>0</td></tr>\n",
       "<tr><td>21.822937075070588</td><td>0.7286551394188795</td><td>0.006501213370818812</td><td>0.1523948969091753</td><td>0.001223125281612414</td><td>40.9448494777</td><td>0.252732884209</td><td>0.05861069607165535</td><td>127</td><td>0</td><td>10</td><td>0</td></tr>\n",
       "<tr><td>24.005230782577648</td><td>0.5702805079134513</td><td>0.006675343370545726</td><td>0.1523948969091753</td><td>0.0018555614376858658</td><td>43.2803512127</td><td>0.38008648877</td><td>0.09248159393161302</td><td>139</td><td>0</td><td>50</td><td>2</td></tr>\n",
       "<tr><td>26.405753860835414</td><td>0.4479399035027642</td><td>0.005825243752182633</td><td>0.12384305078044199</td><td>0.0013164902091238868</td><td>53.3493860408</td><td>0.32828835877</td><td>0.06895258452807952</td><td>156</td><td>0</td><td>10</td><td>0</td></tr>\n",
       "<tr><td>29.04632924691896</td><td>0.32370887193205233</td><td>0.005908391826359902</td><td>0.12384305078044199</td><td>0.002137932690133255</td><td>53.3493860408</td><td>0.529809370182</td><td>0.11210430830129582</td><td>171</td><td>0</td><td>50</td><td>2</td></tr>\n",
       "<tr><td>31.950962171610858</td><td>0.21919841301173645</td><td>0.005501361753332569</td><td>0.08837652128371444</td><td>0.0014921516719270684</td><td>49.509156314</td><td>0.508430748138</td><td>0.07908844683806146</td><td>192</td><td>0</td><td>10</td><td>0</td></tr>\n",
       "<tr><td>35.14605838877195</td><td>0.1439783423591476</td><td>0.00505099347178684</td><td>0.11489577287382287</td><td>0.0019848782498798584</td><td>46.2300456127</td><td>0.527609510049</td><td>0.12210354997324958</td><td>208</td><td>0</td><td>50</td><td>2</td></tr>\n",
       "<tr><td>38.66066422764914</td><td>0.0818036026761584</td><td>0.005667658579387829</td><td>0.11489577287382287</td><td>0.0019080077049437843</td><td>46.2300456127</td><td>0.507987523153</td><td>0.11324221928610904</td><td>229</td><td>0</td><td>4</td><td>5</td></tr>\n",
       "<tr><td>42.52673065041406</td><td>0.013908487677063304</td><td>0.005195390437902967</td><td>0.11489577287382287</td><td>0.002017336015375156</td><td>46.2300456127</td><td>0.537485337064</td><td>0.13720036907275177</td><td>252</td><td>0</td><td>1</td><td>5</td></tr>\n",
       "</table>"
      ],
      "text/plain": [
       "<QTable length=48>\n",
       "       sma                intens             intens_err      ... niter stop_code\n",
       "                                                             ...                \n",
       "     float64             float64              float64        ... int64   int64  \n",
       "------------------ -------------------- -------------------- ... ----- ---------\n",
       "               0.0   12.187864924559262                  0.0 ...     0         0\n",
       "0.5303938494175516   11.855297330192089 0.009209839661678319 ...    10         0\n",
       "0.5834332343593068   11.816450868035206 0.010025406639158537 ...    10         0\n",
       "0.6417765577952376    11.77426529388243 0.010942338017261417 ...    10         0\n",
       "0.7059542135747613   11.728669577847253 0.011984496993559704 ...    10         0\n",
       "0.7765496349322375    11.67951283603498 0.013189379474656667 ...    10         0\n",
       "0.8542045984254613   11.626802761454286 0.014649599546624243 ...    10         0\n",
       "0.9396250582680075    11.55857369843677 0.015167074214767904 ...    10         0\n",
       "1.0335875640948082   11.470896281526878 0.017737568056772613 ...    10         0\n",
       "               ...                  ...                  ... ...   ...       ...\n",
       "18.035485186008746   1.0487715101780093 0.007844996153111973 ...    10         0\n",
       "19.839033704609623   0.8674180538078266 0.007559297644097554 ...    10         0\n",
       "21.822937075070588   0.7286551394188795 0.006501213370818812 ...    10         0\n",
       "24.005230782577648   0.5702805079134513 0.006675343370545726 ...    50         2\n",
       "26.405753860835414   0.4479399035027642 0.005825243752182633 ...    10         0\n",
       " 29.04632924691896  0.32370887193205233 0.005908391826359902 ...    50         2\n",
       "31.950962171610858  0.21919841301173645 0.005501361753332569 ...    10         0\n",
       " 35.14605838877195   0.1439783423591476  0.00505099347178684 ...    50         2\n",
       " 38.66066422764914   0.0818036026761584 0.005667658579387829 ...     4         5\n",
       " 42.52673065041406 0.013908487677063304 0.005195390437902967 ...     1         5"
      ]
     },
     "execution_count": 12,
     "metadata": {},
     "output_type": "execute_result"
    }
   ],
   "source": [
    "# save the output as a table\n",
    "tab = isolist.to_table()\n",
    "tab"
   ]
  },
  {
   "cell_type": "code",
   "execution_count": 13,
   "metadata": {},
   "outputs": [
    {
     "data": {
      "text/plain": [
       "Text(0,0.5,'Ellipticity')"
      ]
     },
     "execution_count": 13,
     "metadata": {},
     "output_type": "execute_result"
    },
    {
     "data": {
      "image/png": "[encoded data removed]",
      "text/plain": [
       "<Figure size 432x288 with 3 Axes>"
      ]
     },
     "metadata": {
      "needs_background": "light"
     },
     "output_type": "display_data"
    }
   ],
   "source": [
    "# have a look at some of the fitted parameters:\n",
    "fig = plt.figure()\n",
    "ax1 = fig.add_subplot(221)\n",
    "fig.subplots_adjust(wspace=0.4)\n",
    "ax1.errorbar(tab['sma'], tab['intens'],\n",
    "             yerr=tab['intens_err'],\n",
    "             fmt='.')\n",
    "ax1.set_ylabel('Intensity')\n",
    "ax2 = fig.add_subplot(222, sharex=ax1)\n",
    "ax2.errorbar(tab['sma'], tab['pa'].value,\n",
    "             yerr=tab['pa_err'].value,\n",
    "             fmt='.')\n",
    "ax2.set_ylabel('PA')\n",
    "ax3 = fig.add_subplot(223, sharex=ax1)\n",
    "ax3.errorbar(tab['sma'], tab['ellipticity'],\n",
    "             yerr=tab['ellipticity_err'],\n",
    "             fmt='.')\n",
    "ax3.set_ylabel('Ellipticity')\n",
    "# ax4 = fig.add_subplot(224, sharex=ax1)\n",
    "# ax4.errorbar(tab['sma'], tab['x0'],\n",
    "#              yerr=tab['x0_err'],\n",
    "#              fmt='.')\n",
    "# ax4.set_ylabel('x0')"
   ]
  },
  {
   "cell_type": "markdown",
   "metadata": {},
   "source": [
    "We can also build a model image from the fit that we just calculated and deterime the residuals of the fit:"
   ]
  },
  {
   "cell_type": "code",
   "execution_count": 16,
   "metadata": {},
   "outputs": [
    {
     "ename": "KeyboardInterrupt",
     "evalue": "",
     "output_type": "error",
     "traceback": [
      "\u001b[0;31m---------------------------------------------------------------------------\u001b[0m",
      "\u001b[0;31mKeyboardInterrupt\u001b[0m                         Traceback (most recent call last)",
      "\u001b[0;32m<ipython-input-16-7ce8de326213>\u001b[0m in \u001b[0;36m<module>\u001b[0;34m()\u001b[0m\n\u001b[0;32m----> 1\u001b[0;31m \u001b[0mmodel_image\u001b[0m \u001b[0;34m=\u001b[0m \u001b[0mbuild_ellipse_model\u001b[0m\u001b[0;34m(\u001b[0m\u001b[0mcutout\u001b[0m\u001b[0;34m.\u001b[0m\u001b[0mdata\u001b[0m\u001b[0;34m.\u001b[0m\u001b[0mshape\u001b[0m\u001b[0;34m,\u001b[0m \u001b[0misolist\u001b[0m\u001b[0;34m)\u001b[0m\u001b[0;34m\u001b[0m\u001b[0m\n\u001b[0m\u001b[1;32m      2\u001b[0m \u001b[0mresidual\u001b[0m \u001b[0;34m=\u001b[0m \u001b[0mcutout\u001b[0m\u001b[0;34m.\u001b[0m\u001b[0mdata\u001b[0m \u001b[0;34m-\u001b[0m \u001b[0mmodel_image\u001b[0m\u001b[0;34m\u001b[0m\u001b[0m\n",
      "\u001b[0;32m/Users/lasilla/opt/anaconda2/envs/photanalysis/lib/python2.7/site-packages/photutils/isophote/model.pyc\u001b[0m in \u001b[0;36mbuild_ellipse_model\u001b[0;34m(shape, isolist, fill, high_harmonics)\u001b[0m\n\u001b[1;32m    128\u001b[0m \u001b[0;34m\u001b[0m\u001b[0m\n\u001b[1;32m    129\u001b[0m             \u001b[0;31m# if outside image boundaries, ignore.\u001b[0m\u001b[0;34m\u001b[0m\u001b[0;34m\u001b[0m\u001b[0m\n\u001b[0;32m--> 130\u001b[0;31m             \u001b[0;32mif\u001b[0m \u001b[0;34m(\u001b[0m\u001b[0mi\u001b[0m \u001b[0;34m>\u001b[0m \u001b[0;36m0\u001b[0m \u001b[0;32mand\u001b[0m \u001b[0mi\u001b[0m \u001b[0;34m<\u001b[0m \u001b[0mshape\u001b[0m\u001b[0;34m[\u001b[0m\u001b[0;36m1\u001b[0m\u001b[0;34m]\u001b[0m \u001b[0;34m-\u001b[0m \u001b[0;36m1\u001b[0m \u001b[0;32mand\u001b[0m \u001b[0mj\u001b[0m \u001b[0;34m>\u001b[0m \u001b[0;36m0\u001b[0m \u001b[0;32mand\u001b[0m \u001b[0mj\u001b[0m \u001b[0;34m<\u001b[0m \u001b[0mshape\u001b[0m\u001b[0;34m[\u001b[0m\u001b[0;36m0\u001b[0m\u001b[0;34m]\u001b[0m \u001b[0;34m-\u001b[0m \u001b[0;36m1\u001b[0m\u001b[0;34m)\u001b[0m\u001b[0;34m:\u001b[0m\u001b[0;34m\u001b[0m\u001b[0m\n\u001b[0m\u001b[1;32m    131\u001b[0m                 \u001b[0;31m# get fractional deviations relative to target array\u001b[0m\u001b[0;34m\u001b[0m\u001b[0;34m\u001b[0m\u001b[0m\n\u001b[1;32m    132\u001b[0m                 \u001b[0mfx\u001b[0m \u001b[0;34m=\u001b[0m \u001b[0mx\u001b[0m \u001b[0;34m-\u001b[0m \u001b[0mfloat\u001b[0m\u001b[0;34m(\u001b[0m\u001b[0mi\u001b[0m\u001b[0;34m)\u001b[0m\u001b[0;34m\u001b[0m\u001b[0m\n",
      "\u001b[0;31mKeyboardInterrupt\u001b[0m: "
     ]
    }
   ],
   "source": [
    "model_image = build_ellipse_model(cutout.data.shape, isolist)\n",
    "residual = cutout.data - model_image"
   ]
  },
  {
   "cell_type": "code",
   "execution_count": null,
   "metadata": {},
   "outputs": [],
   "source": [
    "fig = plt.figure()\n",
    "fig.subplots_adjust(wspace=0.5)\n",
    "ax1 = fig.add_subplot(131)\n",
    "ax1.imshow(cutout.data, cmap='gray', origin='lower')\n",
    "ax1.set_title('Data')\n",
    "ax2 = fig.add_subplot(132)\n",
    "ax2.imshow(model_image, cmap='gray', origin='lower')\n",
    "ax2.set_title('Model')\n",
    "ax3 = fig.add_subplot(133)\n",
    "ax3.imshow(residual, cmap='gray', origin='lower')\n",
    "ax3.set_title('Residual')"
   ]
  },
  {
   "cell_type": "code",
   "execution_count": null,
   "metadata": {},
   "outputs": [],
   "source": []
  }
 ],
 "metadata": {
  "kernelspec": {
   "display_name": "Python 2",
   "language": "python",
   "name": "python2"
  },
  "language_info": {
   "codemirror_mode": {
    "name": "ipython",
    "version": 2
   },
   "file_extension": ".py",
   "mimetype": "text/x-python",
   "name": "python",
   "nbconvert_exporter": "python",
   "pygments_lexer": "ipython2",
   "version": "2.7.17"
  }
 },
 "nbformat": 4,
 "nbformat_minor": 2
}
