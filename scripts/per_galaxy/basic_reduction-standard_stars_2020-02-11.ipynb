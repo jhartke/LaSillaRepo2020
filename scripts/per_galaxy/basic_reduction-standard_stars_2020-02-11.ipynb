{
 "cells": [
  {
   "cell_type": "markdown",
   "metadata": {},
   "source": [
    "# Reduction of DFOSC data with CCDproc "
   ]
  },
  {
   "cell_type": "markdown",
   "metadata": {},
   "source": [
    "See here for the documentation of https://ccdproc.readthedocs.io/en/latest/reduction_toolbox.html#clean-image "
   ]
  },
  {
   "cell_type": "code",
   "execution_count": 12,
   "metadata": {},
   "outputs": [],
   "source": [
    "# import the relevant packages \n",
    "import sys\n",
    "import os\n",
    "import numpy as np\n",
    "  \n",
    "from astropy.io import fits\n",
    "from astropy import units as u\n",
    "\n",
    "import ccdproc \n",
    "from ccdproc import CCDData\n",
    "\n",
    "from ccdproc import ImageFileCollection"
   ]
  },
  {
   "cell_type": "markdown",
   "metadata": {},
   "source": [
    "Define where are the raw and the reduced data? "
   ]
  },
  {
   "cell_type": "code",
   "execution_count": 13,
   "metadata": {},
   "outputs": [],
   "source": [
    "inputdir = '/Users/lasilla/data/2020-02-11/raw/'\n",
    "outputdir = '/Users/lasilla/data/2020-02-11/reduced/'"
   ]
  },
  {
   "cell_type": "code",
   "execution_count": 14,
   "metadata": {},
   "outputs": [],
   "source": [
    "# if there's no output directory, make one: \n",
    "if not os.path.isdir(outputdir): \n",
    "    os.mkdir(outputdir)\n",
    "os.chdir(outputdir)"
   ]
  },
  {
   "cell_type": "markdown",
   "metadata": {},
   "source": [
    "Some properties of the DFOSC CCD"
   ]
  },
  {
   "cell_type": "code",
   "execution_count": 15,
   "metadata": {},
   "outputs": [],
   "source": [
    "gain = 0.164 * u.electron / u.adu\n",
    "ron = 4 * u.electron"
   ]
  },
  {
   "cell_type": "markdown",
   "metadata": {},
   "source": [
    "We first want to sort the data according to its type (i.e. bias, flat...). The keyword in the fits header is `object`."
   ]
  },
  {
   "cell_type": "code",
   "execution_count": 16,
   "metadata": {},
   "outputs": [
    {
     "data": {
      "text/plain": [
       "['Bias_000001.fits',\n",
       " 'Bias_000002.fits',\n",
       " 'Bias_000003.fits',\n",
       " 'Bias_000004.fits',\n",
       " 'Bias_000005.fits',\n",
       " 'Bias_000006.fits',\n",
       " 'Bias_000007.fits',\n",
       " 'Bias_000008.fits',\n",
       " 'Bias_000009.fits',\n",
       " 'Bias_000010.fits',\n",
       " 'Bias_000011.fits',\n",
       " 'ESO219g021_V_000001.fits',\n",
       " 'ESO219g021_test_000001.fits',\n",
       " 'ESO219g021_test_000002.fits',\n",
       " 'ESO482G005_V_000001.fits',\n",
       " 'ESO482G005_V_000002.fits',\n",
       " 'ESO482G005_V_000003.fits',\n",
       " 'ESO482G005_V_000004.fits',\n",
       " 'ESO482G005_test_000001.fits',\n",
       " 'Flat_B_000001.fits',\n",
       " 'Flat_B_000002.fits',\n",
       " 'Flat_B_000003.fits',\n",
       " 'Flat_B_000004.fits',\n",
       " 'Flat_B_000005.fits',\n",
       " 'Flat_B_000006.fits',\n",
       " 'Flat_B_000007.fits',\n",
       " 'Flat_B_test_000001.fits',\n",
       " 'Flat_B_test_000002.fits',\n",
       " 'Flat_I_000001.fits',\n",
       " 'Flat_I_000002.fits',\n",
       " 'Flat_I_000003.fits',\n",
       " 'Flat_I_000004.fits',\n",
       " 'Flat_I_000005.fits',\n",
       " 'Flat_I_000006.fits',\n",
       " 'Flat_I_000007.fits',\n",
       " 'Flat_R_000001.fits',\n",
       " 'Flat_R_000002.fits',\n",
       " 'Flat_R_000003.fits',\n",
       " 'Flat_R_000004.fits',\n",
       " 'Flat_R_000005.fits',\n",
       " 'Flat_V_000001.fits',\n",
       " 'Flat_V_000002.fits',\n",
       " 'Flat_V_000003.fits',\n",
       " 'Flat_V_000004.fits',\n",
       " 'Flat_V_000005.fits',\n",
       " 'Flat_V_test_000001.fits',\n",
       " 'Flat_halph_000001.fits',\n",
       " 'Flat_halph_000002.fits',\n",
       " 'Flat_halph_000003.fits',\n",
       " 'Flat_halph_000004.fits',\n",
       " 'Flat_halph_000005.fits',\n",
       " 'Flat_halph_000006.fits',\n",
       " 'Flat_halph_000007.fits',\n",
       " 'Flat_halph_000008.fits',\n",
       " 'Flat_halph_000009.fits',\n",
       " 'Flat_halph_000010.fits',\n",
       " 'Flat_halph_000011.fits',\n",
       " 'Flat_halph_000012.fits',\n",
       " 'Flat_halph_000013.fits',\n",
       " 'Flat_halph_test_000001.fits',\n",
       " 'M105_I_test_000001.fits',\n",
       " 'M105_I_test_000002.fits',\n",
       " 'M105_I_test_000003.fits',\n",
       " 'M105_I_test_000004.fits',\n",
       " 'M105_I_test_000005.fits',\n",
       " 'M105_V_test_000001.fits',\n",
       " 'M105_V_test_000002.fits',\n",
       " 'M105_V_test_000003.fits',\n",
       " 'M105_V_test_000004.fits',\n",
       " 'M105_V_test_000005.fits',\n",
       " 'M105_V_test_000006.fits',\n",
       " 'M105_V_test_000007.fits',\n",
       " 'M105_V_test_000008.fits',\n",
       " 'NGC2207_B_000001.fits',\n",
       " 'NGC2207_B_000002.fits',\n",
       " 'NGC2207_B_000003.fits',\n",
       " 'NGC2207_B_000004.fits',\n",
       " 'NGC2207_Halph_000001.fits',\n",
       " 'NGC2207_Halph_000002.fits',\n",
       " 'NGC2207_Halph_000003.fits',\n",
       " 'NGC2207_I_000001.fits',\n",
       " 'NGC2207_I_000002.fits',\n",
       " 'NGC2207_I_000003.fits',\n",
       " 'NGC2207_R_000001.fits',\n",
       " 'NGC2207_R_000002.fits',\n",
       " 'NGC2207_R_000003.fits',\n",
       " 'NGC2207_V_000001.fits',\n",
       " 'NGC2207_V_000002.fits',\n",
       " 'NGC2207_V_000003.fits',\n",
       " 'NGC2207_V_000004.fits',\n",
       " 'NGC2207_test_000001.fits',\n",
       " 'NGC2217_B_000001.fits',\n",
       " 'NGC2217_B_000002.fits',\n",
       " 'NGC2217_B_000003.fits',\n",
       " 'NGC2217_B_000004.fits',\n",
       " 'NGC2217_Halph_000001.fits',\n",
       " 'NGC2217_Halph_000002.fits',\n",
       " 'NGC2217_Halph_000003.fits',\n",
       " 'NGC2217_I_000001.fits',\n",
       " 'NGC2217_I_000002.fits',\n",
       " 'NGC2217_I_000003.fits',\n",
       " 'NGC2217_R_000001.fits',\n",
       " 'NGC2217_R_000002.fits',\n",
       " 'NGC2217_R_000003.fits',\n",
       " 'NGC2217_V_000001.fits',\n",
       " 'NGC2217_V_000002.fits',\n",
       " 'NGC2217_V_000003.fits',\n",
       " 'NGC2217_V_000004.fits',\n",
       " 'NGC2217_V_000005.fits',\n",
       " 'NGC2217_test_000001.fits',\n",
       " 'NGC2997_B_test_000001.fits',\n",
       " 'NGC2997_B_test_000002.fits',\n",
       " 'NGC2997_B_test_000003.fits',\n",
       " 'NGC2997_B_test_000004.fits',\n",
       " 'NGC2997_B_test_000005.fits',\n",
       " 'NGC3265_B_000001.fits',\n",
       " 'NGC3265_B_000002.fits',\n",
       " 'NGC3265_B_test_000001.fits',\n",
       " 'NGC4930_test_000001.fits',\n",
       " 'OmegaCen_test_000001.fits',\n",
       " 'OmegaCen_test_000002.fits',\n",
       " 'OmegaCen_test_000003.fits',\n",
       " 'OmegaCen_test_000004.fits',\n",
       " 'OmegaCen_test_000005.fits',\n",
       " 'OmegaCen_test_000006.fits',\n",
       " 'OmegaCen_test_000007.fits',\n",
       " 'SA95107_B_000003.fits',\n",
       " 'SA95107_Halph_000001.fits',\n",
       " 'SA95107_I_000001.fits',\n",
       " 'SA95107_R_000001.fits',\n",
       " 'SA95107_V_000001.fits',\n",
       " 'SA95107_V_test_000001.fits',\n",
       " 'SA95107_test_000001.fits',\n",
       " 'focus_test_000001.fits',\n",
       " 'focus_test_000002.fits',\n",
       " 'focus_test_000003.fits',\n",
       " 'focus_test_000004.fits']"
      ]
     },
     "execution_count": 16,
     "metadata": {},
     "output_type": "execute_result"
    }
   ],
   "source": [
    "# collect the image files \n",
    "ifc = ImageFileCollection(inputdir, keywords='*')\n",
    "ifc.files"
   ]
  },
  {
   "cell_type": "code",
   "execution_count": 17,
   "metadata": {},
   "outputs": [],
   "source": [
    "matches_bias = ifc.summary['object'] == 'Bias'\n",
    "matches_flat = ifc.summary['object'] == 'Flat_I'\n",
    "matches_sci_I = (ifc.summary['object'] == 'SA95107_I') & (ifc.summary['filtb'] == 'I')\n",
    "bias_files = [ifc.location + file for file in np.array(ifc.files)[matches_bias]]\n",
    "flat_files_I = [ifc.location + file for file in np.array(ifc.files)[matches_flat]] \n",
    "science_files_I = [ifc.location + file for file in np.array(ifc.files)[matches_sci_I]]\n"
   ]
  },
  {
   "cell_type": "code",
   "execution_count": 18,
   "metadata": {},
   "outputs": [],
   "source": [
    "matches_bias = ifc.summary['object'] == 'Bias'\n",
    "matches_flat = ifc.summary['object'] == 'Flat_B'\n",
    "matches_sci_B = (ifc.summary['object'] == 'SA95107_B') & (ifc.summary['filtb'] == 'B')\n",
    "bias_files = [ifc.location + file for file in np.array(ifc.files)[matches_bias]]\n",
    "flat_files_B = [ifc.location + file for file in np.array(ifc.files)[matches_flat]] \n",
    "science_files_B = [ifc.location + file for file in np.array(ifc.files)[matches_sci_B]]\n",
    "\n"
   ]
  },
  {
   "cell_type": "code",
   "execution_count": 19,
   "metadata": {},
   "outputs": [],
   "source": [
    "matches_flat = ifc.summary['object'] == 'Flat_halph'\n",
    "matches_sci_Ha = (ifc.summary['object'] == 'SA95107_Halph') & (ifc.summary['filtb'] == 'H-alpha_rs')\n",
    "bias_files = [ifc.location + file for file in np.array(ifc.files)[matches_bias]]\n",
    "flat_files_Ha = [ifc.location + file for file in np.array(ifc.files)[matches_flat]] \n",
    "science_files_Ha = [ifc.location + file for file in np.array(ifc.files)[matches_sci_Ha]]\n",
    "\n",
    "\n"
   ]
  },
  {
   "cell_type": "code",
   "execution_count": 20,
   "metadata": {},
   "outputs": [],
   "source": [
    "matches_flat = ifc.summary['object'] == 'Flat_V'\n",
    "matches_sci_V = (ifc.summary['object'] == 'SA95107_V') & (ifc.summary['filtb'] == 'V')\n",
    "bias_files = [ifc.location + file for file in np.array(ifc.files)[matches_bias]]\n",
    "flat_files_V = [ifc.location + file for file in np.array(ifc.files)[matches_flat]] \n",
    "science_files_V = [ifc.location + file for file in np.array(ifc.files)[matches_sci_V]]"
   ]
  },
  {
   "cell_type": "code",
   "execution_count": 21,
   "metadata": {},
   "outputs": [],
   "source": [
    "matches_flat = ifc.summary['object'] == 'Flat_R'\n",
    "matches_sci_R = (ifc.summary['object'] == 'SA95107_R') & (ifc.summary['filtb'] == 'R')\n",
    "bias_files = [ifc.location + file for file in np.array(ifc.files)[matches_bias]]\n",
    "flat_files_R = [ifc.location + file for file in np.array(ifc.files)[matches_flat]] \n",
    "science_files_R = [ifc.location + file for file in np.array(ifc.files)[matches_sci_R]]"
   ]
  },
  {
   "cell_type": "code",
   "execution_count": 37,
   "metadata": {},
   "outputs": [
    {
     "name": "stdout",
     "output_type": "stream",
     "text": [
      "['/Users/lasilla/data/2020-02-11/raw/SA95107_Halph_000001.fits']\n"
     ]
    }
   ],
   "source": [
    "print(science_files_Ha)"
   ]
  },
  {
   "cell_type": "markdown",
   "metadata": {},
   "source": [
    "We next create the master bias frame:"
   ]
  },
  {
   "cell_type": "code",
   "execution_count": 38,
   "metadata": {},
   "outputs": [
    {
     "name": "stdout",
     "output_type": "stream",
     "text": [
      "/Users/lasilla/data/2020-02-11/raw/Bias_000001.fits\n",
      "/Users/lasilla/data/2020-02-11/raw/Bias_000002.fits\n",
      "/Users/lasilla/data/2020-02-11/raw/Bias_000003.fits\n",
      "/Users/lasilla/data/2020-02-11/raw/Bias_000004.fits\n",
      "/Users/lasilla/data/2020-02-11/raw/Bias_000005.fits\n",
      "/Users/lasilla/data/2020-02-11/raw/Bias_000006.fits\n",
      "/Users/lasilla/data/2020-02-11/raw/Bias_000007.fits\n",
      "/Users/lasilla/data/2020-02-11/raw/Bias_000008.fits\n",
      "/Users/lasilla/data/2020-02-11/raw/Bias_000009.fits\n",
      "/Users/lasilla/data/2020-02-11/raw/Bias_000010.fits\n",
      "/Users/lasilla/data/2020-02-11/raw/Bias_000011.fits\n"
     ]
    },
    {
     "name": "stderr",
     "output_type": "stream",
     "text": [
      "INFO:astropy:splitting each image into 1 chunks to limit memory usage to 16000000000.0 bytes.\n"
     ]
    },
    {
     "name": "stdout",
     "output_type": "stream",
     "text": [
      "INFO: splitting each image into 1 chunks to limit memory usage to 16000000000.0 bytes. [ccdproc.combiner]\n"
     ]
    }
   ],
   "source": [
    "bias_list = []\n",
    "for filename in bias_files:\n",
    "    print(filename)\n",
    "    ccd = CCDData.read(filename, unit = u.adu)\n",
    "    #this has to be fixed as the bias section does not include the whole section that will be trimmed\n",
    "    ccd = ccdproc.subtract_overscan(ccd, median=True,  overscan_axis=1, fits_section='[5:71, :]')\n",
    "    ccd = ccdproc.trim_image(ccd, fits_section='[79:2100, :]')\n",
    "    bias_list.append(ccd)\n",
    "master_bias = ccdproc.combine(bias_list, method='median')\n",
    "master_bias.write('master_bias.fits', clobber=True)"
   ]
  },
  {
   "cell_type": "markdown",
   "metadata": {},
   "source": [
    "Now we create the master flat"
   ]
  },
  {
   "cell_type": "code",
   "execution_count": 39,
   "metadata": {},
   "outputs": [
    {
     "name": "stdout",
     "output_type": "stream",
     "text": [
      "/Users/lasilla/data/2020-02-11/raw/Flat_I_000001.fits\n",
      "/Users/lasilla/data/2020-02-11/raw/Flat_I_000002.fits\n",
      "/Users/lasilla/data/2020-02-11/raw/Flat_I_000003.fits\n",
      "/Users/lasilla/data/2020-02-11/raw/Flat_I_000004.fits\n",
      "/Users/lasilla/data/2020-02-11/raw/Flat_I_000005.fits\n",
      "/Users/lasilla/data/2020-02-11/raw/Flat_I_000006.fits\n"
     ]
    },
    {
     "name": "stderr",
     "output_type": "stream",
     "text": [
      "INFO:astropy:splitting each image into 1 chunks to limit memory usage to 16000000000.0 bytes.\n"
     ]
    },
    {
     "name": "stdout",
     "output_type": "stream",
     "text": [
      "/Users/lasilla/data/2020-02-11/raw/Flat_I_000007.fits\n",
      "INFO: splitting each image into 1 chunks to limit memory usage to 16000000000.0 bytes. [ccdproc.combiner]\n"
     ]
    }
   ],
   "source": [
    "flat_I_list = []\n",
    "for filename in flat_files_I:\n",
    "    print(filename)\n",
    "    ccd = CCDData.read(filename, unit = u.adu)\n",
    "    exptime = ccd.header['EXPTIME']\n",
    "    #this has to be fixed as the bias section does not include the whole section that will be trimmed\n",
    "    ccd = ccdproc.subtract_overscan(ccd, median=True,  overscan_axis=1, fits_section='[5:71, :]')\n",
    "    ccd = ccdproc.trim_image(ccd, fits_section='[79:2100, :]')\n",
    "    ccd = ccdproc.subtract_bias(ccd, master_bias)\n",
    "    flat_I_list.append(ccd)\n",
    "master_flat_I = ccdproc.combine(flat_I_list, method='median')\n",
    "master_flat_I.write('master_flat_I.fits', clobber=True)\n",
    "# correct for the gain \n",
    "master_flat_I = ccdproc.gain_correct(master_flat_I, gain=gain)\n"
   ]
  },
  {
   "cell_type": "code",
   "execution_count": 40,
   "metadata": {},
   "outputs": [
    {
     "name": "stdout",
     "output_type": "stream",
     "text": [
      "/Users/lasilla/data/2020-02-11/raw/Flat_V_000001.fits\n",
      "/Users/lasilla/data/2020-02-11/raw/Flat_V_000002.fits\n",
      "/Users/lasilla/data/2020-02-11/raw/Flat_V_000003.fits\n",
      "/Users/lasilla/data/2020-02-11/raw/Flat_V_000004.fits\n"
     ]
    },
    {
     "name": "stderr",
     "output_type": "stream",
     "text": [
      "INFO:astropy:splitting each image into 1 chunks to limit memory usage to 16000000000.0 bytes.\n"
     ]
    },
    {
     "name": "stdout",
     "output_type": "stream",
     "text": [
      "/Users/lasilla/data/2020-02-11/raw/Flat_V_000005.fits\n",
      "INFO: splitting each image into 1 chunks to limit memory usage to 16000000000.0 bytes. [ccdproc.combiner]\n"
     ]
    }
   ],
   "source": [
    "flat_V_list = []\n",
    "for filename in flat_files_V:\n",
    "    print(filename)\n",
    "    ccd = CCDData.read(filename, unit = u.adu)\n",
    "    exptime = ccd.header['EXPTIME']\n",
    "    #this has to be fixed as the bias section does not include the whole section that will be trimmed\n",
    "    ccd = ccdproc.subtract_overscan(ccd, median=True,  overscan_axis=1, fits_section='[5:71, :]')\n",
    "    ccd = ccdproc.trim_image(ccd, fits_section='[79:2100, :]')\n",
    "    ccd = ccdproc.subtract_bias(ccd, master_bias)\n",
    "    flat_V_list.append(ccd)\n",
    "master_flat_V = ccdproc.combine(flat_V_list, method='median')\n",
    "master_flat_V.write('master_flat_V.fits', clobber=True)\n",
    "# correct for the gain \n",
    "master_flat_V = ccdproc.gain_correct(master_flat_V, gain=gain)"
   ]
  },
  {
   "cell_type": "code",
   "execution_count": 41,
   "metadata": {},
   "outputs": [
    {
     "name": "stdout",
     "output_type": "stream",
     "text": [
      "/Users/lasilla/data/2020-02-11/raw/Flat_R_000002.fits\n",
      "/Users/lasilla/data/2020-02-11/raw/Flat_R_000003.fits\n",
      "/Users/lasilla/data/2020-02-11/raw/Flat_R_000004.fits\n"
     ]
    },
    {
     "name": "stderr",
     "output_type": "stream",
     "text": [
      "INFO:astropy:splitting each image into 1 chunks to limit memory usage to 16000000000.0 bytes.\n"
     ]
    },
    {
     "name": "stdout",
     "output_type": "stream",
     "text": [
      "/Users/lasilla/data/2020-02-11/raw/Flat_R_000005.fits\n",
      "INFO: splitting each image into 1 chunks to limit memory usage to 16000000000.0 bytes. [ccdproc.combiner]\n"
     ]
    }
   ],
   "source": [
    "flat_R_list = []\n",
    "for filename in flat_files_R[1:]:\n",
    "    print(filename)\n",
    "    ccd = CCDData.read(filename, unit = u.adu)\n",
    "    exptime = ccd.header['EXPTIME']\n",
    "    #this has to be fixed as the bias section does not include the whole section that will be trimmed\n",
    "    ccd = ccdproc.subtract_overscan(ccd, median=True,  overscan_axis=1, fits_section='[5:71, :]')\n",
    "    ccd = ccdproc.trim_image(ccd, fits_section='[79:2100, :]')\n",
    "    ccd = ccdproc.subtract_bias(ccd, master_bias)\n",
    "    flat_R_list.append(ccd)\n",
    "master_flat_R = ccdproc.combine(flat_R_list, method='median')\n",
    "master_flat_R.write('master_flat_R.fits', clobber=True)\n",
    "# correct for the gain \n",
    "master_flat_R = ccdproc.gain_correct(master_flat_R, gain=gain)"
   ]
  },
  {
   "cell_type": "code",
   "execution_count": 42,
   "metadata": {},
   "outputs": [
    {
     "name": "stdout",
     "output_type": "stream",
     "text": [
      "/Users/lasilla/data/2020-02-11/raw/Flat_B_000001.fits\n",
      "/Users/lasilla/data/2020-02-11/raw/Flat_B_000002.fits\n",
      "/Users/lasilla/data/2020-02-11/raw/Flat_B_000003.fits\n",
      "/Users/lasilla/data/2020-02-11/raw/Flat_B_000004.fits\n",
      "/Users/lasilla/data/2020-02-11/raw/Flat_B_000005.fits\n",
      "/Users/lasilla/data/2020-02-11/raw/Flat_B_000006.fits\n"
     ]
    },
    {
     "name": "stderr",
     "output_type": "stream",
     "text": [
      "INFO:astropy:splitting each image into 1 chunks to limit memory usage to 16000000000.0 bytes.\n"
     ]
    },
    {
     "name": "stdout",
     "output_type": "stream",
     "text": [
      "/Users/lasilla/data/2020-02-11/raw/Flat_B_000007.fits\n",
      "INFO: splitting each image into 1 chunks to limit memory usage to 16000000000.0 bytes. [ccdproc.combiner]\n"
     ]
    }
   ],
   "source": [
    "flat_B_list = []\n",
    "for filename in flat_files_B:\n",
    "    print(filename)\n",
    "    ccd = CCDData.read(filename, unit = u.adu)\n",
    "    exptime = ccd.header['EXPTIME']\n",
    "    #this has to be fixed as the bias section does not include the whole section that will be trimmed\n",
    "    ccd = ccdproc.subtract_overscan(ccd, median=True,  overscan_axis=1, fits_section='[5:71, :]')\n",
    "    ccd = ccdproc.trim_image(ccd, fits_section='[79:2100, :]')\n",
    "    ccd = ccdproc.subtract_bias(ccd, master_bias)\n",
    "    flat_B_list.append(ccd)\n",
    "master_flat_B = ccdproc.combine(flat_B_list, method='median')\n",
    "master_flat_B.write('master_flat_B.fits', clobber=True)\n",
    "# correct for the gain \n",
    "master_flat_B = ccdproc.gain_correct(master_flat_B, gain=gain)\n",
    "\n"
   ]
  },
  {
   "cell_type": "markdown",
   "metadata": {},
   "source": [
    "And now we just need to correct the science files :) We also remove cosmic rays^[I didn't see any in the raw data, but better save than sorry] and scale by the exposure time such that the resulting file is in counts/s."
   ]
  },
  {
   "cell_type": "code",
   "execution_count": 43,
   "metadata": {},
   "outputs": [
    {
     "name": "stdout",
     "output_type": "stream",
     "text": [
      "/Users/lasilla/data/2020-02-11/raw/Flat_halph_000001.fits\n",
      "/Users/lasilla/data/2020-02-11/raw/Flat_halph_000002.fits\n",
      "/Users/lasilla/data/2020-02-11/raw/Flat_halph_000003.fits\n",
      "/Users/lasilla/data/2020-02-11/raw/Flat_halph_000004.fits\n",
      "/Users/lasilla/data/2020-02-11/raw/Flat_halph_000005.fits\n",
      "/Users/lasilla/data/2020-02-11/raw/Flat_halph_000006.fits\n",
      "/Users/lasilla/data/2020-02-11/raw/Flat_halph_000007.fits\n",
      "/Users/lasilla/data/2020-02-11/raw/Flat_halph_000008.fits\n",
      "/Users/lasilla/data/2020-02-11/raw/Flat_halph_000009.fits\n",
      "/Users/lasilla/data/2020-02-11/raw/Flat_halph_000010.fits\n",
      "/Users/lasilla/data/2020-02-11/raw/Flat_halph_000011.fits\n",
      "/Users/lasilla/data/2020-02-11/raw/Flat_halph_000012.fits\n"
     ]
    },
    {
     "name": "stderr",
     "output_type": "stream",
     "text": [
      "INFO:astropy:splitting each image into 1 chunks to limit memory usage to 16000000000.0 bytes.\n"
     ]
    },
    {
     "name": "stdout",
     "output_type": "stream",
     "text": [
      "/Users/lasilla/data/2020-02-11/raw/Flat_halph_000013.fits\n",
      "INFO: splitting each image into 1 chunks to limit memory usage to 16000000000.0 bytes. [ccdproc.combiner]\n"
     ]
    }
   ],
   "source": [
    "flat_Ha_list = []\n",
    "for filename in flat_files_Ha:\n",
    "    print(filename)\n",
    "    ccd = CCDData.read(filename, unit = u.adu)\n",
    "    exptime = ccd.header['EXPTIME']\n",
    "    #this has to be fixed as the bias section does not include the whole section that will be trimmed\n",
    "    ccd = ccdproc.subtract_overscan(ccd, median=True,  overscan_axis=1, fits_section='[5:71, :]')\n",
    "    ccd = ccdproc.trim_image(ccd, fits_section='[79:2100, :]')\n",
    "    ccd = ccdproc.subtract_bias(ccd, master_bias)\n",
    "    flat_Ha_list.append(ccd)\n",
    "master_flat_Ha = ccdproc.combine(flat_Ha_list, method='median')\n",
    "master_flat_Ha.write('master_flat_Ha.fits', clobber=True)\n",
    "# correct for the gain \n",
    "master_flat_Ha = ccdproc.gain_correct(master_flat_Ha, gain=gain)\n",
    "\n"
   ]
  },
  {
   "cell_type": "code",
   "execution_count": 44,
   "metadata": {
    "scrolled": true
   },
   "outputs": [
    {
     "name": "stdout",
     "output_type": "stream",
     "text": [
      "/Users/lasilla/data/2020-02-11/raw/SA95107_I_000001.fits\n"
     ]
    }
   ],
   "source": [
    "for filename in science_files_I:\n",
    "    print(filename)\n",
    "    savename = os.path.basename(filename)\n",
    "    hdu = fits.open(filename)\n",
    "    ccd = CCDData(hdu['PRIMARY'].data, header=hdu['PRIMARY'].header, unit = u.adu)\n",
    "    #this has to be fixed as the bias section does not include the whole section that will be trimmed\n",
    "    ccd = ccdproc.subtract_overscan(ccd, median=True,  overscan_axis=1, fits_section='[5:71, :]')\n",
    "    ccd = ccdproc.trim_image(ccd, fits_section='[79:2100, :]')\n",
    "    ccd = ccdproc.subtract_bias(ccd, master_bias)\n",
    "    ccd = ccdproc.flat_correct(ccd, master_flat_I)\n",
    "    ccd.write('sub_'+ savename, clobber=True)\n",
    "    ccd = ccdproc.cosmicray_lacosmic(ccd, sigclip=5) # remove cosmic rays\n",
    "    ccd.write('cr_'+ savename, clobber=True)\n",
    "    # gain correct \n",
    "    ccd = ccdproc.gain_correct(ccd, gain=gain)\n",
    "    # create variance map \n",
    "    ccd_var = ccdproc.create_deviation(ccd, readnoise=ron)\n",
    "    # scale to 1s exposure time\n",
    "    ccd = ccd.divide(ccd.header['EXPTIME'])\n",
    "    ccd.write('obj_'+ savename, clobber=True)\n",
    "    ccd_var.write('var_' + savename, clobber=True)"
   ]
  },
  {
   "cell_type": "markdown",
   "metadata": {},
   "source": [
    "Now the only thing left is do to the stacking. "
   ]
  },
  {
   "cell_type": "code",
   "execution_count": 45,
   "metadata": {},
   "outputs": [
    {
     "name": "stdout",
     "output_type": "stream",
     "text": [
      "/Users/lasilla/data/2020-02-11/raw/SA95107_V_000001.fits\n"
     ]
    }
   ],
   "source": [
    "for filename in science_files_V:\n",
    "    print(filename)\n",
    "    savename = os.path.basename(filename)\n",
    "    hdu = fits.open(filename)\n",
    "    ccd = CCDData(hdu['PRIMARY'].data, header=hdu['PRIMARY'].header, unit = u.adu)\n",
    "    #this has to be fixed as the bias section does not include the whole section that will be trimmed\n",
    "    ccd = ccdproc.subtract_overscan(ccd, median=True,  overscan_axis=1, fits_section='[5:71, :]')\n",
    "    ccd = ccdproc.trim_image(ccd, fits_section='[79:2100, :]')\n",
    "    ccd = ccdproc.subtract_bias(ccd, master_bias)\n",
    "    ccd = ccdproc.flat_correct(ccd, master_flat_V)\n",
    "    ccd.write('sub_'+ savename, clobber=True)\n",
    "    ccd = ccdproc.cosmicray_lacosmic(ccd, sigclip=5) # remove cosmic rays\n",
    "    ccd.write('cr_'+ savename, clobber=True)\n",
    "    # gain correct \n",
    "    ccd = ccdproc.gain_correct(ccd, gain=gain)\n",
    "    # create variance map \n",
    "    ccd_var = ccdproc.create_deviation(ccd, readnoise=ron)\n",
    "    # scale to 1s exposure time\n",
    "    ccd = ccd.divide(ccd.header['EXPTIME'])\n",
    "    ccd.write('obj_'+ savename, clobber=True)\n",
    "    ccd_var.write('var_' + savename, clobber=True)"
   ]
  },
  {
   "cell_type": "code",
   "execution_count": 46,
   "metadata": {},
   "outputs": [
    {
     "name": "stdout",
     "output_type": "stream",
     "text": [
      "/Users/lasilla/data/2020-02-11/raw/SA95107_R_000001.fits\n"
     ]
    }
   ],
   "source": [
    "for filename in science_files_R:\n",
    "    print(filename)\n",
    "    savename = os.path.basename(filename)\n",
    "    hdu = fits.open(filename)\n",
    "    ccd = CCDData(hdu['PRIMARY'].data, header=hdu['PRIMARY'].header, unit = u.adu)\n",
    "    #this has to be fixed as the bias section does not include the whole section that will be trimmed\n",
    "    ccd = ccdproc.subtract_overscan(ccd, median=True,  overscan_axis=1, fits_section='[5:71, :]')\n",
    "    ccd = ccdproc.trim_image(ccd, fits_section='[79:2100, :]')\n",
    "    ccd = ccdproc.subtract_bias(ccd, master_bias)\n",
    "    ccd = ccdproc.flat_correct(ccd, master_flat_R)\n",
    "    ccd.write('sub_'+ savename, clobber=True)\n",
    "    ccd = ccdproc.cosmicray_lacosmic(ccd, sigclip=5) # remove cosmic rays\n",
    "    ccd.write('cr_'+ savename, clobber=True)\n",
    "    # gain correct \n",
    "    ccd = ccdproc.gain_correct(ccd, gain=gain)\n",
    "    # create variance map \n",
    "    ccd_Rar = ccdproc.create_deviation(ccd, readnoise=ron)\n",
    "    # scale to 1s exposure time\n",
    "    ccd = ccd.divide(ccd.header['EXPTIME'])\n",
    "    ccd.write('obj_'+ savename, clobber=True)\n",
    "    ccd_Rar.write('var_' + savename, clobber=True)"
   ]
  },
  {
   "cell_type": "code",
   "execution_count": 47,
   "metadata": {},
   "outputs": [
    {
     "name": "stdout",
     "output_type": "stream",
     "text": [
      "/Users/lasilla/data/2020-02-11/raw/SA95107_B_000003.fits\n"
     ]
    }
   ],
   "source": [
    "for filename in science_files_B:\n",
    "    print(filename)\n",
    "    savename = os.path.basename(filename)\n",
    "    hdu = fits.open(filename)\n",
    "    ccd = CCDData(hdu['PRIMARY'].data, header=hdu['PRIMARY'].header, unit = u.adu)\n",
    "    #this has to be fixed as the bias section does not include the whole section that will be trimmed\n",
    "    ccd = ccdproc.subtract_overscan(ccd, median=True,  overscan_axis=1, fits_section='[5:71, :]')\n",
    "    ccd = ccdproc.trim_image(ccd, fits_section='[79:2100, :]')\n",
    "    ccd = ccdproc.subtract_bias(ccd, master_bias)\n",
    "    ccd = ccdproc.flat_correct(ccd, master_flat_B)\n",
    "    ccd.write('sub_'+ savename, clobber=True)\n",
    "    ccd = ccdproc.cosmicray_lacosmic(ccd, sigclip=5) # remove cosmic rays\n",
    "    ccd.write('cr_'+ savename, clobber=True)\n",
    "    # gain correct \n",
    "    ccd = ccdproc.gain_correct(ccd, gain=gain)\n",
    "    # create variance map \n",
    "    ccd_Rar = ccdproc.create_deviation(ccd, readnoise=ron)\n",
    "    # scale to 1s exposure time\n",
    "    ccd = ccd.divide(ccd.header['EXPTIME'])\n",
    "    ccd.write('obj_'+ savename, clobber=True)\n",
    "    ccd_Rar.write('var_' + savename, clobber=True)"
   ]
  },
  {
   "cell_type": "code",
   "execution_count": 48,
   "metadata": {},
   "outputs": [
    {
     "name": "stdout",
     "output_type": "stream",
     "text": [
      "/Users/lasilla/data/2020-02-11/raw/SA95107_Halph_000001.fits\n"
     ]
    },
    {
     "name": "stderr",
     "output_type": "stream",
     "text": [
      "/Users/lasilla/opt/anaconda2/envs/photanalysis/lib/python2.7/site-packages/astropy/units/quantity.py:640: RuntimeWarning: divide by zero encountered in true_divide\n",
      "  *arrays, **kwargs)\n",
      "/Users/lasilla/opt/anaconda2/envs/photanalysis/lib/python2.7/site-packages/ccdproc/core.py:1369: RuntimeWarning: invalid value encountered in less\n",
      "  psfsize=psfsize, psfk=psfk, psfbeta=psfbeta, verbose=verbose)\n",
      "/Users/lasilla/opt/anaconda2/envs/photanalysis/lib/python2.7/site-packages/ccdproc/core.py:1369: RuntimeWarning: invalid value encountered in subtract\n",
      "  psfsize=psfsize, psfk=psfk, psfbeta=psfbeta, verbose=verbose)\n",
      "/Users/lasilla/opt/anaconda2/envs/photanalysis/lib/python2.7/site-packages/ccdproc/core.py:1369: RuntimeWarning: invalid value encountered in greater\n",
      "  psfsize=psfsize, psfk=psfk, psfbeta=psfbeta, verbose=verbose)\n"
     ]
    }
   ],
   "source": [
    "for filename in science_files_Ha:\n",
    "    print(filename)\n",
    "    savename = os.path.basename(filename)\n",
    "    hdu = fits.open(filename)\n",
    "    ccd = CCDData(hdu['PRIMARY'].data, header=hdu['PRIMARY'].header, unit = u.adu)\n",
    "    #this has to be fixed as the bias section does not include the whole section that will be trimmed\n",
    "    ccd = ccdproc.subtract_overscan(ccd, median=True,  overscan_axis=1, fits_section='[5:71, :]')\n",
    "    ccd = ccdproc.trim_image(ccd, fits_section='[79:2100, :]')\n",
    "    ccd = ccdproc.subtract_bias(ccd, master_bias)\n",
    "    ccd = ccdproc.flat_correct(ccd, master_flat_Ha)\n",
    "    ccd.write('sub_'+ savename, clobber=True)\n",
    "    ccd = ccdproc.cosmicray_lacosmic(ccd, sigclip=5) # remove cosmic rays\n",
    "    ccd.write('cr_'+ savename, clobber=True)\n",
    "    # gain correct \n",
    "    ccd = ccdproc.gain_correct(ccd, gain=gain)\n",
    "    # create variance map \n",
    "    ccd_Rar = ccdproc.create_deviation(ccd, readnoise=ron)\n",
    "    # scale to 1s exposure time\n",
    "    ccd = ccd.divide(ccd.header['EXPTIME'])\n",
    "    ccd.write('obj_'+ savename, clobber=True)\n",
    "    ccd_Rar.write('var_' + savename, clobber=True)"
   ]
  },
  {
   "cell_type": "code",
   "execution_count": 25,
   "metadata": {},
   "outputs": [],
   "source": [
    "hdu = fits.open('../raw/skyflat_test_Ha_000001.fits')"
   ]
  },
  {
   "cell_type": "code",
   "execution_count": 26,
   "metadata": {},
   "outputs": [
    {
     "data": {
      "text/plain": [
       "SIMPLE  =                    T / conform to FITS standard                       \n",
       "BITPIX  =                   32 / unsigned short data                            \n",
       "NAXIS   =                    2 / number of axes                                 \n",
       "NAXIS1  =                 2148 / length of data axis                            \n",
       "NAXIS2  =                 2048 / length of data axis                            \n",
       "EXTEND  =                    T / this is FITS with extensions                   \n",
       "HISTORY Created with RTS2 version 0.9.4 build on Mar 23 2017 14:45:35.          \n",
       "CTIME   =           1581375943 / exposure start (seconds since 1.1.1970)        \n",
       "USEC    =               235120 / exposure start micro seconds                   \n",
       "JD      =     2458890.46230324 / exposure JD                                    \n",
       "DATE-OBS= '2020-02-10T23:05:43.235' / start of exposure                         \n",
       "OBJECT  = 'skyflat_test_Ha'    / object name                                    \n",
       "EXPOSURE=                   1. / exposure length in seconds                     \n",
       "EXPTIME =                   1. / exposure length in seconds                     \n",
       "INSTRUME= 'DFOSC_FASU'         / name of the data acqusition instrument         \n",
       "TELESCOP= 'DK-1.54 '           / name of the data acqusition telescope          \n",
       "ORIGIN  = 'ASU CAS - NBI'      / organisation responsible for data              \n",
       "FOC_NAME= 'FASC    '           / name of focuser                                \n",
       "UTSTART = '2020-02-10T23:05:43.235'                                             \n",
       "EQUINOX = '2000.   '                                                            \n",
       "CCD_TYPE= 'E2V231-42'          / camera type                                    \n",
       "CCD_SER = '12234-07-05'        / camera serial number                           \n",
       "SCRIPREP=                  290 / script loop count                              \n",
       "SCRIPT  = 'exe /etc/rts2/multiexp.py' / script used to take this images         \n",
       "SCR_COMM= '        '           / comment recorded for this script               \n",
       "COMM_NUM=                    0 / comment order within current script            \n",
       "BINNING = '1x1     '           / [pixelX x pixelY] chip binning                 \n",
       "BINX    =                    1 / [pixels] binning along X axis                  \n",
       "BINY    =                    1 / [pixels] binning along X axis                  \n",
       "CCD_TEMP=                 7.91 / CCD temperature                                \n",
       "HIERARCH DATA_CHANNELS =     1 / total number of data channels                  \n",
       "CHAN    =                    2 / channels on/off                                \n",
       "CHAN1   =                    T                                                  \n",
       "CHAN2   =                    F                                                  \n",
       "GAIN1   =                   1. / Individual digital gain in channel 1           \n",
       "GAIN2   =                   1. / Individual digital gain in channel 2           \n",
       "CDSG    =                90000 / Fundamental cds-gain                           \n",
       "SECPPIX =                0.396 / Arcseconds per pixel                           \n",
       "CCDPSIZ =               0.0135 / pre-binning pixel size [mm]                    \n",
       "IMAGETYP= 'FLAT    '           / LIGHT, DARK, BIAS or FLAT                      \n",
       "SHUTTER =                    0 / shutter state (0 - opened, 1 - closed)         \n",
       "FILTA   = 'empty   '           / used filter number                             \n",
       "FILTB   = 'H-alpha_rs'         / used filter number                             \n",
       "MNT_NAME= 'TASC    '           / name of mount                                  \n",
       "LATITUDE=              -29.263 / observatory latitude                           \n",
       "LONGITUD=             -70.7403 / observatory longitude                          \n",
       "ALTITUDE=                2363. / observatory altitude                           \n",
       "ORIRA   = '04:10:00.000'       / original position (J2000) RA                   \n",
       "ORIDEC  = '+03:50:00.00'       / original position (J2000) DEC                  \n",
       "OFFSRA  = '+00:00:00.00'       / object offset RA                               \n",
       "OFFSDEC = '+00:00:00.00'       / object offset DEC                              \n",
       "OBJRA   = '04:10:00.000'       / telescope FOV center position (J200) - with off\n",
       "OBJDEC  = '+03:50:00.00'       / telescope FOV center position (J200) - with off\n",
       "TARRA   = '04:27:26.100'       / target position (J2000) RA                     \n",
       "TARDEC  = '-36:25:16.00'       / target position (J2000) DEC                    \n",
       "CORR_RA = '+00:00:00.00'       / correction from closed loop RA                 \n",
       "CORR_DEC= '+00:00:00.00'       / correction from closed loop DEC                \n",
       "HIERARCH MO_RTS2RA = '00:00:00.000' / [deg] RTS2 model offsets RA               \n",
       "HIERARCH MO_RTS2DEC = '+00:00:00.00' / [deg] RTS2 model offsets DEC             \n",
       "TELRA   = '04:10:00.000'       / mount position (read from sensors) RA          \n",
       "TELDEC  = '+03:50:00.00'       / mount position (read from sensors) DEC         \n",
       "JD_HELIO=     2458890.46323875 / heliocentric JD                                \n",
       "TEL_ALT =              56.3529 / horizontal telescope coordinates altitude      \n",
       "TEL_AZ  =              191.431 / horizontal telescope coordinates azimuth       \n",
       "PARKTIME= -9.1191291391491E-36 / Time of last mount park                        \n",
       "AIRMASS =     1.20089629262611 / Airmass of target location                     \n",
       "HA      = '23:34:43.520'       / Location hour angle                            \n",
       "LST     = '03:44:43.520'       / Local Sidereal Time                            \n",
       "MOVE_NUM=                    0 / number of movements performed by the driver; us\n",
       "CORR_IMG=                    0 / ID of last image used for correction           \n",
       "MNT_ROTA=                   0. / mount rotang                                   \n",
       "MNT_FLIP=                    0 / telescope flip                                 \n",
       "ATSP1EN =                    0 / Additional tracking speed 1 enabled            \n",
       "ATSP2EN =                    0 / Additional tracking speed 2 enabled            \n",
       "ATSP1RA =                   0. / Additional tracking speed 1 RA-/HA+ [''/s]     \n",
       "ATSP1DEC=                   0. / Additional tracking speed 1 DEC+ [''/s]        \n",
       "ATSP2TS =                   0. / Additional tracking speed 2 TS [''/s]          \n",
       "ATSP2PA =                   0. / Additional tracking speed 2 PA [deg]           \n",
       "HIERARCH aguider_offsRA = '+00:00:00.00' / Offset of telescope get from autoguid\n",
       "HIERARCH aguider_offsDEC = '+00:00:00.00' / Offset of telescope get from autogui\n",
       "HIERARCH aguider_stop =      T / STOP Signal for autoguider script              \n",
       "AGON    =                    0 / Autoguiding is working                         \n",
       "AGOBJRA = '00:00:00.000'       / Autoguiding star (J2000) RA                    \n",
       "AGOBJDEC= '+00:00:00.00'       / Autoguiding star (J2000) DEC                   \n",
       "TELSTAT = 'SKY TRACK'          / Telescope status at end of observing           \n",
       "PRESSURE=                768.8 / Atmospheric pressure [mbar]                    \n",
       "TEMPERAT=                 20.3 / Outside temperature of enviroment [Celsius]    \n",
       "MNT_INFO=     1581375942.18034 / time when mount informations were collected    \n",
       "SUN_ALT =     4.92245162920802 / solar altitude                                 \n",
       "SUN_AZ  =     76.2701138008617 / solar azimuth                                  \n",
       "FOC_TYPE= '        '           / focuser type                                   \n",
       "FOC_POS =               38.348 / focuser position                               \n",
       "FOC_TAR =      38.367000579834 / focuser target position                        \n",
       "FOC_DEF =      38.367000579834 / default target value                           \n",
       "FOC_FOFF=                   0. / offset from focusing routine                   \n",
       "FOC_TOFF=                   0. / temporary offset for focusing                  \n",
       "CAM_FILT=                    0 / filter used for image                          \n",
       "BZERO   =           2147483648 / offset data range to that of unsigned long     \n",
       "BSCALE  =                    1 / default scaling factor                         \n",
       "AVERAGE =     130007.238987076 / average value of image                         \n",
       "STDEV   =     112212.389397852 / standard deviation value of image              \n",
       "CTYPE1  = 'RA---TAN'           / WCS transformation type                        \n",
       "CTYPE2  = 'DEC--TAN'           / WCS transformation type                        \n",
       "CRVAL1  =                 62.5 / reference value on 1st axis                    \n",
       "CRVAL2  =     3.83333333333333 / reference value on 2nd axis                    \n",
       "CRPIX1  =                1074. / reference pixel of the 1st axis                \n",
       "CRPIX2  =                3073. / reference pixel of the 2nd axis                \n",
       "CDELT1  =             -0.00011 / delta along 1st axis                           \n",
       "CDELT2  =              0.00011 / delta along 2nd axis                           \n",
       "CROTA2  =              179.488 / rotational angle                               \n",
       "DETSIZE = '[0:2148,0:4612]'    / unbined detector size                          \n",
       "DATASEC = '[1:2148,1:2048]'    / data binned section                            \n",
       "DETSEC  = '[0:2148,0:2048]'    / unbinned section of detector                   \n",
       "CCDSUM  = '1 1     '           / CCD binning                                    \n",
       "LTV1    =                  -0. / image beginning - detector X coordinate        \n",
       "LTV2    =                  -0. / image beginning - detector Y coordinate        \n",
       "LTM1_1  =                   1. / delta along X axis                             \n",
       "LTM2_2  =                   1. / delta along Y axis                             \n",
       "DTV1    =                    0 / detector transformation vector                 \n",
       "DTV2    =                    0 / detector transformation vector                 \n",
       "DTM1_1  =                    1 / detector transformation matrix                 \n",
       "DTM2_2  =                    1 / detector transformation matrix                 \n",
       "FILTER  = 'empt    '           / camera filter as string                        \n",
       "DATE    = '2020-02-10T23:06:07.180' / creation date                             "
      ]
     },
     "execution_count": 26,
     "metadata": {},
     "output_type": "execute_result"
    }
   ],
   "source": [
    "hdu['PRIMARY'].header"
   ]
  },
  {
   "cell_type": "code",
   "execution_count": null,
   "metadata": {},
   "outputs": [],
   "source": []
  }
 ],
 "metadata": {
  "kernelspec": {
   "display_name": "Python 2",
   "language": "python",
   "name": "python2"
  },
  "language_info": {
   "codemirror_mode": {
    "name": "ipython",
    "version": 2
   },
   "file_extension": ".py",
   "mimetype": "text/x-python",
   "name": "python",
   "nbconvert_exporter": "python",
   "pygments_lexer": "ipython2",
   "version": "2.7.17"
  }
 },
 "nbformat": 4,
 "nbformat_minor": 2
}
