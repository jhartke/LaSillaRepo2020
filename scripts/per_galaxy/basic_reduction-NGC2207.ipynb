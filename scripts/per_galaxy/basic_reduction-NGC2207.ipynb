{
 "cells": [
  {
   "cell_type": "markdown",
   "metadata": {},
   "source": [
    "# Reduction of DFOSC data with CCDproc "
   ]
  },
  {
   "cell_type": "markdown",
   "metadata": {},
   "source": [
    "See here for the documentation of https://ccdproc.readthedocs.io/en/latest/reduction_toolbox.html#clean-image "
   ]
  },
  {
   "cell_type": "code",
   "execution_count": 1,
   "metadata": {},
   "outputs": [],
   "source": [
    "# import the relevant packages \n",
    "import sys\n",
    "import os\n",
    "import numpy as np\n",
    "  \n",
    "from astropy.io import fits\n",
    "from astropy import units as u\n",
    "\n",
    "import ccdproc \n",
    "from ccdproc import CCDData\n",
    "\n",
    "from ccdproc import ImageFileCollection"
   ]
  },
  {
   "cell_type": "markdown",
   "metadata": {},
   "source": [
    "Define where are the raw and the reduced data? "
   ]
  },
  {
   "cell_type": "code",
   "execution_count": 2,
   "metadata": {},
   "outputs": [],
   "source": [
    "inputdir = '/Users/lasilla/data/2020-02-11/raw/'\n",
    "outputdir = '/Users/lasilla/data/2020-02-11/reduced/NGC2207'"
   ]
  },
  {
   "cell_type": "code",
   "execution_count": 3,
   "metadata": {},
   "outputs": [],
   "source": [
    "# if there's no output directory, make one: \n",
    "if not os.path.isdir(outputdir): \n",
    "    os.mkdir(outputdir)\n",
    "os.chdir(outputdir)"
   ]
  },
  {
   "cell_type": "markdown",
   "metadata": {},
   "source": [
    "Some properties of the DFOSC CCD"
   ]
  },
  {
   "cell_type": "code",
   "execution_count": 4,
   "metadata": {},
   "outputs": [],
   "source": [
    "gain = 0.164 * u.electron / u.adu\n",
    "ron = 4 * u.electron"
   ]
  },
  {
   "cell_type": "markdown",
   "metadata": {},
   "source": [
    "We first want to sort the data according to its type (i.e. bias, flat...). The keyword in the fits header is `object`."
   ]
  },
  {
   "cell_type": "code",
   "execution_count": 5,
   "metadata": {},
   "outputs": [
    {
     "data": {
      "text/plain": [
       "['Bias_000001.fits',\n",
       " 'Bias_000002.fits',\n",
       " 'Bias_000003.fits',\n",
       " 'Bias_000004.fits',\n",
       " 'Bias_000005.fits',\n",
       " 'Bias_000006.fits',\n",
       " 'Bias_000007.fits',\n",
       " 'Bias_000008.fits',\n",
       " 'Bias_000009.fits',\n",
       " 'Bias_000010.fits',\n",
       " 'Bias_000011.fits',\n",
       " 'ESO219g021_V_000001.fits',\n",
       " 'ESO219g021_test_000001.fits',\n",
       " 'ESO219g021_test_000002.fits',\n",
       " 'ESO482G005_V_000001.fits',\n",
       " 'ESO482G005_V_000002.fits',\n",
       " 'ESO482G005_V_000003.fits',\n",
       " 'ESO482G005_V_000004.fits',\n",
       " 'ESO482G005_test_000001.fits',\n",
       " 'Flat_B_000001.fits',\n",
       " 'Flat_B_000002.fits',\n",
       " 'Flat_B_000003.fits',\n",
       " 'Flat_B_000004.fits',\n",
       " 'Flat_B_000005.fits',\n",
       " 'Flat_B_000006.fits',\n",
       " 'Flat_B_000007.fits',\n",
       " 'Flat_B_test_000001.fits',\n",
       " 'Flat_B_test_000002.fits',\n",
       " 'Flat_I_000001.fits',\n",
       " 'Flat_I_000002.fits',\n",
       " 'Flat_I_000003.fits',\n",
       " 'Flat_I_000004.fits',\n",
       " 'Flat_I_000005.fits',\n",
       " 'Flat_I_000006.fits',\n",
       " 'Flat_I_000007.fits',\n",
       " 'Flat_R_000001.fits',\n",
       " 'Flat_R_000002.fits',\n",
       " 'Flat_R_000003.fits',\n",
       " 'Flat_R_000004.fits',\n",
       " 'Flat_R_000005.fits',\n",
       " 'Flat_V_000001.fits',\n",
       " 'Flat_V_000002.fits',\n",
       " 'Flat_V_000003.fits',\n",
       " 'Flat_V_000004.fits',\n",
       " 'Flat_V_000005.fits',\n",
       " 'Flat_V_test_000001.fits',\n",
       " 'Flat_halph_000001.fits',\n",
       " 'Flat_halph_000002.fits',\n",
       " 'Flat_halph_000003.fits',\n",
       " 'Flat_halph_000004.fits',\n",
       " 'Flat_halph_000005.fits',\n",
       " 'Flat_halph_000006.fits',\n",
       " 'Flat_halph_000007.fits',\n",
       " 'Flat_halph_000008.fits',\n",
       " 'Flat_halph_000009.fits',\n",
       " 'Flat_halph_000010.fits',\n",
       " 'Flat_halph_000011.fits',\n",
       " 'Flat_halph_000012.fits',\n",
       " 'Flat_halph_000013.fits',\n",
       " 'Flat_halph_test_000001.fits',\n",
       " 'M105_I_test_000001.fits',\n",
       " 'M105_I_test_000002.fits',\n",
       " 'M105_I_test_000003.fits',\n",
       " 'M105_I_test_000004.fits',\n",
       " 'M105_I_test_000005.fits',\n",
       " 'M105_V_test_000001.fits',\n",
       " 'M105_V_test_000002.fits',\n",
       " 'M105_V_test_000003.fits',\n",
       " 'M105_V_test_000004.fits',\n",
       " 'M105_V_test_000005.fits',\n",
       " 'M105_V_test_000006.fits',\n",
       " 'M105_V_test_000007.fits',\n",
       " 'M105_V_test_000008.fits',\n",
       " 'NGC2207_B_000001.fits',\n",
       " 'NGC2207_B_000002.fits',\n",
       " 'NGC2207_B_000003.fits',\n",
       " 'NGC2207_B_000004.fits',\n",
       " 'NGC2207_Halph_000001.fits',\n",
       " 'NGC2207_Halph_000002.fits',\n",
       " 'NGC2207_Halph_000003.fits',\n",
       " 'NGC2207_I_000001.fits',\n",
       " 'NGC2207_I_000002.fits',\n",
       " 'NGC2207_I_000003.fits',\n",
       " 'NGC2207_R_000001.fits',\n",
       " 'NGC2207_R_000002.fits',\n",
       " 'NGC2207_R_000003.fits',\n",
       " 'NGC2207_V_000001.fits',\n",
       " 'NGC2207_V_000002.fits',\n",
       " 'NGC2207_V_000003.fits',\n",
       " 'NGC2207_V_000004.fits',\n",
       " 'NGC2207_test_000001.fits',\n",
       " 'NGC2217_B_000001.fits',\n",
       " 'NGC2217_B_000002.fits',\n",
       " 'NGC2217_B_000003.fits',\n",
       " 'NGC2217_B_000004.fits',\n",
       " 'NGC2217_Halph_000001.fits',\n",
       " 'NGC2217_Halph_000002.fits',\n",
       " 'NGC2217_Halph_000003.fits',\n",
       " 'NGC2217_I_000001.fits',\n",
       " 'NGC2217_I_000002.fits',\n",
       " 'NGC2217_I_000003.fits',\n",
       " 'NGC2217_R_000001.fits',\n",
       " 'NGC2217_R_000002.fits',\n",
       " 'NGC2217_R_000003.fits',\n",
       " 'NGC2217_V_000001.fits',\n",
       " 'NGC2217_V_000002.fits',\n",
       " 'NGC2217_V_000003.fits',\n",
       " 'NGC2217_V_000004.fits',\n",
       " 'NGC2217_V_000005.fits',\n",
       " 'NGC2217_test_000001.fits',\n",
       " 'NGC2997_B_test_000001.fits',\n",
       " 'NGC2997_B_test_000002.fits',\n",
       " 'NGC2997_B_test_000003.fits',\n",
       " 'NGC2997_B_test_000004.fits',\n",
       " 'NGC2997_B_test_000005.fits',\n",
       " 'NGC3265_B_000001.fits',\n",
       " 'NGC3265_B_000002.fits',\n",
       " 'NGC3265_B_test_000001.fits',\n",
       " 'NGC4930_test_000001.fits',\n",
       " 'OmegaCen_test_000001.fits',\n",
       " 'OmegaCen_test_000002.fits',\n",
       " 'OmegaCen_test_000003.fits',\n",
       " 'OmegaCen_test_000004.fits',\n",
       " 'OmegaCen_test_000005.fits',\n",
       " 'OmegaCen_test_000006.fits',\n",
       " 'OmegaCen_test_000007.fits',\n",
       " 'SA95107_B_000003.fits',\n",
       " 'SA95107_Halph_000001.fits',\n",
       " 'SA95107_I_000001.fits',\n",
       " 'SA95107_R_000001.fits',\n",
       " 'SA95107_V_000001.fits',\n",
       " 'SA95107_V_test_000001.fits',\n",
       " 'SA95107_test_000001.fits',\n",
       " 'focus_test_000001.fits',\n",
       " 'focus_test_000002.fits',\n",
       " 'focus_test_000003.fits',\n",
       " 'focus_test_000004.fits']"
      ]
     },
     "execution_count": 5,
     "metadata": {},
     "output_type": "execute_result"
    }
   ],
   "source": [
    "# collect the image files \n",
    "ifc = ImageFileCollection(inputdir, keywords='*')\n",
    "ifc.files"
   ]
  },
  {
   "cell_type": "code",
   "execution_count": 20,
   "metadata": {},
   "outputs": [],
   "source": [
    "matches_bias = ifc.summary['object'] == 'Bias'\n",
    "matches_flat = ifc.summary['object'] == 'Flat_I'\n",
    "matches_sci_I = (ifc.summary['object'] == 'NGC2207_I') & (ifc.summary['filtb'] == 'I')\n",
    "bias_files = [ifc.location + file for file in np.array(ifc.files)[matches_bias]]\n",
    "flat_files_I = [ifc.location + file for file in np.array(ifc.files)[matches_flat]] \n",
    "science_files_I = [ifc.location + file for file in np.array(ifc.files)[matches_sci_I]]\n"
   ]
  },
  {
   "cell_type": "code",
   "execution_count": 21,
   "metadata": {},
   "outputs": [
    {
     "data": {
      "text/plain": [
       "['/Users/lasilla/data/2020-02-11/raw/Bias_000001.fits',\n",
       " '/Users/lasilla/data/2020-02-11/raw/Bias_000002.fits',\n",
       " '/Users/lasilla/data/2020-02-11/raw/Bias_000003.fits',\n",
       " '/Users/lasilla/data/2020-02-11/raw/Bias_000004.fits',\n",
       " '/Users/lasilla/data/2020-02-11/raw/Bias_000005.fits',\n",
       " '/Users/lasilla/data/2020-02-11/raw/Bias_000006.fits',\n",
       " '/Users/lasilla/data/2020-02-11/raw/Bias_000007.fits',\n",
       " '/Users/lasilla/data/2020-02-11/raw/Bias_000008.fits',\n",
       " '/Users/lasilla/data/2020-02-11/raw/Bias_000009.fits',\n",
       " '/Users/lasilla/data/2020-02-11/raw/Bias_000010.fits',\n",
       " '/Users/lasilla/data/2020-02-11/raw/Bias_000011.fits']"
      ]
     },
     "execution_count": 21,
     "metadata": {},
     "output_type": "execute_result"
    }
   ],
   "source": [
    "bias_files"
   ]
  },
  {
   "cell_type": "code",
   "execution_count": 22,
   "metadata": {},
   "outputs": [],
   "source": [
    "matches_flat = ifc.summary['object'] == 'Flat_V'\n",
    "matches_sci_V = (ifc.summary['object'] == 'NGC2207_V') & (ifc.summary['filtb'] == 'V')\n",
    "bias_files = [ifc.location + file for file in np.array(ifc.files)[matches_bias]]\n",
    "flat_files_V = [ifc.location + file for file in np.array(ifc.files)[matches_flat]] \n",
    "science_files_V = [ifc.location + file for file in np.array(ifc.files)[matches_sci_V]]"
   ]
  },
  {
   "cell_type": "code",
   "execution_count": 23,
   "metadata": {},
   "outputs": [],
   "source": [
    "matches_flat = ifc.summary['object'] == 'Flat_R'\n",
    "matches_sci_R = (ifc.summary['object'] == 'NGC2207_R') & (ifc.summary['filtb'] == 'R')\n",
    "bias_files = [ifc.location + file for file in np.array(ifc.files)[matches_bias]]\n",
    "flat_files_R = [ifc.location + file for file in np.array(ifc.files)[matches_flat]] \n",
    "science_files_R = [ifc.location + file for file in np.array(ifc.files)[matches_sci_R]]"
   ]
  },
  {
   "cell_type": "code",
   "execution_count": 24,
   "metadata": {},
   "outputs": [],
   "source": [
    "matches_flat = ifc.summary['object'] == 'Flat_B'\n",
    "matches_sci_B = (ifc.summary['object'] == 'NGC2207_B') & (ifc.summary['filtb'] == 'B')\n",
    "bias_files = [ifc.location + file for file in np.array(ifc.files)[matches_bias]]\n",
    "flat_files_B = [ifc.location + file for file in np.array(ifc.files)[matches_flat]] \n",
    "science_files_B = [ifc.location + file for file in np.array(ifc.files)[matches_sci_B]]"
   ]
  },
  {
   "cell_type": "code",
   "execution_count": 33,
   "metadata": {},
   "outputs": [],
   "source": [
    "matches_flat = ifc.summary['object'] == 'Flat_halph'\n",
    "matches_sci_Ha = (ifc.summary['object'] == 'NGC2207_Halph') & (ifc.summary['filtb'] == 'H-alpha_rs')\n",
    "bias_files = [ifc.location + file for file in np.array(ifc.files)[matches_bias]]\n",
    "flat_files_Ha = [ifc.location + file for file in np.array(ifc.files)[matches_flat]] \n",
    "science_files_Ha = [ifc.location + file for file in np.array(ifc.files)[matches_sci_Ha]]"
   ]
  },
  {
   "cell_type": "code",
   "execution_count": 26,
   "metadata": {},
   "outputs": [
    {
     "name": "stdout",
     "output_type": "stream",
     "text": [
      "['/Users/lasilla/data/2020-02-11/raw/NGC2207_Halph_000001.fits', '/Users/lasilla/data/2020-02-11/raw/NGC2207_Halph_000002.fits', '/Users/lasilla/data/2020-02-11/raw/NGC2207_Halph_000003.fits']\n"
     ]
    }
   ],
   "source": [
    "print(science_files_Ha)"
   ]
  },
  {
   "cell_type": "markdown",
   "metadata": {},
   "source": [
    "We next create the master bias frame:"
   ]
  },
  {
   "cell_type": "code",
   "execution_count": 34,
   "metadata": {},
   "outputs": [
    {
     "name": "stdout",
     "output_type": "stream",
     "text": [
      "/Users/lasilla/data/2020-02-11/raw/Bias_000001.fits\n",
      "/Users/lasilla/data/2020-02-11/raw/Bias_000002.fits\n",
      "/Users/lasilla/data/2020-02-11/raw/Bias_000003.fits\n",
      "/Users/lasilla/data/2020-02-11/raw/Bias_000004.fits\n",
      "/Users/lasilla/data/2020-02-11/raw/Bias_000005.fits\n",
      "/Users/lasilla/data/2020-02-11/raw/Bias_000006.fits\n",
      "/Users/lasilla/data/2020-02-11/raw/Bias_000007.fits\n",
      "/Users/lasilla/data/2020-02-11/raw/Bias_000008.fits\n",
      "/Users/lasilla/data/2020-02-11/raw/Bias_000009.fits\n",
      "/Users/lasilla/data/2020-02-11/raw/Bias_000010.fits\n",
      "/Users/lasilla/data/2020-02-11/raw/Bias_000011.fits\n"
     ]
    },
    {
     "name": "stderr",
     "output_type": "stream",
     "text": [
      "INFO:astropy:splitting each image into 1 chunks to limit memory usage to 16000000000.0 bytes.\n"
     ]
    },
    {
     "name": "stdout",
     "output_type": "stream",
     "text": [
      "INFO: splitting each image into 1 chunks to limit memory usage to 16000000000.0 bytes. [ccdproc.combiner]\n"
     ]
    }
   ],
   "source": [
    "bias_list = []\n",
    "for filename in bias_files:\n",
    "    print(filename)\n",
    "    ccd = CCDData.read(filename, unit = u.adu)\n",
    "    #this has to be fixed as the bias section does not include the whole section that will be trimmed\n",
    "    ccd = ccdproc.subtract_overscan(ccd, median=True,  overscan_axis=1, fits_section='[5:71, :]')\n",
    "    ccd = ccdproc.trim_image(ccd, fits_section='[79:2100, :]')\n",
    "    bias_list.append(ccd)\n",
    "master_bias = ccdproc.combine(bias_list, method='median')\n",
    "master_bias.write('master_bias.fits', clobber=True)"
   ]
  },
  {
   "cell_type": "markdown",
   "metadata": {},
   "source": [
    "Now we create the master flat"
   ]
  },
  {
   "cell_type": "code",
   "execution_count": 28,
   "metadata": {},
   "outputs": [
    {
     "name": "stderr",
     "output_type": "stream",
     "text": [
      "WARNING: VerifyWarning: Keyword name 'subtract_bias' is greater than 8 characters or contains characters not allowed by the FITS standard; a HIERARCH card will be created. [astropy.io.fits.card]\n",
      "WARNING:astropy:VerifyWarning: Keyword name 'subtract_bias' is greater than 8 characters or contains characters not allowed by the FITS standard; a HIERARCH card will be created.\n"
     ]
    },
    {
     "name": "stdout",
     "output_type": "stream",
     "text": [
      "/Users/lasilla/data/2020-02-11/raw/Flat_I_000001.fits\n",
      "/Users/lasilla/data/2020-02-11/raw/Flat_I_000002.fits\n",
      "/Users/lasilla/data/2020-02-11/raw/Flat_I_000003.fits\n",
      "/Users/lasilla/data/2020-02-11/raw/Flat_I_000004.fits\n",
      "/Users/lasilla/data/2020-02-11/raw/Flat_I_000005.fits\n",
      "/Users/lasilla/data/2020-02-11/raw/Flat_I_000006.fits\n"
     ]
    },
    {
     "name": "stderr",
     "output_type": "stream",
     "text": [
      "INFO:astropy:splitting each image into 1 chunks to limit memory usage to 16000000000.0 bytes.\n"
     ]
    },
    {
     "name": "stdout",
     "output_type": "stream",
     "text": [
      "/Users/lasilla/data/2020-02-11/raw/Flat_I_000007.fits\n",
      "INFO: splitting each image into 1 chunks to limit memory usage to 16000000000.0 bytes. [ccdproc.combiner]\n"
     ]
    },
    {
     "name": "stderr",
     "output_type": "stream",
     "text": [
      "WARNING: VerifyWarning: Keyword name 'gain_correct' is greater than 8 characters or contains characters not allowed by the FITS standard; a HIERARCH card will be created. [astropy.io.fits.card]\n",
      "WARNING:astropy:VerifyWarning: Keyword name 'gain_correct' is greater than 8 characters or contains characters not allowed by the FITS standard; a HIERARCH card will be created.\n"
     ]
    }
   ],
   "source": [
    "flat_I_list = []\n",
    "for filename in flat_files_I:\n",
    "    print(filename)\n",
    "    ccd = CCDData.read(filename, unit = u.adu)\n",
    "    exptime = ccd.header['EXPTIME']\n",
    "    #this has to be fixed as the bias section does not include the whole section that will be trimmed\n",
    "    ccd = ccdproc.subtract_overscan(ccd, median=True,  overscan_axis=1, fits_section='[5:71, :]')\n",
    "    ccd = ccdproc.trim_image(ccd, fits_section='[79:2100, :]')\n",
    "    ccd = ccdproc.subtract_bias(ccd, master_bias)\n",
    "    flat_I_list.append(ccd)\n",
    "master_flat_I = ccdproc.combine(flat_I_list, method='median')\n",
    "master_flat_I.write('master_flat_I.fits', clobber=True)\n",
    "# correct for the gain \n",
    "master_flat_I = ccdproc.gain_correct(master_flat_I, gain=gain)\n"
   ]
  },
  {
   "cell_type": "code",
   "execution_count": 29,
   "metadata": {},
   "outputs": [
    {
     "name": "stdout",
     "output_type": "stream",
     "text": [
      "/Users/lasilla/data/2020-02-11/raw/Flat_V_000001.fits\n",
      "/Users/lasilla/data/2020-02-11/raw/Flat_V_000002.fits\n",
      "/Users/lasilla/data/2020-02-11/raw/Flat_V_000003.fits\n",
      "/Users/lasilla/data/2020-02-11/raw/Flat_V_000004.fits\n"
     ]
    },
    {
     "name": "stderr",
     "output_type": "stream",
     "text": [
      "INFO:astropy:splitting each image into 1 chunks to limit memory usage to 16000000000.0 bytes.\n"
     ]
    },
    {
     "name": "stdout",
     "output_type": "stream",
     "text": [
      "/Users/lasilla/data/2020-02-11/raw/Flat_V_000005.fits\n",
      "INFO: splitting each image into 1 chunks to limit memory usage to 16000000000.0 bytes. [ccdproc.combiner]\n"
     ]
    }
   ],
   "source": [
    "flat_V_list = []\n",
    "for filename in flat_files_V:\n",
    "    print(filename)\n",
    "    ccd = CCDData.read(filename, unit = u.adu)\n",
    "    exptime = ccd.header['EXPTIME']\n",
    "    #this has to be fixed as the bias section does not include the whole section that will be trimmed\n",
    "    ccd = ccdproc.subtract_overscan(ccd, median=True,  overscan_axis=1, fits_section='[5:71, :]')\n",
    "    ccd = ccdproc.trim_image(ccd, fits_section='[79:2100, :]')\n",
    "    ccd = ccdproc.subtract_bias(ccd, master_bias)\n",
    "    flat_V_list.append(ccd)\n",
    "master_flat_V = ccdproc.combine(flat_V_list, method='median')\n",
    "master_flat_V.write('master_flat_V.fits', clobber=True)\n",
    "# correct for the gain \n",
    "master_flat_V = ccdproc.gain_correct(master_flat_V, gain=gain)"
   ]
  },
  {
   "cell_type": "code",
   "execution_count": 30,
   "metadata": {
    "scrolled": true
   },
   "outputs": [
    {
     "name": "stdout",
     "output_type": "stream",
     "text": [
      "/Users/lasilla/data/2020-02-11/raw/Flat_R_000002.fits\n",
      "/Users/lasilla/data/2020-02-11/raw/Flat_R_000003.fits\n",
      "/Users/lasilla/data/2020-02-11/raw/Flat_R_000004.fits\n",
      "/Users/lasilla/data/2020-02-11/raw/Flat_R_000005.fits\n"
     ]
    },
    {
     "name": "stderr",
     "output_type": "stream",
     "text": [
      "INFO:astropy:splitting each image into 1 chunks to limit memory usage to 16000000000.0 bytes.\n"
     ]
    },
    {
     "name": "stdout",
     "output_type": "stream",
     "text": [
      "INFO: splitting each image into 1 chunks to limit memory usage to 16000000000.0 bytes. [ccdproc.combiner]\n"
     ]
    }
   ],
   "source": [
    "flat_R_list = []\n",
    "for filename in flat_files_R[1:]:\n",
    "    print(filename)\n",
    "    ccd = CCDData.read(filename, unit = u.adu)\n",
    "    exptime = ccd.header['EXPTIME']\n",
    "    #this has to be fixed as the bias section does not include the whole section that will be trimmed\n",
    "    ccd = ccdproc.subtract_overscan(ccd, median=True,  overscan_axis=1, fits_section='[5:71, :]')\n",
    "    ccd = ccdproc.trim_image(ccd, fits_section='[79:2100, :]')\n",
    "    ccd = ccdproc.subtract_bias(ccd, master_bias)\n",
    "    flat_R_list.append(ccd)\n",
    "master_flat_R = ccdproc.combine(flat_R_list, method='median')\n",
    "master_flat_R.write('master_flat_R.fits', clobber=True)\n",
    "# correct for the gain \n",
    "master_flat_R = ccdproc.gain_correct(master_flat_R, gain=gain)"
   ]
  },
  {
   "cell_type": "code",
   "execution_count": 31,
   "metadata": {},
   "outputs": [
    {
     "name": "stdout",
     "output_type": "stream",
     "text": [
      "/Users/lasilla/data/2020-02-11/raw/Flat_B_000001.fits\n",
      "/Users/lasilla/data/2020-02-11/raw/Flat_B_000002.fits\n",
      "/Users/lasilla/data/2020-02-11/raw/Flat_B_000003.fits\n",
      "/Users/lasilla/data/2020-02-11/raw/Flat_B_000004.fits\n",
      "/Users/lasilla/data/2020-02-11/raw/Flat_B_000005.fits\n",
      "/Users/lasilla/data/2020-02-11/raw/Flat_B_000006.fits\n"
     ]
    },
    {
     "name": "stderr",
     "output_type": "stream",
     "text": [
      "INFO:astropy:splitting each image into 1 chunks to limit memory usage to 16000000000.0 bytes.\n"
     ]
    },
    {
     "name": "stdout",
     "output_type": "stream",
     "text": [
      "/Users/lasilla/data/2020-02-11/raw/Flat_B_000007.fits\n",
      "INFO: splitting each image into 1 chunks to limit memory usage to 16000000000.0 bytes. [ccdproc.combiner]\n"
     ]
    }
   ],
   "source": [
    "flat_B_list = []\n",
    "for filename in flat_files_B:\n",
    "    print(filename)\n",
    "    ccd = CCDData.read(filename, unit = u.adu)\n",
    "    exptime = ccd.header['EXPTIME']\n",
    "    #this has to be fixed as the bias section does not include the whole section that will be trimmed\n",
    "    ccd = ccdproc.subtract_overscan(ccd, median=True,  overscan_axis=1, fits_section='[5:71, :]')\n",
    "    ccd = ccdproc.trim_image(ccd, fits_section='[79:2100, :]')\n",
    "    ccd = ccdproc.subtract_bias(ccd, master_bias)\n",
    "    flat_B_list.append(ccd)\n",
    "master_flat_B = ccdproc.combine(flat_B_list, method='median')\n",
    "master_flat_B.write('master_flat_B.fits', clobber=True)\n",
    "# correct for the gain \n",
    "master_flat_B = ccdproc.gain_correct(master_flat_B, gain=gain)"
   ]
  },
  {
   "cell_type": "code",
   "execution_count": 35,
   "metadata": {},
   "outputs": [
    {
     "name": "stdout",
     "output_type": "stream",
     "text": [
      "/Users/lasilla/data/2020-02-11/raw/Flat_halph_000001.fits\n",
      "/Users/lasilla/data/2020-02-11/raw/Flat_halph_000002.fits\n",
      "/Users/lasilla/data/2020-02-11/raw/Flat_halph_000003.fits\n",
      "/Users/lasilla/data/2020-02-11/raw/Flat_halph_000004.fits\n",
      "/Users/lasilla/data/2020-02-11/raw/Flat_halph_000005.fits\n",
      "/Users/lasilla/data/2020-02-11/raw/Flat_halph_000006.fits\n",
      "/Users/lasilla/data/2020-02-11/raw/Flat_halph_000007.fits\n",
      "/Users/lasilla/data/2020-02-11/raw/Flat_halph_000008.fits\n",
      "/Users/lasilla/data/2020-02-11/raw/Flat_halph_000009.fits\n",
      "/Users/lasilla/data/2020-02-11/raw/Flat_halph_000010.fits\n",
      "/Users/lasilla/data/2020-02-11/raw/Flat_halph_000011.fits\n",
      "/Users/lasilla/data/2020-02-11/raw/Flat_halph_000012.fits\n"
     ]
    },
    {
     "name": "stderr",
     "output_type": "stream",
     "text": [
      "INFO:astropy:splitting each image into 1 chunks to limit memory usage to 16000000000.0 bytes.\n"
     ]
    },
    {
     "name": "stdout",
     "output_type": "stream",
     "text": [
      "/Users/lasilla/data/2020-02-11/raw/Flat_halph_000013.fits\n",
      "INFO: splitting each image into 1 chunks to limit memory usage to 16000000000.0 bytes. [ccdproc.combiner]\n"
     ]
    }
   ],
   "source": [
    "flat_Ha_list = []\n",
    "for filename in flat_files_Ha:\n",
    "    print(filename)\n",
    "    ccd = CCDData.read(filename, unit = u.adu)\n",
    "    exptime = ccd.header['EXPTIME']\n",
    "    #this has to be fixed as the bias section does not include the whole section that will be trimmed\n",
    "    ccd = ccdproc.subtract_overscan(ccd, median=True,  overscan_axis=1, fits_section='[5:71, :]')\n",
    "    ccd = ccdproc.trim_image(ccd, fits_section='[79:2100, :]')\n",
    "    ccd = ccdproc.subtract_bias(ccd, master_bias)\n",
    "    flat_Ha_list.append(ccd)\n",
    "master_flat_Ha = ccdproc.combine(flat_Ha_list, method='median')\n",
    "master_flat_Ha.write('master_flat_Ha.fits', clobber=True)\n",
    "# correct for the gain \n",
    "master_flat_Ha = ccdproc.gain_correct(master_flat_Ha, gain=gain)"
   ]
  },
  {
   "cell_type": "markdown",
   "metadata": {},
   "source": [
    "And now we just need to correct the science files :) We also remove cosmic rays^[I didn't see any in the raw data, but better save than sorry] and scale by the exposure time such that the resulting file is in counts/s."
   ]
  },
  {
   "cell_type": "code",
   "execution_count": 36,
   "metadata": {
    "scrolled": true
   },
   "outputs": [
    {
     "name": "stderr",
     "output_type": "stream",
     "text": [
      "WARNING: VerifyWarning: Keyword name 'flat_correct' is greater than 8 characters or contains characters not allowed by the FITS standard; a HIERARCH card will be created. [astropy.io.fits.card]\n",
      "WARNING:astropy:VerifyWarning: Keyword name 'flat_correct' is greater than 8 characters or contains characters not allowed by the FITS standard; a HIERARCH card will be created.\n"
     ]
    },
    {
     "name": "stdout",
     "output_type": "stream",
     "text": [
      "/Users/lasilla/data/2020-02-11/raw/NGC2207_I_000001.fits\n"
     ]
    },
    {
     "name": "stderr",
     "output_type": "stream",
     "text": [
      "/Users/lasilla/opt/anaconda2/envs/photanalysis/lib/python2.7/site-packages/ccdproc/core.py:322: RuntimeWarning: invalid value encountered in sqrt\n",
      "  var = (gain_value * ccd_data.data + readnoise_value ** 2) ** 0.5\n",
      "WARNING: VerifyWarning: Keyword name 'create_deviation' is greater than 8 characters or contains characters not allowed by the FITS standard; a HIERARCH card will be created. [astropy.io.fits.card]\n",
      "WARNING:astropy:VerifyWarning: Keyword name 'create_deviation' is greater than 8 characters or contains characters not allowed by the FITS standard; a HIERARCH card will be created.\n"
     ]
    },
    {
     "name": "stdout",
     "output_type": "stream",
     "text": [
      "/Users/lasilla/data/2020-02-11/raw/NGC2207_I_000002.fits\n",
      "/Users/lasilla/data/2020-02-11/raw/NGC2207_I_000003.fits\n"
     ]
    }
   ],
   "source": [
    "for filename in science_files_I:\n",
    "    print(filename)\n",
    "    savename = os.path.basename(filename)\n",
    "    hdu = fits.open(filename)\n",
    "    ccd = CCDData(hdu['PRIMARY'].data, header=hdu['PRIMARY'].header, unit = u.adu)\n",
    "    #this has to be fixed as the bias section does not include the whole section that will be trimmed\n",
    "    ccd = ccdproc.subtract_overscan(ccd, median=True,  overscan_axis=1, fits_section='[5:71, :]')\n",
    "    ccd = ccdproc.trim_image(ccd, fits_section='[79:2100, :]')\n",
    "    ccd = ccdproc.subtract_bias(ccd, master_bias)\n",
    "    ccd = ccdproc.flat_correct(ccd, master_flat_I)\n",
    "    ccd.write('sub_'+ savename, clobber=True)\n",
    "    ccd = ccdproc.cosmicray_lacosmic(ccd, sigclip=5) # remove cosmic rays\n",
    "    ccd.write('cr_'+ savename, clobber=True)\n",
    "    # gain correct \n",
    "    ccd = ccdproc.gain_correct(ccd, gain=gain)\n",
    "    # create variance map \n",
    "    ccd_var = ccdproc.create_deviation(ccd, readnoise=ron)\n",
    "    # scale to 1s exposure time\n",
    "    ccd = ccd.divide(ccd.header['EXPTIME'])\n",
    "    ccd.write('obj_'+ savename, clobber=True)\n",
    "    ccd_var.write('var_' + savename, clobber=True)"
   ]
  },
  {
   "cell_type": "markdown",
   "metadata": {},
   "source": [
    "Now the only thing left is do to the stacking. "
   ]
  },
  {
   "cell_type": "code",
   "execution_count": 37,
   "metadata": {},
   "outputs": [
    {
     "name": "stdout",
     "output_type": "stream",
     "text": [
      "/Users/lasilla/data/2020-02-11/raw/NGC2207_V_000001.fits\n",
      "/Users/lasilla/data/2020-02-11/raw/NGC2207_V_000002.fits\n",
      "/Users/lasilla/data/2020-02-11/raw/NGC2207_V_000003.fits\n",
      "/Users/lasilla/data/2020-02-11/raw/NGC2207_V_000004.fits\n"
     ]
    }
   ],
   "source": [
    "for filename in science_files_V:\n",
    "    print(filename)\n",
    "    savename = os.path.basename(filename)\n",
    "    hdu = fits.open(filename)\n",
    "    ccd = CCDData(hdu['PRIMARY'].data, header=hdu['PRIMARY'].header, unit = u.adu)\n",
    "    #this has to be fixed as the bias section does not include the whole section that will be trimmed\n",
    "    ccd = ccdproc.subtract_overscan(ccd, median=True,  overscan_axis=1, fits_section='[5:71, :]')\n",
    "    ccd = ccdproc.trim_image(ccd, fits_section='[79:2100, :]')\n",
    "    ccd = ccdproc.subtract_bias(ccd, master_bias)\n",
    "    ccd = ccdproc.flat_correct(ccd, master_flat_V)\n",
    "    ccd.write('sub_'+ savename, clobber=True)\n",
    "    ccd = ccdproc.cosmicray_lacosmic(ccd, sigclip=5) # remove cosmic rays\n",
    "    ccd.write('cr_'+ savename, clobber=True)\n",
    "    # gain correct \n",
    "    ccd = ccdproc.gain_correct(ccd, gain=gain)\n",
    "    # create variance map \n",
    "    ccd_var = ccdproc.create_deviation(ccd, readnoise=ron)\n",
    "    # scale to 1s exposure time\n",
    "    ccd = ccd.divide(ccd.header['EXPTIME'])\n",
    "    ccd.write('obj_'+ savename, clobber=True)\n",
    "    ccd_var.write('var_' + savename, clobber=True)"
   ]
  },
  {
   "cell_type": "code",
   "execution_count": 40,
   "metadata": {},
   "outputs": [
    {
     "name": "stdout",
     "output_type": "stream",
     "text": [
      "/Users/lasilla/data/2020-02-11/raw/NGC2207_R_000001.fits\n",
      "/Users/lasilla/data/2020-02-11/raw/NGC2207_R_000002.fits\n",
      "/Users/lasilla/data/2020-02-11/raw/NGC2207_R_000003.fits\n"
     ]
    }
   ],
   "source": [
    "for filename in science_files_R:\n",
    "    print(filename)\n",
    "    savename = os.path.basename(filename)\n",
    "    hdu = fits.open(filename)\n",
    "    ccd = CCDData(hdu['PRIMARY'].data, header=hdu['PRIMARY'].header, unit = u.adu)\n",
    "    #this has to be fixed as the bias section does not include the whole section that will be trimmed\n",
    "    ccd = ccdproc.subtract_overscan(ccd, median=True,  overscan_axis=1, fits_section='[5:71, :]')\n",
    "    ccd = ccdproc.trim_image(ccd, fits_section='[79:2100, :]')\n",
    "    ccd = ccdproc.subtract_bias(ccd, master_bias)\n",
    "    ccd = ccdproc.flat_correct(ccd, master_flat_R)\n",
    "    ccd.write('sub_'+ savename, clobber=True)\n",
    "    ccd = ccdproc.cosmicray_lacosmic(ccd, sigclip=5) # remove cosmic rays\n",
    "    ccd.write('cr_'+ savename, clobber=True)\n",
    "    # gain correct \n",
    "    ccd = ccdproc.gain_correct(ccd, gain=gain)\n",
    "    # create variance map \n",
    "    ccd_Rar = ccdproc.create_deviation(ccd, readnoise=ron)\n",
    "    # scale to 1s exposure time\n",
    "    ccd = ccd.divide(ccd.header['EXPTIME'])\n",
    "    ccd.write('obj_'+ savename, clobber=True)\n",
    "    ccd_Rar.write('var_' + savename, clobber=True)\n"
   ]
  },
  {
   "cell_type": "code",
   "execution_count": 38,
   "metadata": {},
   "outputs": [
    {
     "name": "stdout",
     "output_type": "stream",
     "text": [
      "/Users/lasilla/data/2020-02-11/raw/NGC2207_B_000001.fits\n",
      "/Users/lasilla/data/2020-02-11/raw/NGC2207_B_000002.fits\n",
      "/Users/lasilla/data/2020-02-11/raw/NGC2207_B_000003.fits\n",
      "/Users/lasilla/data/2020-02-11/raw/NGC2207_B_000004.fits\n"
     ]
    }
   ],
   "source": [
    "for filename in science_files_B:\n",
    "    print(filename)\n",
    "    savename = os.path.basename(filename)\n",
    "    hdu = fits.open(filename)\n",
    "    ccd = CCDData(hdu['PRIMARY'].data, header=hdu['PRIMARY'].header, unit = u.adu)\n",
    "    #this has to be fixed as the bias section does not include the whole section that will be trimmed\n",
    "    ccd = ccdproc.subtract_overscan(ccd, median=True,  overscan_axis=1, fits_section='[5:71, :]')\n",
    "    ccd = ccdproc.trim_image(ccd, fits_section='[79:2100, :]')\n",
    "    ccd = ccdproc.subtract_bias(ccd, master_bias)\n",
    "    ccd = ccdproc.flat_correct(ccd, master_flat_B)\n",
    "    ccd.write('sub_'+ savename, clobber=True)\n",
    "    ccd = ccdproc.cosmicray_lacosmic(ccd, sigclip=5) # remove cosmic rays\n",
    "    ccd.write('cr_'+ savename, clobber=True)\n",
    "    # gain correct \n",
    "    ccd = ccdproc.gain_correct(ccd, gain=gain)\n",
    "    # create variance map \n",
    "    ccd_Rar = ccdproc.create_deviation(ccd, readnoise=ron)\n",
    "    # scale to 1s exposure time\n",
    "    ccd = ccd.divide(ccd.header['EXPTIME'])\n",
    "    ccd.write('obj_'+ savename, clobber=True)\n",
    "    ccd_Rar.write('var_' + savename, clobber=True)\n",
    "\n"
   ]
  },
  {
   "cell_type": "code",
   "execution_count": 39,
   "metadata": {},
   "outputs": [
    {
     "name": "stdout",
     "output_type": "stream",
     "text": [
      "/Users/lasilla/data/2020-02-11/raw/NGC2207_Halph_000001.fits\n"
     ]
    },
    {
     "name": "stderr",
     "output_type": "stream",
     "text": [
      "/Users/lasilla/opt/anaconda2/envs/photanalysis/lib/python2.7/site-packages/astropy/units/quantity.py:640: RuntimeWarning: divide by zero encountered in true_divide\n",
      "  *arrays, **kwargs)\n",
      "/Users/lasilla/opt/anaconda2/envs/photanalysis/lib/python2.7/site-packages/ccdproc/core.py:1369: RuntimeWarning: invalid value encountered in less\n",
      "  psfsize=psfsize, psfk=psfk, psfbeta=psfbeta, verbose=verbose)\n",
      "/Users/lasilla/opt/anaconda2/envs/photanalysis/lib/python2.7/site-packages/ccdproc/core.py:1369: RuntimeWarning: invalid value encountered in subtract\n",
      "  psfsize=psfsize, psfk=psfk, psfbeta=psfbeta, verbose=verbose)\n",
      "/Users/lasilla/opt/anaconda2/envs/photanalysis/lib/python2.7/site-packages/ccdproc/core.py:1369: RuntimeWarning: invalid value encountered in greater\n",
      "  psfsize=psfsize, psfk=psfk, psfbeta=psfbeta, verbose=verbose)\n"
     ]
    },
    {
     "name": "stdout",
     "output_type": "stream",
     "text": [
      "/Users/lasilla/data/2020-02-11/raw/NGC2207_Halph_000002.fits\n",
      "/Users/lasilla/data/2020-02-11/raw/NGC2207_Halph_000003.fits\n"
     ]
    }
   ],
   "source": [
    "for filename in science_files_Ha:\n",
    "    print(filename)\n",
    "    savename = os.path.basename(filename)\n",
    "    hdu = fits.open(filename)\n",
    "    ccd = CCDData(hdu['PRIMARY'].data, header=hdu['PRIMARY'].header, unit = u.adu)\n",
    "    #this has to be fixed as the bias section does not include the whole section that will be trimmed\n",
    "    ccd = ccdproc.subtract_overscan(ccd, median=True,  overscan_axis=1, fits_section='[5:71, :]')\n",
    "    ccd = ccdproc.trim_image(ccd, fits_section='[79:2100, :]')\n",
    "    ccd = ccdproc.subtract_bias(ccd, master_bias)\n",
    "    ccd = ccdproc.flat_correct(ccd, master_flat_Ha)\n",
    "    ccd.write('sub_'+ savename, clobber=True)\n",
    "    ccd = ccdproc.cosmicray_lacosmic(ccd, sigclip=5) # remove cosmic rays\n",
    "    ccd.write('cr_'+ savename, clobber=True)\n",
    "    # gain correct \n",
    "    ccd = ccdproc.gain_correct(ccd, gain=gain)\n",
    "    # create variance map \n",
    "    ccd_Rar = ccdproc.create_deviation(ccd, readnoise=ron)\n",
    "    # scale to 1s exposure time\n",
    "    ccd = ccd.divide(ccd.header['EXPTIME'])\n",
    "    ccd.write('obj_'+ savename, clobber=True)\n",
    "    ccd_Rar.write('var_' + savename, clobber=True)\n",
    "\n"
   ]
  },
  {
   "cell_type": "code",
   "execution_count": null,
   "metadata": {},
   "outputs": [],
   "source": []
  }
 ],
 "metadata": {
  "kernelspec": {
   "display_name": "Python 2",
   "language": "python",
   "name": "python2"
  },
  "language_info": {
   "codemirror_mode": {
    "name": "ipython",
    "version": 2
   },
   "file_extension": ".py",
   "mimetype": "text/x-python",
   "name": "python",
   "nbconvert_exporter": "python",
   "pygments_lexer": "ipython2",
   "version": "2.7.17"
  }
 },
 "nbformat": 4,
 "nbformat_minor": 2
}
