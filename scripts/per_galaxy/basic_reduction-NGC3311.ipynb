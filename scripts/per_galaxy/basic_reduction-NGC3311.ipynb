{
 "cells": [
  {
   "cell_type": "markdown",
   "metadata": {},
   "source": [
    "# Reduction of DFOSC data with CCDproc "
   ]
  },
  {
   "cell_type": "markdown",
   "metadata": {},
   "source": [
    "See here for the documentation of https://ccdproc.readthedocs.io/en/latest/reduction_toolbox.html#clean-image "
   ]
  },
  {
   "cell_type": "code",
   "execution_count": 1,
   "metadata": {},
   "outputs": [],
   "source": [
    "# import the relevant packages \n",
    "import sys\n",
    "import os\n",
    "import numpy as np\n",
    "  \n",
    "from astropy.io import fits\n",
    "from astropy import units as u\n",
    "\n",
    "import ccdproc \n",
    "from ccdproc import CCDData\n",
    "\n",
    "from ccdproc import ImageFileCollection"
   ]
  },
  {
   "cell_type": "markdown",
   "metadata": {},
   "source": [
    "Define where are the raw and the reduced data? "
   ]
  },
  {
   "cell_type": "code",
   "execution_count": 2,
   "metadata": {},
   "outputs": [],
   "source": [
    "inputdir = '/Users/lasilla/data/2020-02-10/raw/'\n",
    "outputdir = '/Users/lasilla/data/2020-02-10/reduced/NGC3311'"
   ]
  },
  {
   "cell_type": "code",
   "execution_count": 3,
   "metadata": {},
   "outputs": [],
   "source": [
    "# if there's no output directory, make one: \n",
    "if not os.path.isdir(outputdir): \n",
    "    os.mkdir(outputdir)\n",
    "os.chdir(outputdir)"
   ]
  },
  {
   "cell_type": "markdown",
   "metadata": {},
   "source": [
    "Some properties of the DFOSC CCD"
   ]
  },
  {
   "cell_type": "code",
   "execution_count": 4,
   "metadata": {},
   "outputs": [],
   "source": [
    "gain = 0.164 * u.electron / u.adu\n",
    "ron = 4 * u.electron"
   ]
  },
  {
   "cell_type": "markdown",
   "metadata": {},
   "source": [
    "We first want to sort the data according to its type (i.e. bias, flat...). The keyword in the fits header is `object`."
   ]
  },
  {
   "cell_type": "code",
   "execution_count": 5,
   "metadata": {},
   "outputs": [
    {
     "data": {
      "text/plain": [
       "['Borisov_test_000001.fits',\n",
       " 'Borisov_test_000002.fits',\n",
       " 'Borisov_test_000003.fits',\n",
       " 'NGC2997_B_000001.fits',\n",
       " 'NGC2997_B_000002.fits',\n",
       " 'NGC2997_B_000003.fits',\n",
       " 'NGC2997_B_000004.fits',\n",
       " 'NGC2997_Halph_000001.fits',\n",
       " 'NGC2997_Halph_000002.fits',\n",
       " 'NGC2997_Halph_000003.fits',\n",
       " 'NGC2997_Halph_000004.fits',\n",
       " 'NGC2997_Halph_000005.fits',\n",
       " 'NGC2997_I_000001.fits',\n",
       " 'NGC2997_I_000002.fits',\n",
       " 'NGC2997_I_000003.fits',\n",
       " 'NGC2997_R_000001.fits',\n",
       " 'NGC2997_R_000002.fits',\n",
       " 'NGC2997_R_000003.fits',\n",
       " 'NGC2997_V_000002.fits',\n",
       " 'NGC2997_V_000003.fits',\n",
       " 'NGC2997_V_000004.fits',\n",
       " 'NGC2997_test_000001.fits',\n",
       " 'NGC3265_test_000001.fits',\n",
       " 'NGC3308_R_000001.fits',\n",
       " 'NGC3308_R_000002.fits',\n",
       " 'NGC3308_R_000003.fits',\n",
       " 'NGC3308_V_000001.fits',\n",
       " 'NGC3308_V_000002.fits',\n",
       " 'NGC3308_V_000003.fits',\n",
       " 'NGC3308_test_000001.fits',\n",
       " 'NGC3308_test_000002.fits',\n",
       " 'NGC3308_test_000003.fits',\n",
       " 'NGC3311_B_000001.fits',\n",
       " 'NGC3311_B_000002.fits',\n",
       " 'NGC3311_B_000003.fits',\n",
       " 'NGC3311_B_000004.fits',\n",
       " 'NGC3311_B_000005.fits',\n",
       " 'NGC3311_Halph_000001.fits',\n",
       " 'NGC3311_Halph_000002.fits',\n",
       " 'NGC3311_Halph_000003.fits',\n",
       " 'NGC3311_Halph_000004.fits',\n",
       " 'NGC3311_I_000001.fits',\n",
       " 'NGC3311_I_000002.fits',\n",
       " 'NGC3311_I_000003.fits',\n",
       " 'NGC3311_R_000001.fits',\n",
       " 'NGC3311_R_000002.fits',\n",
       " 'NGC3311_R_000003.fits',\n",
       " 'NGC3311_V_000001.fits',\n",
       " 'NGC3311_V_000002.fits',\n",
       " 'NGC3311_V_000003.fits',\n",
       " 'NGC3311_test_000001.fits',\n",
       " 'NGC3311_test_000002.fits',\n",
       " 'PG1323086_B_000001.fits',\n",
       " 'PG1323086_Halph_000001.fits',\n",
       " 'PG1323086_I_000001.fits',\n",
       " 'PG1323086_R_000001.fits',\n",
       " 'PG1323086_V_000001.fits',\n",
       " 'PG1323086_test_000001.fits',\n",
       " 'RR_Pic_000001.fits',\n",
       " 'RR_Pic_000002.fits',\n",
       " 'RR_Pic_000003.fits',\n",
       " 'RR_Pic_000004.fits',\n",
       " 'RR_Pic_000005.fits',\n",
       " 'RR_Pic_000006.fits',\n",
       " 'RR_Pic_000007.fits',\n",
       " 'RR_Pic_000008.fits',\n",
       " 'RR_Pic_000009.fits',\n",
       " 'RR_Pic_000010.fits',\n",
       " 'RR_Pic_000011.fits',\n",
       " 'RR_Pic_000012.fits',\n",
       " 'RR_Pic_000013.fits',\n",
       " 'RR_Pic_000014.fits',\n",
       " 'RR_Pic_000015.fits',\n",
       " 'RR_Pic_000016.fits',\n",
       " 'RR_Pic_000017.fits',\n",
       " 'RR_Pic_000018.fits',\n",
       " 'RR_Pic_000019.fits',\n",
       " 'RR_Pic_000020.fits',\n",
       " 'RR_Pic_000021.fits',\n",
       " 'RR_Pic_000022.fits',\n",
       " 'RR_Pic_000023.fits',\n",
       " 'RR_Pic_000024.fits',\n",
       " 'RR_Pic_000025.fits',\n",
       " 'RR_Pic_000026.fits',\n",
       " 'RR_Pic_000027.fits',\n",
       " 'RR_Pic_000028.fits',\n",
       " 'RR_Pic_000029.fits',\n",
       " 'RR_Pic_000030.fits',\n",
       " 'RR_Pic_000031.fits',\n",
       " 'RR_Pic_000032.fits',\n",
       " 'RR_Pic_000033.fits',\n",
       " 'RR_Pic_000034.fits',\n",
       " 'RR_Pic_000035.fits',\n",
       " 'RR_Pic_000036.fits',\n",
       " 'RR_Pic_000037.fits',\n",
       " 'RR_Pic_000038.fits',\n",
       " 'RR_Pic_000039.fits',\n",
       " 'RR_Pic_000040.fits',\n",
       " 'RR_Pic_000041.fits',\n",
       " 'RR_Pic_000042.fits',\n",
       " 'RR_Pic_000043.fits',\n",
       " 'RR_Pic_000044.fits',\n",
       " 'RR_Pic_000045.fits',\n",
       " 'RR_Pic_000046.fits',\n",
       " 'RR_Pic_000047.fits',\n",
       " 'RR_Pic_000048.fits',\n",
       " 'RR_Pic_000049.fits',\n",
       " 'RR_Pic_000050.fits',\n",
       " 'RR_Pic_000051.fits',\n",
       " 'RR_Pic_000052.fits',\n",
       " 'RR_Pic_000053.fits',\n",
       " 'RR_Pic_000054.fits',\n",
       " 'RR_Pic_000055.fits',\n",
       " 'RR_Pic_000056.fits',\n",
       " 'RR_Pic_000057.fits',\n",
       " 'RR_Pic_000058.fits',\n",
       " 'RR_Pic_000059.fits',\n",
       " 'RR_Pic_000060.fits',\n",
       " 'RR_Pic_000061.fits',\n",
       " 'RR_Pic_000062.fits',\n",
       " 'RR_Pic_000063.fits',\n",
       " 'RR_Pic_000064.fits',\n",
       " 'RR_Pic_000065.fits',\n",
       " 'RR_Pic_000066.fits',\n",
       " 'RR_Pic_000067.fits',\n",
       " 'RR_Pic_000068.fits',\n",
       " 'RR_Pic_000069.fits',\n",
       " 'RR_Pic_000070.fits',\n",
       " 'RR_Pic_000071.fits',\n",
       " 'RR_Pic_000072.fits',\n",
       " 'RR_Pic_000073.fits',\n",
       " 'RR_Pic_000074.fits',\n",
       " 'RR_Pic_000075.fits',\n",
       " 'RR_Pic_000076.fits',\n",
       " 'RR_Pic_000077.fits',\n",
       " 'RR_Pic_000078.fits',\n",
       " 'RR_Pic_000079.fits',\n",
       " 'RR_Pic_000080.fits',\n",
       " 'RR_Pic_000081.fits',\n",
       " 'RR_Pic_000082.fits',\n",
       " 'RR_Pic_000083.fits',\n",
       " 'RR_Pic_000084.fits',\n",
       " 'RR_Pic_000085.fits',\n",
       " 'RR_Pic_000086.fits',\n",
       " 'RR_Pic_000087.fits',\n",
       " 'RR_Pic_000088.fits',\n",
       " 'RR_Pic_000089.fits',\n",
       " 'RR_Pic_000090.fits',\n",
       " 'RR_Pic_000091.fits',\n",
       " 'RR_Pic_000092.fits',\n",
       " 'RR_Pic_000093.fits',\n",
       " 'RR_Pic_000094.fits',\n",
       " 'RR_Pic_000095.fits',\n",
       " 'RR_Pic_000096.fits',\n",
       " 'RR_Pic_000097.fits',\n",
       " 'RR_Pic_000098.fits',\n",
       " 'RR_Pic_000099.fits',\n",
       " 'RR_Pic_000100.fits',\n",
       " 'RR_Pic_000101.fits',\n",
       " 'RR_Pic_000102.fits',\n",
       " 'RR_Pic_000103.fits',\n",
       " 'RR_Pic_000104.fits',\n",
       " 'RR_Pic_000105.fits',\n",
       " 'RR_Pic_000106.fits',\n",
       " 'RR_Pic_000107.fits',\n",
       " 'RR_Pic_000108.fits',\n",
       " 'RR_Pic_000109.fits',\n",
       " 'RR_Pic_000110.fits',\n",
       " 'RR_Pic_000111.fits',\n",
       " 'RR_Pic_000112.fits',\n",
       " 'RR_Pic_000113.fits',\n",
       " 'RR_Pic_000114.fits',\n",
       " 'RR_Pic_000115.fits',\n",
       " 'RR_Pic_000116.fits',\n",
       " 'RR_Pic_000117.fits',\n",
       " 'RR_Pic_000118.fits',\n",
       " 'RR_Pic_000119.fits',\n",
       " 'RR_Pic_000120.fits',\n",
       " 'RR_Pic_000121.fits',\n",
       " 'RR_Pic_000122.fits',\n",
       " 'RR_Pic_000123.fits',\n",
       " 'RR_Pic_000124.fits',\n",
       " 'RR_Pic_000125.fits',\n",
       " 'RR_Pic_000126.fits',\n",
       " 'RR_Pic_000127.fits',\n",
       " 'RR_Pic_000128.fits',\n",
       " 'RR_Pic_000129.fits',\n",
       " 'RR_Pic_000130.fits',\n",
       " 'RR_Pic_000131.fits',\n",
       " 'RR_Pic_000132.fits',\n",
       " 'RR_Pic_000133.fits',\n",
       " 'RR_Pic_000134.fits',\n",
       " 'RR_Pic_000135.fits',\n",
       " 'RR_Pic_000136.fits',\n",
       " 'RR_Pic_000137.fits',\n",
       " 'RR_Pic_000138.fits',\n",
       " 'RR_Pic_000139.fits',\n",
       " 'RR_Pic_000140.fits',\n",
       " 'RR_Pic_000141.fits',\n",
       " 'RR_Pic_000142.fits',\n",
       " 'RR_Pic_000143.fits',\n",
       " 'RR_Pic_000144.fits',\n",
       " 'RR_Pic_000145.fits',\n",
       " 'RR_Pic_000146.fits',\n",
       " 'RR_Pic_000147.fits',\n",
       " 'RR_Pic_000148.fits',\n",
       " 'RR_Pic_000149.fits',\n",
       " 'RR_Pic_000150.fits',\n",
       " 'RR_Pic_000151.fits',\n",
       " 'RR_Pic_000152.fits',\n",
       " 'RR_Pic_000153.fits',\n",
       " 'RR_Pic_000154.fits',\n",
       " 'RR_Pic_000155.fits',\n",
       " 'RR_Pic_000156.fits',\n",
       " 'RR_Pic_000157.fits',\n",
       " 'RR_Pic_000158.fits',\n",
       " 'RR_Pic_000159.fits',\n",
       " 'RR_Pic_000160.fits',\n",
       " 'RR_Pic_000161.fits',\n",
       " 'RR_Pic_000162.fits',\n",
       " 'RR_Pic_000163.fits',\n",
       " 'RR_Pic_000164.fits',\n",
       " 'RR_Pic_000165.fits',\n",
       " 'RR_Pic_000166.fits',\n",
       " 'RR_Pic_000167.fits',\n",
       " 'RR_Pic_000168.fits',\n",
       " 'RR_Pic_000169.fits',\n",
       " 'RR_Pic_000170.fits',\n",
       " 'RR_Pic_000171.fits',\n",
       " 'RR_Pic_000172.fits',\n",
       " 'RR_Pic_000173.fits',\n",
       " 'RR_Pic_000174.fits',\n",
       " 'RR_Pic_000175.fits',\n",
       " 'RR_Pic_000176.fits',\n",
       " 'RR_Pic_000177.fits',\n",
       " 'RR_Pic_000178.fits',\n",
       " 'RR_Pic_000179.fits',\n",
       " 'RR_Pic_000180.fits',\n",
       " 'RR_Pic_000181.fits',\n",
       " 'RR_Pic_000182.fits',\n",
       " 'RR_Pic_000183.fits',\n",
       " 'RR_Pic_000184.fits',\n",
       " 'RR_Pic_000185.fits',\n",
       " 'RR_Pic_000186.fits',\n",
       " 'RR_Pic_000187.fits',\n",
       " 'RR_Pic_000188.fits',\n",
       " 'RR_Pic_000189.fits',\n",
       " 'RR_Pic_000190.fits',\n",
       " 'RR_Pic_000191.fits',\n",
       " 'RR_Pic_000192.fits',\n",
       " 'RR_Pic_000193.fits',\n",
       " 'RR_Pic_000194.fits',\n",
       " 'RR_Pic_000195.fits',\n",
       " 'RR_Pic_000196.fits',\n",
       " 'RR_Pic_000197.fits',\n",
       " 'RR_Pic_000198.fits',\n",
       " 'RR_Pic_000199.fits',\n",
       " 'RR_Pic_000200.fits',\n",
       " 'RR_Pic_000201.fits',\n",
       " 'RR_Pic_000202.fits',\n",
       " 'RR_Pic_000203.fits',\n",
       " 'RR_Pic_000204.fits',\n",
       " 'RR_Pic_000205.fits',\n",
       " 'RR_Pic_000206.fits',\n",
       " 'RR_Pic_000207.fits',\n",
       " 'RR_Pic_000208.fits',\n",
       " 'RR_Pic_000209.fits',\n",
       " 'RR_Pic_000210.fits',\n",
       " 'RR_Pic_000211.fits',\n",
       " 'RR_Pic_000212.fits',\n",
       " 'RR_Pic_000213.fits',\n",
       " 'RR_Pic_000214.fits',\n",
       " 'RR_Pic_000215.fits',\n",
       " 'RR_Pic_000216.fits',\n",
       " 'RR_Pic_000217.fits',\n",
       " 'RR_Pic_000218.fits',\n",
       " 'RR_Pic_000219.fits',\n",
       " 'RR_Pic_000220.fits',\n",
       " 'RR_Pic_000221.fits',\n",
       " 'RR_Pic_000222.fits',\n",
       " 'RR_Pic_000223.fits',\n",
       " 'RR_Pic_000224.fits',\n",
       " 'RR_Pic_000225.fits',\n",
       " 'RR_Pic_000226.fits',\n",
       " 'RR_Pic_000227.fits',\n",
       " 'RR_Pic_000228.fits',\n",
       " 'RR_Pic_000229.fits',\n",
       " 'RR_Pic_000230.fits',\n",
       " 'RR_Pic_000231.fits',\n",
       " 'RR_Pic_000232.fits',\n",
       " 'RR_Pic_000233.fits',\n",
       " 'RR_Pic_000234.fits',\n",
       " 'RR_Pic_000235.fits',\n",
       " 'RR_Pic_000236.fits',\n",
       " 'RR_Pic_000237.fits',\n",
       " 'RR_Pic_000238.fits',\n",
       " 'RR_Pic_000239.fits',\n",
       " 'RR_Pic_000240.fits',\n",
       " 'RR_Pic_000241.fits',\n",
       " 'RR_Pic_000242.fits',\n",
       " 'RR_Pic_000243.fits',\n",
       " 'RR_Pic_000244.fits',\n",
       " 'RR_Pic_000245.fits',\n",
       " 'RR_Pic_000246.fits',\n",
       " 'RR_Pic_000247.fits',\n",
       " 'RR_Pic_000248.fits',\n",
       " 'RR_Pic_000249.fits',\n",
       " 'RR_Pic_000250.fits',\n",
       " 'RR_Pic_000251.fits',\n",
       " 'RR_Pic_000252.fits',\n",
       " 'RR_Pic_000253.fits',\n",
       " 'RR_Pic_000254.fits',\n",
       " 'RR_Pic_000255.fits',\n",
       " 'RR_Pic_000256.fits',\n",
       " 'RR_Pic_000257.fits',\n",
       " 'RR_Pic_000258.fits',\n",
       " 'RR_Pic_000259.fits',\n",
       " 'RR_Pic_000260.fits',\n",
       " 'RR_Pic_000261.fits',\n",
       " 'RR_Pic_000262.fits',\n",
       " 'RR_Pic_000263.fits',\n",
       " 'RR_Pic_000264.fits',\n",
       " 'RR_Pic_000265.fits',\n",
       " 'RR_Pic_000266.fits',\n",
       " 'RR_Pic_000267.fits',\n",
       " 'RR_Pic_000268.fits',\n",
       " 'RR_Pic_000269.fits',\n",
       " 'RR_Pic_000270.fits',\n",
       " 'RR_Pic_000271.fits',\n",
       " 'RR_Pic_000272.fits',\n",
       " 'RR_Pic_000273.fits',\n",
       " 'RR_Pic_000274.fits',\n",
       " 'RR_Pic_000275.fits',\n",
       " 'RR_Pic_000276.fits',\n",
       " 'RR_Pic_000277.fits',\n",
       " 'RR_Pic_000278.fits',\n",
       " 'RR_Pic_000279.fits',\n",
       " 'RR_Pic_000280.fits',\n",
       " 'RR_Pic_000281.fits',\n",
       " 'RR_Pic_000282.fits',\n",
       " 'RR_Pic_000283.fits',\n",
       " 'RR_Pic_000284.fits',\n",
       " 'RR_Pic_000285.fits',\n",
       " 'RR_Pic_000286.fits',\n",
       " 'RR_Pic_000287.fits',\n",
       " 'UGC04416_000001.fits',\n",
       " 'UGC04416_B_000001.fits',\n",
       " 'UGC04416_B_000002.fits',\n",
       " 'UGC04416_B_000003.fits',\n",
       " 'UGC04416_Halph_000001.fits',\n",
       " 'UGC04416_Halph_000002.fits',\n",
       " 'UGC04416_Halph_000003.fits',\n",
       " 'UGC04416_Halph_000004.fits',\n",
       " 'UGC04416_I_000001.fits',\n",
       " 'UGC04416_I_000002.fits',\n",
       " 'UGC04416_I_000003.fits',\n",
       " 'UGC04416_R_000001.fits',\n",
       " 'UGC04416_R_000002.fits',\n",
       " 'UGC04416_R_000003.fits',\n",
       " 'UGC04416_V_000001.fits',\n",
       " 'UGC04416_V_000002.fits',\n",
       " 'UGC04416_V_000003.fits',\n",
       " 'bias_000001.fits',\n",
       " 'bias_000002.fits',\n",
       " 'bias_000003.fits',\n",
       " 'bias_000004.fits',\n",
       " 'bias_000005.fits',\n",
       " 'bias_000006.fits',\n",
       " 'bias_000007.fits',\n",
       " 'bias_000008.fits',\n",
       " 'bias_000009.fits',\n",
       " 'bias_000010.fits',\n",
       " 'bias_000011.fits',\n",
       " 'dome_flat_B_000001.fits',\n",
       " 'dome_flat_B_000002.fits',\n",
       " 'dome_flat_B_000003.fits',\n",
       " 'dome_flat_B_000004.fits',\n",
       " 'dome_flat_B_000005.fits',\n",
       " 'dome_flat_B_000006.fits',\n",
       " 'dome_flat_B_000007.fits',\n",
       " 'dome_flat_V_000001.fits',\n",
       " 'dome_flat_V_000002.fits',\n",
       " 'dome_flat_V_000003.fits',\n",
       " 'dome_flat_V_000004.fits',\n",
       " 'dome_flat_V_000005.fits',\n",
       " 'dome_flat_V_000006.fits',\n",
       " 'dome_flat_test_B_000001.fits',\n",
       " 'dome_flat_test_Ha_000001.fits',\n",
       " 'dome_flat_test_Ha_000002.fits',\n",
       " 'dome_flat_test_Ha_000003.fits',\n",
       " 'dome_flat_test_Ha_000004.fits',\n",
       " 'dome_flat_test_Ha_000005.fits',\n",
       " 'dome_flat_test_R_000001.fits',\n",
       " 'dome_flat_test_R_000002.fits',\n",
       " 'dome_flat_test_R_000003.fits',\n",
       " 'dome_flat_test_R_000004.fits',\n",
       " 'dome_flat_test_R_000005.fits',\n",
       " 'dome_flat_test_V_000001.fits',\n",
       " 'dome_flat_test_V_000002.fits',\n",
       " 'dome_flat_test_V_000003.fits',\n",
       " 'dome_flat_test_V_000004.fits',\n",
       " 'focus_000001.fits',\n",
       " 'focus_000002.fits',\n",
       " 'focus_000003.fits',\n",
       " 'focus_000004.fits',\n",
       " 'focus_000005.fits',\n",
       " 'focus_000006.fits',\n",
       " 'focus_000007.fits',\n",
       " 'focus_000008.fits',\n",
       " 'skyflat_B_000001.fits',\n",
       " 'skyflat_B_000002.fits',\n",
       " 'skyflat_B_000003.fits',\n",
       " 'skyflat_B_000004.fits',\n",
       " 'skyflat_B_000005.fits',\n",
       " 'skyflat_B_000006.fits',\n",
       " 'skyflat_Ha_000001.fits',\n",
       " 'skyflat_Ha_000002.fits',\n",
       " 'skyflat_Ha_000003.fits',\n",
       " 'skyflat_Ha_000004.fits',\n",
       " 'skyflat_Ha_000005.fits',\n",
       " 'skyflat_Ha_000006.fits',\n",
       " 'skyflat_Ha_000007.fits',\n",
       " 'skyflat_Ha_000008.fits',\n",
       " 'skyflat_Ha_000009.fits',\n",
       " 'skyflat_Ha_000010.fits',\n",
       " 'skyflat_Ha_000011.fits',\n",
       " 'skyflat_Ha_000012.fits',\n",
       " 'skyflat_Ha_000013.fits',\n",
       " 'skyflat_Ha_out_000001.fits',\n",
       " 'skyflat_Ha_out_000002.fits',\n",
       " 'skyflat_Ha_out_000003.fits',\n",
       " 'skyflat_Ha_out_000004.fits',\n",
       " 'skyflat_Ha_out_000005.fits',\n",
       " 'skyflat_I_000001.fits',\n",
       " 'skyflat_I_000002.fits',\n",
       " 'skyflat_I_000003.fits',\n",
       " 'skyflat_I_000004.fits',\n",
       " 'skyflat_I_000005.fits',\n",
       " 'skyflat_I_000006.fits',\n",
       " 'skyflat_I_000007.fits',\n",
       " 'skyflat_I_000008.fits',\n",
       " 'skyflat_I_000009.fits',\n",
       " 'skyflat_I_000010.fits',\n",
       " 'skyflat_I_000011.fits',\n",
       " 'skyflat_R_000001.fits',\n",
       " 'skyflat_R_000002.fits',\n",
       " 'skyflat_R_000003.fits',\n",
       " 'skyflat_R_000004.fits',\n",
       " 'skyflat_R_000005.fits',\n",
       " 'skyflat_R_000006.fits',\n",
       " 'skyflat_V_000001.fits',\n",
       " 'skyflat_V_000002.fits',\n",
       " 'skyflat_V_000003.fits',\n",
       " 'skyflat_V_000004.fits',\n",
       " 'skyflat_test_B_000001.fits',\n",
       " 'skyflat_test_B_000002.fits',\n",
       " 'skyflat_test_Ha_000001.fits',\n",
       " 'std1_000001.fits',\n",
       " 'std1_I_000001.fits',\n",
       " 'std1_R_000001.fits',\n",
       " 'std1_V_000001.fits']"
      ]
     },
     "execution_count": 5,
     "metadata": {},
     "output_type": "execute_result"
    }
   ],
   "source": [
    "# collect the image files \n",
    "ifc = ImageFileCollection(inputdir, keywords='*')\n",
    "ifc.files"
   ]
  },
  {
   "cell_type": "code",
   "execution_count": 7,
   "metadata": {},
   "outputs": [],
   "source": [
    "matches_bias = ifc.summary['object'] == 'bias'\n",
    "matches_flat = ifc.summary['object'] == 'skyflat_I'\n",
    "matches_sci_I = (ifc.summary['object'] == 'NGC3311_I') & (ifc.summary['filtb'] == 'I')\n",
    "bias_files = [ifc.location + file for file in np.array(ifc.files)[matches_bias]]\n",
    "flat_files_I = [ifc.location + file for file in np.array(ifc.files)[matches_flat]] \n",
    "science_files_I = [ifc.location + file for file in np.array(ifc.files)[matches_sci_I]]\n"
   ]
  },
  {
   "cell_type": "code",
   "execution_count": 8,
   "metadata": {},
   "outputs": [
    {
     "data": {
      "text/plain": [
       "['/Users/lasilla/data/2020-02-10/raw/bias_000001.fits',\n",
       " '/Users/lasilla/data/2020-02-10/raw/bias_000002.fits',\n",
       " '/Users/lasilla/data/2020-02-10/raw/bias_000003.fits',\n",
       " '/Users/lasilla/data/2020-02-10/raw/bias_000004.fits',\n",
       " '/Users/lasilla/data/2020-02-10/raw/bias_000005.fits',\n",
       " '/Users/lasilla/data/2020-02-10/raw/bias_000006.fits',\n",
       " '/Users/lasilla/data/2020-02-10/raw/bias_000007.fits',\n",
       " '/Users/lasilla/data/2020-02-10/raw/bias_000008.fits',\n",
       " '/Users/lasilla/data/2020-02-10/raw/bias_000009.fits',\n",
       " '/Users/lasilla/data/2020-02-10/raw/bias_000010.fits',\n",
       " '/Users/lasilla/data/2020-02-10/raw/bias_000011.fits']"
      ]
     },
     "execution_count": 8,
     "metadata": {},
     "output_type": "execute_result"
    }
   ],
   "source": [
    "bias_files"
   ]
  },
  {
   "cell_type": "code",
   "execution_count": 9,
   "metadata": {},
   "outputs": [],
   "source": [
    "matches_flat = ifc.summary['object'] == 'skyflat_V'\n",
    "matches_sci_V = (ifc.summary['object'] == 'NGC3311_V') & (ifc.summary['filtb'] == 'V')\n",
    "bias_files = [ifc.location + file for file in np.array(ifc.files)[matches_bias]]\n",
    "flat_files_V = [ifc.location + file for file in np.array(ifc.files)[matches_flat]] \n",
    "science_files_V = [ifc.location + file for file in np.array(ifc.files)[matches_sci_V]]"
   ]
  },
  {
   "cell_type": "code",
   "execution_count": 10,
   "metadata": {},
   "outputs": [],
   "source": [
    "matches_flat = ifc.summary['object'] == 'skyflat_R'\n",
    "matches_sci_R = (ifc.summary['object'] == 'NGC3311_R') & (ifc.summary['filtb'] == 'R')\n",
    "bias_files = [ifc.location + file for file in np.array(ifc.files)[matches_bias]]\n",
    "flat_files_R = [ifc.location + file for file in np.array(ifc.files)[matches_flat]] \n",
    "science_files_R = [ifc.location + file for file in np.array(ifc.files)[matches_sci_R]]"
   ]
  },
  {
   "cell_type": "code",
   "execution_count": 11,
   "metadata": {},
   "outputs": [],
   "source": [
    "matches_flat = ifc.summary['object'] == 'skyflat_B'\n",
    "matches_sci_B = (ifc.summary['object'] == 'NGC3311_B') & (ifc.summary['filtb'] == 'B')\n",
    "bias_files = [ifc.location + file for file in np.array(ifc.files)[matches_bias]]\n",
    "flat_files_B = [ifc.location + file for file in np.array(ifc.files)[matches_flat]] \n",
    "science_files_B = [ifc.location + file for file in np.array(ifc.files)[matches_sci_B]]"
   ]
  },
  {
   "cell_type": "code",
   "execution_count": 12,
   "metadata": {},
   "outputs": [],
   "source": [
    "matches_flat = ifc.summary['object'] == 'skyflat_Ha'\n",
    "matches_sci_Ha = (ifc.summary['object'] == 'NGC3311_Halph') & (ifc.summary['filtb'] == 'H-alpha_rs')\n",
    "bias_files = [ifc.location + file for file in np.array(ifc.files)[matches_bias]]\n",
    "flat_files_Ha = [ifc.location + file for file in np.array(ifc.files)[matches_flat]] \n",
    "science_files_Ha = [ifc.location + file for file in np.array(ifc.files)[matches_sci_Ha]]"
   ]
  },
  {
   "cell_type": "code",
   "execution_count": 14,
   "metadata": {},
   "outputs": [
    {
     "name": "stdout",
     "output_type": "stream",
     "text": [
      "['/Users/lasilla/data/2020-02-10/raw/NGC3311_B_000001.fits', '/Users/lasilla/data/2020-02-10/raw/NGC3311_B_000002.fits', '/Users/lasilla/data/2020-02-10/raw/NGC3311_B_000003.fits', '/Users/lasilla/data/2020-02-10/raw/NGC3311_B_000004.fits', '/Users/lasilla/data/2020-02-10/raw/NGC3311_B_000005.fits']\n"
     ]
    }
   ],
   "source": [
    "print(science_files_B)"
   ]
  },
  {
   "cell_type": "markdown",
   "metadata": {},
   "source": [
    "We next create the master bias frame:"
   ]
  },
  {
   "cell_type": "code",
   "execution_count": 15,
   "metadata": {},
   "outputs": [
    {
     "name": "stderr",
     "output_type": "stream",
     "text": [
      "WARNING: FITSFixedWarning: EQUINOX = '2000. ' \n",
      "a floating-point value was expected. [astropy.wcs.wcs]\n",
      "WARNING:astropy:FITSFixedWarning: EQUINOX = '2000. ' \n",
      "a floating-point value was expected.\n",
      "WARNING: VerifyWarning: Keyword name 'subtract_overscan' is greater than 8 characters or contains characters not allowed by the FITS standard; a HIERARCH card will be created. [astropy.io.fits.card]\n",
      "WARNING:astropy:VerifyWarning: Keyword name 'subtract_overscan' is greater than 8 characters or contains characters not allowed by the FITS standard; a HIERARCH card will be created.\n",
      "WARNING: VerifyWarning: Keyword name 'trim_image' is greater than 8 characters or contains characters not allowed by the FITS standard; a HIERARCH card will be created. [astropy.io.fits.card]\n",
      "WARNING:astropy:VerifyWarning: Keyword name 'trim_image' is greater than 8 characters or contains characters not allowed by the FITS standard; a HIERARCH card will be created.\n"
     ]
    },
    {
     "name": "stdout",
     "output_type": "stream",
     "text": [
      "/Users/lasilla/data/2020-02-10/raw/bias_000001.fits\n",
      "/Users/lasilla/data/2020-02-10/raw/bias_000002.fits\n",
      "/Users/lasilla/data/2020-02-10/raw/bias_000003.fits\n",
      "/Users/lasilla/data/2020-02-10/raw/bias_000004.fits\n",
      "/Users/lasilla/data/2020-02-10/raw/bias_000005.fits\n",
      "/Users/lasilla/data/2020-02-10/raw/bias_000006.fits\n",
      "/Users/lasilla/data/2020-02-10/raw/bias_000007.fits\n",
      "/Users/lasilla/data/2020-02-10/raw/bias_000008.fits\n",
      "/Users/lasilla/data/2020-02-10/raw/bias_000009.fits\n",
      "/Users/lasilla/data/2020-02-10/raw/bias_000010.fits\n"
     ]
    },
    {
     "name": "stderr",
     "output_type": "stream",
     "text": [
      "INFO:astropy:splitting each image into 1 chunks to limit memory usage to 16000000000.0 bytes.\n"
     ]
    },
    {
     "name": "stdout",
     "output_type": "stream",
     "text": [
      "/Users/lasilla/data/2020-02-10/raw/bias_000011.fits\n",
      "INFO: splitting each image into 1 chunks to limit memory usage to 16000000000.0 bytes. [ccdproc.combiner]\n"
     ]
    },
    {
     "name": "stderr",
     "output_type": "stream",
     "text": [
      "WARNING: AstropyDeprecationWarning: \"clobber\" was deprecated in version 2.0 and will be removed in a future version. Use argument \"overwrite\" instead. [astropy.utils.decorators]\n",
      "WARNING:astropy:AstropyDeprecationWarning: \"clobber\" was deprecated in version 2.0 and will be removed in a future version. Use argument \"overwrite\" instead.\n"
     ]
    }
   ],
   "source": [
    "bias_list = []\n",
    "for filename in bias_files:\n",
    "    print(filename)\n",
    "    ccd = CCDData.read(filename, unit = u.adu)\n",
    "    #this has to be fixed as the bias section does not include the whole section that will be trimmed\n",
    "    ccd = ccdproc.subtract_overscan(ccd, median=True,  overscan_axis=1, fits_section='[5:71, :]')\n",
    "    ccd = ccdproc.trim_image(ccd, fits_section='[79:2100, :]')\n",
    "    bias_list.append(ccd)\n",
    "master_bias = ccdproc.combine(bias_list, method='median')\n",
    "master_bias.write('master_bias.fits', clobber=True)"
   ]
  },
  {
   "cell_type": "markdown",
   "metadata": {},
   "source": [
    "Now we create the master flat"
   ]
  },
  {
   "cell_type": "code",
   "execution_count": 16,
   "metadata": {},
   "outputs": [
    {
     "name": "stderr",
     "output_type": "stream",
     "text": [
      "WARNING: VerifyWarning: Keyword name 'subtract_bias' is greater than 8 characters or contains characters not allowed by the FITS standard; a HIERARCH card will be created. [astropy.io.fits.card]\n",
      "WARNING:astropy:VerifyWarning: Keyword name 'subtract_bias' is greater than 8 characters or contains characters not allowed by the FITS standard; a HIERARCH card will be created.\n"
     ]
    },
    {
     "name": "stdout",
     "output_type": "stream",
     "text": [
      "/Users/lasilla/data/2020-02-10/raw/skyflat_I_000001.fits\n",
      "/Users/lasilla/data/2020-02-10/raw/skyflat_I_000002.fits\n",
      "/Users/lasilla/data/2020-02-10/raw/skyflat_I_000003.fits\n",
      "/Users/lasilla/data/2020-02-10/raw/skyflat_I_000004.fits\n",
      "/Users/lasilla/data/2020-02-10/raw/skyflat_I_000005.fits\n",
      "/Users/lasilla/data/2020-02-10/raw/skyflat_I_000006.fits\n",
      "/Users/lasilla/data/2020-02-10/raw/skyflat_I_000007.fits\n",
      "/Users/lasilla/data/2020-02-10/raw/skyflat_I_000008.fits\n",
      "/Users/lasilla/data/2020-02-10/raw/skyflat_I_000009.fits\n",
      "/Users/lasilla/data/2020-02-10/raw/skyflat_I_000010.fits\n"
     ]
    },
    {
     "name": "stderr",
     "output_type": "stream",
     "text": [
      "INFO:astropy:splitting each image into 1 chunks to limit memory usage to 16000000000.0 bytes.\n"
     ]
    },
    {
     "name": "stdout",
     "output_type": "stream",
     "text": [
      "/Users/lasilla/data/2020-02-10/raw/skyflat_I_000011.fits\n",
      "INFO: splitting each image into 1 chunks to limit memory usage to 16000000000.0 bytes. [ccdproc.combiner]\n"
     ]
    },
    {
     "name": "stderr",
     "output_type": "stream",
     "text": [
      "WARNING: VerifyWarning: Keyword name 'gain_correct' is greater than 8 characters or contains characters not allowed by the FITS standard; a HIERARCH card will be created. [astropy.io.fits.card]\n",
      "WARNING:astropy:VerifyWarning: Keyword name 'gain_correct' is greater than 8 characters or contains characters not allowed by the FITS standard; a HIERARCH card will be created.\n"
     ]
    }
   ],
   "source": [
    "flat_I_list = []\n",
    "for filename in flat_files_I:\n",
    "    print(filename)\n",
    "    ccd = CCDData.read(filename, unit = u.adu)\n",
    "    exptime = ccd.header['EXPTIME']\n",
    "    #this has to be fixed as the bias section does not include the whole section that will be trimmed\n",
    "    ccd = ccdproc.subtract_overscan(ccd, median=True,  overscan_axis=1, fits_section='[5:71, :]')\n",
    "    ccd = ccdproc.trim_image(ccd, fits_section='[79:2100, :]')\n",
    "    ccd = ccdproc.subtract_bias(ccd, master_bias)\n",
    "    flat_I_list.append(ccd)\n",
    "master_flat_I = ccdproc.combine(flat_I_list, method='median')\n",
    "master_flat_I.write('master_flat_I.fits', clobber=True)\n",
    "# correct for the gain \n",
    "master_flat_I = ccdproc.gain_correct(master_flat_I, gain=gain)\n"
   ]
  },
  {
   "cell_type": "code",
   "execution_count": 17,
   "metadata": {},
   "outputs": [
    {
     "name": "stdout",
     "output_type": "stream",
     "text": [
      "/Users/lasilla/data/2020-02-10/raw/skyflat_V_000001.fits\n",
      "/Users/lasilla/data/2020-02-10/raw/skyflat_V_000002.fits\n",
      "/Users/lasilla/data/2020-02-10/raw/skyflat_V_000003.fits\n"
     ]
    },
    {
     "name": "stderr",
     "output_type": "stream",
     "text": [
      "INFO:astropy:splitting each image into 1 chunks to limit memory usage to 16000000000.0 bytes.\n"
     ]
    },
    {
     "name": "stdout",
     "output_type": "stream",
     "text": [
      "/Users/lasilla/data/2020-02-10/raw/skyflat_V_000004.fits\n",
      "INFO: splitting each image into 1 chunks to limit memory usage to 16000000000.0 bytes. [ccdproc.combiner]\n"
     ]
    }
   ],
   "source": [
    "flat_V_list = []\n",
    "for filename in flat_files_V:\n",
    "    print(filename)\n",
    "    ccd = CCDData.read(filename, unit = u.adu)\n",
    "    exptime = ccd.header['EXPTIME']\n",
    "    #this has to be fixed as the bias section does not include the whole section that will be trimmed\n",
    "    ccd = ccdproc.subtract_overscan(ccd, median=True,  overscan_axis=1, fits_section='[5:71, :]')\n",
    "    ccd = ccdproc.trim_image(ccd, fits_section='[79:2100, :]')\n",
    "    ccd = ccdproc.subtract_bias(ccd, master_bias)\n",
    "    flat_V_list.append(ccd)\n",
    "master_flat_V = ccdproc.combine(flat_V_list, method='median')\n",
    "master_flat_V.write('master_flat_V.fits', clobber=True)\n",
    "# correct for the gain \n",
    "master_flat_V = ccdproc.gain_correct(master_flat_V, gain=gain)"
   ]
  },
  {
   "cell_type": "code",
   "execution_count": 18,
   "metadata": {
    "scrolled": true
   },
   "outputs": [
    {
     "name": "stdout",
     "output_type": "stream",
     "text": [
      "/Users/lasilla/data/2020-02-10/raw/skyflat_R_000002.fits\n",
      "/Users/lasilla/data/2020-02-10/raw/skyflat_R_000003.fits\n",
      "/Users/lasilla/data/2020-02-10/raw/skyflat_R_000004.fits\n",
      "/Users/lasilla/data/2020-02-10/raw/skyflat_R_000005.fits\n"
     ]
    },
    {
     "name": "stderr",
     "output_type": "stream",
     "text": [
      "INFO:astropy:splitting each image into 1 chunks to limit memory usage to 16000000000.0 bytes.\n"
     ]
    },
    {
     "name": "stdout",
     "output_type": "stream",
     "text": [
      "/Users/lasilla/data/2020-02-10/raw/skyflat_R_000006.fits\n",
      "INFO: splitting each image into 1 chunks to limit memory usage to 16000000000.0 bytes. [ccdproc.combiner]\n"
     ]
    }
   ],
   "source": [
    "flat_R_list = []\n",
    "for filename in flat_files_R[1:]:\n",
    "    print(filename)\n",
    "    ccd = CCDData.read(filename, unit = u.adu)\n",
    "    exptime = ccd.header['EXPTIME']\n",
    "    #this has to be fixed as the bias section does not include the whole section that will be trimmed\n",
    "    ccd = ccdproc.subtract_overscan(ccd, median=True,  overscan_axis=1, fits_section='[5:71, :]')\n",
    "    ccd = ccdproc.trim_image(ccd, fits_section='[79:2100, :]')\n",
    "    ccd = ccdproc.subtract_bias(ccd, master_bias)\n",
    "    flat_R_list.append(ccd)\n",
    "master_flat_R = ccdproc.combine(flat_R_list, method='median')\n",
    "master_flat_R.write('master_flat_R.fits', clobber=True)\n",
    "# correct for the gain \n",
    "master_flat_R = ccdproc.gain_correct(master_flat_R, gain=gain)"
   ]
  },
  {
   "cell_type": "code",
   "execution_count": 19,
   "metadata": {},
   "outputs": [
    {
     "name": "stdout",
     "output_type": "stream",
     "text": [
      "/Users/lasilla/data/2020-02-10/raw/skyflat_B_000001.fits\n",
      "/Users/lasilla/data/2020-02-10/raw/skyflat_B_000002.fits\n",
      "/Users/lasilla/data/2020-02-10/raw/skyflat_B_000003.fits\n",
      "/Users/lasilla/data/2020-02-10/raw/skyflat_B_000004.fits\n",
      "/Users/lasilla/data/2020-02-10/raw/skyflat_B_000005.fits\n"
     ]
    },
    {
     "name": "stderr",
     "output_type": "stream",
     "text": [
      "INFO:astropy:splitting each image into 1 chunks to limit memory usage to 16000000000.0 bytes.\n"
     ]
    },
    {
     "name": "stdout",
     "output_type": "stream",
     "text": [
      "/Users/lasilla/data/2020-02-10/raw/skyflat_B_000006.fits\n",
      "INFO: splitting each image into 1 chunks to limit memory usage to 16000000000.0 bytes. [ccdproc.combiner]\n"
     ]
    }
   ],
   "source": [
    "flat_B_list = []\n",
    "for filename in flat_files_B:\n",
    "    print(filename)\n",
    "    ccd = CCDData.read(filename, unit = u.adu)\n",
    "    exptime = ccd.header['EXPTIME']\n",
    "    #this has to be fixed as the bias section does not include the whole section that will be trimmed\n",
    "    ccd = ccdproc.subtract_overscan(ccd, median=True,  overscan_axis=1, fits_section='[5:71, :]')\n",
    "    ccd = ccdproc.trim_image(ccd, fits_section='[79:2100, :]')\n",
    "    ccd = ccdproc.subtract_bias(ccd, master_bias)\n",
    "    flat_B_list.append(ccd)\n",
    "master_flat_B = ccdproc.combine(flat_B_list, method='median')\n",
    "master_flat_B.write('master_flat_B.fits', clobber=True)\n",
    "# correct for the gain \n",
    "master_flat_B = ccdproc.gain_correct(master_flat_B, gain=gain)"
   ]
  },
  {
   "cell_type": "code",
   "execution_count": 20,
   "metadata": {},
   "outputs": [
    {
     "name": "stdout",
     "output_type": "stream",
     "text": [
      "/Users/lasilla/data/2020-02-10/raw/skyflat_Ha_000001.fits\n",
      "/Users/lasilla/data/2020-02-10/raw/skyflat_Ha_000002.fits\n",
      "/Users/lasilla/data/2020-02-10/raw/skyflat_Ha_000003.fits\n",
      "/Users/lasilla/data/2020-02-10/raw/skyflat_Ha_000004.fits\n",
      "/Users/lasilla/data/2020-02-10/raw/skyflat_Ha_000005.fits\n",
      "/Users/lasilla/data/2020-02-10/raw/skyflat_Ha_000006.fits\n",
      "/Users/lasilla/data/2020-02-10/raw/skyflat_Ha_000007.fits\n",
      "/Users/lasilla/data/2020-02-10/raw/skyflat_Ha_000008.fits\n",
      "/Users/lasilla/data/2020-02-10/raw/skyflat_Ha_000009.fits\n",
      "/Users/lasilla/data/2020-02-10/raw/skyflat_Ha_000010.fits\n",
      "/Users/lasilla/data/2020-02-10/raw/skyflat_Ha_000011.fits\n",
      "/Users/lasilla/data/2020-02-10/raw/skyflat_Ha_000012.fits\n"
     ]
    },
    {
     "name": "stderr",
     "output_type": "stream",
     "text": [
      "INFO:astropy:splitting each image into 1 chunks to limit memory usage to 16000000000.0 bytes.\n"
     ]
    },
    {
     "name": "stdout",
     "output_type": "stream",
     "text": [
      "/Users/lasilla/data/2020-02-10/raw/skyflat_Ha_000013.fits\n",
      "INFO: splitting each image into 1 chunks to limit memory usage to 16000000000.0 bytes. [ccdproc.combiner]\n"
     ]
    }
   ],
   "source": [
    "flat_Ha_list = []\n",
    "for filename in flat_files_Ha:\n",
    "    print(filename)\n",
    "    ccd = CCDData.read(filename, unit = u.adu)\n",
    "    exptime = ccd.header['EXPTIME']\n",
    "    #this has to be fixed as the bias section does not include the whole section that will be trimmed\n",
    "    ccd = ccdproc.subtract_overscan(ccd, median=True,  overscan_axis=1, fits_section='[5:71, :]')\n",
    "    ccd = ccdproc.trim_image(ccd, fits_section='[79:2100, :]')\n",
    "    ccd = ccdproc.subtract_bias(ccd, master_bias)\n",
    "    flat_Ha_list.append(ccd)\n",
    "master_flat_Ha = ccdproc.combine(flat_Ha_list, method='median')\n",
    "master_flat_Ha.write('master_flat_Ha.fits', clobber=True)\n",
    "# correct for the gain \n",
    "master_flat_Ha = ccdproc.gain_correct(master_flat_Ha, gain=gain)"
   ]
  },
  {
   "cell_type": "markdown",
   "metadata": {},
   "source": [
    "And now we just need to correct the science files :) We also remove cosmic rays^[I didn't see any in the raw data, but better save than sorry] and scale by the exposure time such that the resulting file is in counts/s."
   ]
  },
  {
   "cell_type": "code",
   "execution_count": 21,
   "metadata": {
    "scrolled": true
   },
   "outputs": [
    {
     "name": "stderr",
     "output_type": "stream",
     "text": [
      "/Users/lasilla/opt/anaconda2/envs/photanalysis/lib/python2.7/site-packages/astropy/units/quantity.py:640: RuntimeWarning: divide by zero encountered in true_divide\n",
      "  *arrays, **kwargs)\n",
      "WARNING: VerifyWarning: Keyword name 'flat_correct' is greater than 8 characters or contains characters not allowed by the FITS standard; a HIERARCH card will be created. [astropy.io.fits.card]\n",
      "WARNING:astropy:VerifyWarning: Keyword name 'flat_correct' is greater than 8 characters or contains characters not allowed by the FITS standard; a HIERARCH card will be created.\n"
     ]
    },
    {
     "name": "stdout",
     "output_type": "stream",
     "text": [
      "/Users/lasilla/data/2020-02-10/raw/NGC3311_I_000001.fits\n"
     ]
    },
    {
     "name": "stderr",
     "output_type": "stream",
     "text": [
      "/Users/lasilla/opt/anaconda2/envs/photanalysis/lib/python2.7/site-packages/ccdproc/core.py:1369: RuntimeWarning: invalid value encountered in less\n",
      "  psfsize=psfsize, psfk=psfk, psfbeta=psfbeta, verbose=verbose)\n",
      "/Users/lasilla/opt/anaconda2/envs/photanalysis/lib/python2.7/site-packages/ccdproc/core.py:1369: RuntimeWarning: invalid value encountered in subtract\n",
      "  psfsize=psfsize, psfk=psfk, psfbeta=psfbeta, verbose=verbose)\n",
      "/Users/lasilla/opt/anaconda2/envs/photanalysis/lib/python2.7/site-packages/ccdproc/core.py:1369: RuntimeWarning: invalid value encountered in greater\n",
      "  psfsize=psfsize, psfk=psfk, psfbeta=psfbeta, verbose=verbose)\n",
      "/Users/lasilla/opt/anaconda2/envs/photanalysis/lib/python2.7/site-packages/ccdproc/core.py:322: RuntimeWarning: invalid value encountered in sqrt\n",
      "  var = (gain_value * ccd_data.data + readnoise_value ** 2) ** 0.5\n",
      "WARNING: VerifyWarning: Keyword name 'create_deviation' is greater than 8 characters or contains characters not allowed by the FITS standard; a HIERARCH card will be created. [astropy.io.fits.card]\n",
      "WARNING:astropy:VerifyWarning: Keyword name 'create_deviation' is greater than 8 characters or contains characters not allowed by the FITS standard; a HIERARCH card will be created.\n"
     ]
    },
    {
     "name": "stdout",
     "output_type": "stream",
     "text": [
      "/Users/lasilla/data/2020-02-10/raw/NGC3311_I_000002.fits\n",
      "/Users/lasilla/data/2020-02-10/raw/NGC3311_I_000003.fits\n"
     ]
    }
   ],
   "source": [
    "for filename in science_files_I:\n",
    "    print(filename)\n",
    "    savename = os.path.basename(filename)\n",
    "    hdu = fits.open(filename)\n",
    "    ccd = CCDData(hdu['PRIMARY'].data, header=hdu['PRIMARY'].header, unit = u.adu)\n",
    "    #this has to be fixed as the bias section does not include the whole section that will be trimmed\n",
    "    ccd = ccdproc.subtract_overscan(ccd, median=True,  overscan_axis=1, fits_section='[5:71, :]')\n",
    "    ccd = ccdproc.trim_image(ccd, fits_section='[79:2100, :]')\n",
    "    ccd = ccdproc.subtract_bias(ccd, master_bias)\n",
    "    ccd = ccdproc.flat_correct(ccd, master_flat_I)\n",
    "    ccd.write('sub_'+ savename, clobber=True)\n",
    "    ccd = ccdproc.cosmicray_lacosmic(ccd, sigclip=5) # remove cosmic rays\n",
    "    ccd.write('cr_'+ savename, clobber=True)\n",
    "    # gain correct \n",
    "    ccd = ccdproc.gain_correct(ccd, gain=gain)\n",
    "    # create variance map \n",
    "    ccd_var = ccdproc.create_deviation(ccd, readnoise=ron)\n",
    "    # scale to 1s exposure time\n",
    "    ccd = ccd.divide(ccd.header['EXPTIME'])\n",
    "    ccd.write('obj_'+ savename, clobber=True)\n",
    "    ccd_var.write('var_' + savename, clobber=True)"
   ]
  },
  {
   "cell_type": "markdown",
   "metadata": {},
   "source": [
    "Now the only thing left is do to the stacking. "
   ]
  },
  {
   "cell_type": "code",
   "execution_count": 23,
   "metadata": {},
   "outputs": [
    {
     "name": "stdout",
     "output_type": "stream",
     "text": [
      "/Users/lasilla/data/2020-02-10/raw/NGC3311_V_000001.fits\n",
      "/Users/lasilla/data/2020-02-10/raw/NGC3311_V_000002.fits\n",
      "/Users/lasilla/data/2020-02-10/raw/NGC3311_V_000003.fits\n"
     ]
    }
   ],
   "source": [
    "for filename in science_files_V:\n",
    "    print(filename)\n",
    "    savename = os.path.basename(filename)\n",
    "    hdu = fits.open(filename)\n",
    "    ccd = CCDData(hdu['PRIMARY'].data, header=hdu['PRIMARY'].header, unit = u.adu)\n",
    "    #this has to be fixed as the bias section does not include the whole section that will be trimmed\n",
    "    ccd = ccdproc.subtract_overscan(ccd, median=True,  overscan_axis=1, fits_section='[5:71, :]')\n",
    "    ccd = ccdproc.trim_image(ccd, fits_section='[79:2100, :]')\n",
    "    ccd = ccdproc.subtract_bias(ccd, master_bias)\n",
    "    ccd = ccdproc.flat_correct(ccd, master_flat_V)\n",
    "    ccd.write('sub_'+ savename, clobber=True)\n",
    "    ccd = ccdproc.cosmicray_lacosmic(ccd, sigclip=5) # remove cosmic rays\n",
    "    ccd.write('cr_'+ savename, clobber=True)\n",
    "    # gain correct \n",
    "    ccd = ccdproc.gain_correct(ccd, gain=gain)\n",
    "    # create variance map \n",
    "    ccd_var = ccdproc.create_deviation(ccd, readnoise=ron)\n",
    "    # scale to 1s exposure time\n",
    "    ccd = ccd.divide(ccd.header['EXPTIME'])\n",
    "    ccd.write('obj_'+ savename, clobber=True)\n",
    "    ccd_var.write('var_' + savename, clobber=True)"
   ]
  },
  {
   "cell_type": "code",
   "execution_count": 24,
   "metadata": {},
   "outputs": [
    {
     "name": "stdout",
     "output_type": "stream",
     "text": [
      "/Users/lasilla/data/2020-02-10/raw/NGC3311_R_000001.fits\n",
      "/Users/lasilla/data/2020-02-10/raw/NGC3311_R_000002.fits\n",
      "/Users/lasilla/data/2020-02-10/raw/NGC3311_R_000003.fits\n"
     ]
    }
   ],
   "source": [
    "for filename in science_files_R:\n",
    "    print(filename)\n",
    "    savename = os.path.basename(filename)\n",
    "    hdu = fits.open(filename)\n",
    "    ccd = CCDData(hdu['PRIMARY'].data, header=hdu['PRIMARY'].header, unit = u.adu)\n",
    "    #this has to be fixed as the bias section does not include the whole section that will be trimmed\n",
    "    ccd = ccdproc.subtract_overscan(ccd, median=True,  overscan_axis=1, fits_section='[5:71, :]')\n",
    "    ccd = ccdproc.trim_image(ccd, fits_section='[79:2100, :]')\n",
    "    ccd = ccdproc.subtract_bias(ccd, master_bias)\n",
    "    ccd = ccdproc.flat_correct(ccd, master_flat_R)\n",
    "    ccd.write('sub_'+ savename, clobber=True)\n",
    "    ccd = ccdproc.cosmicray_lacosmic(ccd, sigclip=5) # remove cosmic rays\n",
    "    ccd.write('cr_'+ savename, clobber=True)\n",
    "    # gain correct \n",
    "    ccd = ccdproc.gain_correct(ccd, gain=gain)\n",
    "    # create variance map \n",
    "    ccd_Rar = ccdproc.create_deviation(ccd, readnoise=ron)\n",
    "    # scale to 1s exposure time\n",
    "    ccd = ccd.divide(ccd.header['EXPTIME'])\n",
    "    ccd.write('obj_'+ savename, clobber=True)\n",
    "    ccd_Rar.write('var_' + savename, clobber=True)\n"
   ]
  },
  {
   "cell_type": "code",
   "execution_count": 25,
   "metadata": {},
   "outputs": [
    {
     "name": "stdout",
     "output_type": "stream",
     "text": [
      "/Users/lasilla/data/2020-02-10/raw/NGC3311_B_000001.fits\n",
      "/Users/lasilla/data/2020-02-10/raw/NGC3311_B_000002.fits\n",
      "/Users/lasilla/data/2020-02-10/raw/NGC3311_B_000003.fits\n",
      "/Users/lasilla/data/2020-02-10/raw/NGC3311_B_000004.fits\n",
      "/Users/lasilla/data/2020-02-10/raw/NGC3311_B_000005.fits\n"
     ]
    }
   ],
   "source": [
    "for filename in science_files_B:\n",
    "    print(filename)\n",
    "    savename = os.path.basename(filename)\n",
    "    hdu = fits.open(filename)\n",
    "    ccd = CCDData(hdu['PRIMARY'].data, header=hdu['PRIMARY'].header, unit = u.adu)\n",
    "    #this has to be fixed as the bias section does not include the whole section that will be trimmed\n",
    "    ccd = ccdproc.subtract_overscan(ccd, median=True,  overscan_axis=1, fits_section='[5:71, :]')\n",
    "    ccd = ccdproc.trim_image(ccd, fits_section='[79:2100, :]')\n",
    "    ccd = ccdproc.subtract_bias(ccd, master_bias)\n",
    "    ccd = ccdproc.flat_correct(ccd, master_flat_B)\n",
    "    ccd.write('sub_'+ savename, clobber=True)\n",
    "    ccd = ccdproc.cosmicray_lacosmic(ccd, sigclip=5) # remove cosmic rays\n",
    "    ccd.write('cr_'+ savename, clobber=True)\n",
    "    # gain correct \n",
    "    ccd = ccdproc.gain_correct(ccd, gain=gain)\n",
    "    # create variance map \n",
    "    ccd_Rar = ccdproc.create_deviation(ccd, readnoise=ron)\n",
    "    # scale to 1s exposure time\n",
    "    ccd = ccd.divide(ccd.header['EXPTIME'])\n",
    "    ccd.write('obj_'+ savename, clobber=True)\n",
    "    ccd_Rar.write('var_' + savename, clobber=True)\n",
    "\n"
   ]
  },
  {
   "cell_type": "code",
   "execution_count": 26,
   "metadata": {},
   "outputs": [
    {
     "name": "stdout",
     "output_type": "stream",
     "text": [
      "/Users/lasilla/data/2020-02-10/raw/NGC3311_Halph_000001.fits\n",
      "/Users/lasilla/data/2020-02-10/raw/NGC3311_Halph_000002.fits\n",
      "/Users/lasilla/data/2020-02-10/raw/NGC3311_Halph_000003.fits\n",
      "/Users/lasilla/data/2020-02-10/raw/NGC3311_Halph_000004.fits\n"
     ]
    }
   ],
   "source": [
    "for filename in science_files_Ha:\n",
    "    print(filename)\n",
    "    savename = os.path.basename(filename)\n",
    "    hdu = fits.open(filename)\n",
    "    ccd = CCDData(hdu['PRIMARY'].data, header=hdu['PRIMARY'].header, unit = u.adu)\n",
    "    #this has to be fixed as the bias section does not include the whole section that will be trimmed\n",
    "    ccd = ccdproc.subtract_overscan(ccd, median=True,  overscan_axis=1, fits_section='[5:71, :]')\n",
    "    ccd = ccdproc.trim_image(ccd, fits_section='[79:2100, :]')\n",
    "    ccd = ccdproc.subtract_bias(ccd, master_bias)\n",
    "    ccd = ccdproc.flat_correct(ccd, master_flat_Ha)\n",
    "    ccd.write('sub_'+ savename, clobber=True)\n",
    "    ccd = ccdproc.cosmicray_lacosmic(ccd, sigclip=5) # remove cosmic rays\n",
    "    ccd.write('cr_'+ savename, clobber=True)\n",
    "    # gain correct \n",
    "    ccd = ccdproc.gain_correct(ccd, gain=gain)\n",
    "    # create variance map \n",
    "    ccd_Rar = ccdproc.create_deviation(ccd, readnoise=ron)\n",
    "    # scale to 1s exposure time\n",
    "    ccd = ccd.divide(ccd.header['EXPTIME'])\n",
    "    ccd.write('obj_'+ savename, clobber=True)\n",
    "    ccd_Rar.write('var_' + savename, clobber=True)\n",
    "\n"
   ]
  },
  {
   "cell_type": "code",
   "execution_count": null,
   "metadata": {},
   "outputs": [],
   "source": []
  }
 ],
 "metadata": {
  "kernelspec": {
   "display_name": "Python 2",
   "language": "python",
   "name": "python2"
  },
  "language_info": {
   "codemirror_mode": {
    "name": "ipython",
    "version": 2
   },
   "file_extension": ".py",
   "mimetype": "text/x-python",
   "name": "python",
   "nbconvert_exporter": "python",
   "pygments_lexer": "ipython2",
   "version": "2.7.17"
  }
 },
 "nbformat": 4,
 "nbformat_minor": 2
}
