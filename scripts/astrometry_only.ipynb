{
 "cells": [
  {
   "cell_type": "code",
   "execution_count": 14,
   "metadata": {},
   "outputs": [
    {
     "name": "stderr",
     "output_type": "stream",
     "text": [
      "/Users/lasilla/opt/anaconda2/envs/astromatic/lib/python2.7/site-packages/astromatic_wrapper/utils/pipeline.py:165: UserWarning: 'log' path has not been set for the pipeline. Log files will not be saved.\n",
      "  \"'log' path has not been set for the pipeline. Log files will not be saved.\")\n"
     ]
    }
   ],
   "source": [
    "import os\n",
    "import datetime\n",
    "import astromatic_wrapper as aw\n",
    "import astropy.units as u\n",
    "\n",
    "# Get the current date and time to\n",
    "log_path = datetime.datetime.now().strftime('%Y-%m-%d_%H-%M-%S_test')\n",
    "\n",
    "# Set defaults\n",
    "base_path = '/Users/lasilla/LaSillaRepo/stacking/'\n",
    "paths = {\n",
    "    'temp': os.path.join(base_path, 'temp'),\n",
    "    'log': os.path.join(base_path, 'log', log_path),\n",
    "    'config': os.path.join(base_path, 'config'),\n",
    "    'catalogs': os.path.join(base_path, 'catalogs'),\n",
    "    'stacks': os.path.join(base_path, 'stacks'),\n",
    "    'images': '/Users/lasilla/dfosc_testdata/reduced/'\n",
    "}\n",
    "\n",
    "# If you are using a system wide install you can remove the following code\n",
    "# that specifies build_paths for each code\n",
    "build_path = '/Users/lasilla/opt/anaconda2/envs/astromatic'\n",
    "build_paths = {\n",
    "    'SExtractor': os.path.join(build_path, 'bin', 'sex'),\n",
    "    'SCAMP': os.path.join(build_path, 'bin', 'scamp'),\n",
    "    'SWARP': os.path.join(build_path, 'bin', 'swarp'),\n",
    "    'PSFEx': os.path.join(build_path, 'bin', 'psfex')\n",
    "}\n",
    "# Create the pipeline\n",
    "pipeline = aw.utils.pipeline.Pipeline(paths, build_paths=build_paths)"
   ]
  },
  {
   "cell_type": "code",
   "execution_count": 15,
   "metadata": {},
   "outputs": [],
   "source": [
    "# some properties of the dfosc observations\n",
    "gain = 0.164 * u.electron / u.adu\n",
    "ron = 4 * u.electron"
   ]
  },
  {
   "cell_type": "code",
   "execution_count": 20,
   "metadata": {},
   "outputs": [],
   "source": [
    "# set-up the pipeline\n",
    "def build_pipeline(pipeline, exposures,\n",
    "                   ref_catalog='UCAC-4',\n",
    "                   ref_band = 'DEFAULT',\n",
    "                   frames = [],\n",
    "                   stack_name = 'testwasp24.fits',\n",
    "                   output_cat_name = 'testwasp24.ldac.fits'):\n",
    "    # Generate catalogs from SExtractor\n",
    "    catalog_names = []\n",
    "    for files in exposures:\n",
    "        # create names for the output catalogs for each image\n",
    "        catalog_names.append(os.path.join(pipeline.paths['temp'],\n",
    "                                          os.path.basename(files['image']).replace('.fits',\n",
    "                                                                                   '.ldac')))\n",
    "        kwargs  = {\n",
    "            # image to SExtract\n",
    "            'files': files,\n",
    "            'api_kwargs':{\n",
    "                # arguments to initialize Astromatic class\n",
    "                'config': {'CATALOG_NAME': catalog_names[-1],\n",
    "                           'CATALOG_TYPE': 'FITS_LDAC',\n",
    "                           'DETECT_THRESH':'5.',\n",
    "                           'ANALYSIS_THRESH':'5.',\n",
    "                           'FILTER': 'N',\n",
    "                           'GAIN': '0.164',\n",
    "                           'ZEROPOINT': '21.',\n",
    "                           # as the exposures are the \"pure counts\"\n",
    "                           'PARAMETERS_NAME':'default.param'},\n",
    "                # frames to run Sextractor on\n",
    "                'frames': frames,\n",
    "                'config_file': os.path.join(pipeline.paths['config'],\n",
    "                                            'default.sex')\n",
    "            }\n",
    "        }\n",
    "        # Add the step to the pipeline\n",
    "        pipeline.add_step(aw.api.run_sex, ['step1', 'SExtractor'],\n",
    "                          ignore_errors=True, ignore_exceptions=True, \n",
    "                          ignore_warnings=True,\n",
    "                          **kwargs)\n",
    "\n",
    "    # Get astrometric solution from SCAMP\n",
    "    # Use SCAMP to get astrometric solutions\n",
    "    kwargs = {\n",
    "        'catalogs': catalog_names,\n",
    "        'api_kwargs': {\n",
    "            'config': {\n",
    "                'ASTREF_CATALOG': ref_catalog,\n",
    "                'ASTREF_BAND': ref_band,\n",
    "                'CATALOG_TYPE': 'FITS_LDAC',\n",
    "                'SOLVE_PHOTOM': 'N',\n",
    "                'CHECKPLOT_DEV': 'NULL',\n",
    "                'NTHREADS':'2'\n",
    "            },\n",
    "            'config_file': os.path.join(pipeline.paths['config'],\n",
    "                                        'default.scamp')\n",
    "\n",
    "\n",
    "        }\n",
    "    }\n",
    "    pipeline.add_step(aw.api.run_scamp, ['step2', 'SCAMP'],**kwargs)\n",
    "\n",
    "    # Resample (rotate and scale) and combine (stack) images\n",
    "    stack_filename = os.path.join(pipeline.paths['temp'], stack_name)\n",
    "    kwargs = {\n",
    "        'filenames': [exp['image'] for exp in exposures],\n",
    "        'api_kwargs': {\n",
    "            'config': {\n",
    "#                 'WEIGHT_TYPE': 'MAP_WEIGHT',\n",
    "#                 'WEIGHT_SUFFIX': '.wtmap.fits',\n",
    "                'IMAGEOUT_NAME': stack_filename,\n",
    "                'WEIGHTOUT_NAME': stack_filename.replace('.fits','.wtmap.fits'),\n",
    "                'RESAMPLE_DIR': pipeline.paths['temp'],\n",
    "            }\n",
    "        },\n",
    "        'frames': frames\n",
    "    }\n",
    "    pipeline.add_step(aw.api.run_swarp, ['step3', 'SWarp'], **kwargs)\n",
    "\n",
    "    return pipeline\n"
   ]
  },
  {
   "cell_type": "code",
   "execution_count": 21,
   "metadata": {},
   "outputs": [],
   "source": [
    "explist = ['obj_testwasp24_000002.fits', 'obj_testwasp24_000003.fits']"
   ]
  },
  {
   "cell_type": "code",
   "execution_count": 22,
   "metadata": {},
   "outputs": [],
   "source": [
    "frames = []\n",
    "exposures = [{'image':os.path.join(pipeline.paths['images'], exposure)} for exposure in explist]\n",
    "pipeline = build_pipeline(pipeline, exposures=exposures, frames=frames)"
   ]
  },
  {
   "cell_type": "code",
   "execution_count": 23,
   "metadata": {},
   "outputs": [
    {
     "name": "stdout",
     "output_type": "stream",
     "text": [
      "[{'image': '/Users/lasilla/dfosc_testdata/reduced/obj_testwasp24_000002.fits'}, {'image': '/Users/lasilla/dfosc_testdata/reduced/obj_testwasp24_000003.fits'}]\n"
     ]
    },
    {
     "ename": "PipelineError",
     "evalue": "Error returned in step 0 (run_step_idx 0)",
     "output_type": "error",
     "traceback": [
      "\u001b[0;31m---------------------------------------------------------------------------\u001b[0m",
      "\u001b[0;31mPipelineError\u001b[0m                             Traceback (most recent call last)",
      "\u001b[0;32m<ipython-input-23-319508c67b42>\u001b[0m in \u001b[0;36m<module>\u001b[0;34m()\u001b[0m\n\u001b[1;32m      1\u001b[0m \u001b[0;32mprint\u001b[0m \u001b[0mexposures\u001b[0m\u001b[0;34m\u001b[0m\u001b[0m\n\u001b[0;32m----> 2\u001b[0;31m \u001b[0mpipeline\u001b[0m\u001b[0;34m.\u001b[0m\u001b[0mrun\u001b[0m\u001b[0;34m(\u001b[0m\u001b[0;34m[\u001b[0m\u001b[0;34m'step1'\u001b[0m\u001b[0;34m]\u001b[0m\u001b[0;34m)\u001b[0m\u001b[0;34m\u001b[0m\u001b[0m\n\u001b[0m",
      "\u001b[0;32m/Users/lasilla/opt/anaconda2/envs/astromatic/lib/python2.7/site-packages/astromatic_wrapper/utils/pipeline.pyc\u001b[0m in \u001b[0;36mrun\u001b[0;34m(self, run_tags, ignore_tags, run_steps, run_name, resume, ignore_errors, ignore_exceptions, start_idx, current_step_idx)\u001b[0m\n\u001b[1;32m    337\u001b[0m                     raise PipelineError(\n\u001b[1;32m    338\u001b[0m                         'Error returned in step {0} (run_step_idx {1})'.format(\n\u001b[0;32m--> 339\u001b[0;31m                             \u001b[0mstep\u001b[0m\u001b[0;34m.\u001b[0m\u001b[0mstep_id\u001b[0m\u001b[0;34m,\u001b[0m \u001b[0mself\u001b[0m\u001b[0;34m.\u001b[0m\u001b[0mrun_step_idx\u001b[0m\u001b[0;34m\u001b[0m\u001b[0m\n\u001b[0m\u001b[1;32m    340\u001b[0m                         ))\n\u001b[1;32m    341\u001b[0m                 \u001b[0;32melse\u001b[0m\u001b[0;34m:\u001b[0m\u001b[0;34m\u001b[0m\u001b[0m\n",
      "\u001b[0;31mPipelineError\u001b[0m: Error returned in step 0 (run_step_idx 0)"
     ]
    }
   ],
   "source": [
    "print exposures\n",
    "pipeline.run(['step1'])"
   ]
  },
  {
   "cell_type": "code",
   "execution_count": null,
   "metadata": {},
   "outputs": [],
   "source": []
  }
 ],
 "metadata": {
  "kernelspec": {
   "display_name": "Python 2",
   "language": "python",
   "name": "python2"
  },
  "language_info": {
   "codemirror_mode": {
    "name": "ipython",
    "version": 2
   },
   "file_extension": ".py",
   "mimetype": "text/x-python",
   "name": "python",
   "nbconvert_exporter": "python",
   "pygments_lexer": "ipython2",
   "version": "2.7.17"
  }
 },
 "nbformat": 4,
 "nbformat_minor": 2
}
