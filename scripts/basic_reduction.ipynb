{
 "cells": [
  {
   "cell_type": "markdown",
   "metadata": {},
   "source": [
    "# Reduction of DFOSC data with CCDproc "
   ]
  },
  {
   "cell_type": "markdown",
   "metadata": {},
   "source": [
    "See here for the documentation of https://ccdproc.readthedocs.io/en/latest/reduction_toolbox.html#clean-image "
   ]
  },
  {
   "cell_type": "code",
   "execution_count": 10,
   "metadata": {},
   "outputs": [],
   "source": [
    "# import the relevant packages \n",
    "import sys\n",
    "import os\n",
    "import numpy as np\n",
    "  \n",
    "from astropy.io import fits\n",
    "from astropy import units as u\n",
    "\n",
    "import ccdproc \n",
    "from ccdproc import CCDData\n",
    "\n",
    "from ccdproc import ImageFileCollection"
   ]
  },
  {
   "cell_type": "markdown",
   "metadata": {},
   "source": [
    "Define where are the raw and the reduced data? "
   ]
  },
  {
   "cell_type": "code",
   "execution_count": 28,
   "metadata": {},
   "outputs": [],
   "source": [
    "inputdir = '/Users/lasilla/dfosc_testdata/raw/'\n",
    "outputdir = '/Users/lasilla/dfosc_testdata/reduced/'"
   ]
  },
  {
   "cell_type": "code",
   "execution_count": 29,
   "metadata": {},
   "outputs": [],
   "source": [
    "# if there's no output directory, make one: \n",
    "if not os.path.isdir(outputdir): \n",
    "    os.mkdir(outputdir)"
   ]
  },
  {
   "cell_type": "markdown",
   "metadata": {},
   "source": [
    "We first want to sort the data according to its type (i.e. bias, flat...). The keyword in the fits header is `object`."
   ]
  },
  {
   "cell_type": "code",
   "execution_count": 73,
   "metadata": {},
   "outputs": [
    {
     "data": {
      "text/plain": [
       "['Flat_I_000002.fits',\n",
       " 'Flat_I_000003.fits',\n",
       " 'Flat_I_000004.fits',\n",
       " 'Flat_I_000005.fits',\n",
       " 'Flat_I_000006.fits',\n",
       " 'Flat_I_000007.fits',\n",
       " 'Flat_I_000008.fits',\n",
       " 'Flat_I_000009.fits',\n",
       " 'Flat_I_000010.fits',\n",
       " 'Flat_I_000011.fits',\n",
       " 'Flat_I_000012.fits',\n",
       " 'bias_000001.fits',\n",
       " 'bias_000002.fits',\n",
       " 'bias_000003.fits',\n",
       " 'bias_000004.fits',\n",
       " 'bias_000005.fits',\n",
       " 'bias_000006.fits',\n",
       " 'bias_000007.fits',\n",
       " 'bias_000008.fits',\n",
       " 'bias_000009.fits',\n",
       " 'bias_000010.fits',\n",
       " 'bias_000011.fits',\n",
       " 'bias_000012.fits',\n",
       " 'bias_000013.fits',\n",
       " 'bias_000014.fits',\n",
       " 'bias_000015.fits',\n",
       " 'masterflat-B-2020-01-19_even.fits',\n",
       " 'masterflat-I-2020-02-02_morn.fits',\n",
       " 'masterflat-R-2020-02-01_morn.fits',\n",
       " 'masterflat-V-2020-01-31_morn.fits',\n",
       " 'testwasp24_000002.fits',\n",
       " 'testwasp24_000003.fits']"
      ]
     },
     "execution_count": 73,
     "metadata": {},
     "output_type": "execute_result"
    }
   ],
   "source": [
    "# collect the image files \n",
    "ifc = ImageFileCollection(inputdir, keywords='*')\n",
    "ifc.files"
   ]
  },
  {
   "cell_type": "code",
   "execution_count": 140,
   "metadata": {},
   "outputs": [],
   "source": [
    "matches_bias = ifc.summary['object'] == 'bias'\n",
    "matches_flat = ifc.summary['object'] == 'Flat_I'\n",
    "matches_sci_I = (ifc.summary['object'] == 'testwasp24') & (ifc.summary['filtb'] == 'I')\n",
    "bias_files = [ifc.location + file for file in np.array(ifc.files)[matches_bias]]\n",
    "flat_files = [ifc.location + file for file in np.array(ifc.files)[matches_flat]] \n",
    "science_files_I = [ifc.location + file for file in np.array(ifc.files)[matches_sci_I]]\n"
   ]
  },
  {
   "cell_type": "markdown",
   "metadata": {},
   "source": [
    "We next create the master bias frame:"
   ]
  },
  {
   "cell_type": "code",
   "execution_count": 150,
   "metadata": {},
   "outputs": [
    {
     "name": "stdout",
     "output_type": "stream",
     "text": [
      "/Users/lasilla/dfosc_testdata/raw/bias_000001.fits\n",
      "/Users/lasilla/dfosc_testdata/raw/bias_000002.fits\n",
      "/Users/lasilla/dfosc_testdata/raw/bias_000003.fits\n",
      "/Users/lasilla/dfosc_testdata/raw/bias_000004.fits\n",
      "/Users/lasilla/dfosc_testdata/raw/bias_000005.fits\n",
      "/Users/lasilla/dfosc_testdata/raw/bias_000006.fits\n",
      "/Users/lasilla/dfosc_testdata/raw/bias_000007.fits\n",
      "/Users/lasilla/dfosc_testdata/raw/bias_000008.fits\n",
      "/Users/lasilla/dfosc_testdata/raw/bias_000009.fits\n",
      "/Users/lasilla/dfosc_testdata/raw/bias_000010.fits\n",
      "/Users/lasilla/dfosc_testdata/raw/bias_000011.fits\n",
      "/Users/lasilla/dfosc_testdata/raw/bias_000012.fits\n"
     ]
    },
    {
     "name": "stderr",
     "output_type": "stream",
     "text": [
      "INFO:astropy:splitting each image into 1 chunks to limit memory usage to 16000000000.0 bytes.\n"
     ]
    },
    {
     "name": "stdout",
     "output_type": "stream",
     "text": [
      "/Users/lasilla/dfosc_testdata/raw/bias_000013.fits\n",
      "/Users/lasilla/dfosc_testdata/raw/bias_000014.fits\n",
      "/Users/lasilla/dfosc_testdata/raw/bias_000015.fits\n",
      "INFO: splitting each image into 1 chunks to limit memory usage to 16000000000.0 bytes. [ccdproc.combiner]\n"
     ]
    }
   ],
   "source": [
    "bias_list = []\n",
    "for filename in bias_files:\n",
    "    print(filename)\n",
    "    ccd = CCDData.read(filename, unit = u.adu)\n",
    "    #this has to be fixed as the bias section does not include the whole section that will be trimmed\n",
    "#     ccd = ccdproc.subtract_overscan(ccd, median=True,  overscan_axis=1, fits_section='[1:75,2112:2147]')\n",
    "    ccd = ccdproc.trim_image(ccd, fits_section='[76:2106, :]')\n",
    "    bias_list.append(ccd)\n",
    "master_bias = ccdproc.combine(bias_list, method='median')\n",
    "master_bias.write('master_bias.fits', clobber=True)"
   ]
  },
  {
   "cell_type": "markdown",
   "metadata": {},
   "source": [
    "Now we create the master flat"
   ]
  },
  {
   "cell_type": "code",
   "execution_count": 151,
   "metadata": {},
   "outputs": [
    {
     "name": "stdout",
     "output_type": "stream",
     "text": [
      "/Users/lasilla/dfosc_testdata/raw/Flat_I_000002.fits\n",
      "/Users/lasilla/dfosc_testdata/raw/Flat_I_000003.fits\n",
      "/Users/lasilla/dfosc_testdata/raw/Flat_I_000004.fits\n",
      "/Users/lasilla/dfosc_testdata/raw/Flat_I_000005.fits\n",
      "/Users/lasilla/dfosc_testdata/raw/Flat_I_000006.fits\n",
      "/Users/lasilla/dfosc_testdata/raw/Flat_I_000007.fits\n",
      "/Users/lasilla/dfosc_testdata/raw/Flat_I_000008.fits\n",
      "/Users/lasilla/dfosc_testdata/raw/Flat_I_000009.fits\n",
      "/Users/lasilla/dfosc_testdata/raw/Flat_I_000010.fits\n"
     ]
    },
    {
     "name": "stderr",
     "output_type": "stream",
     "text": [
      "INFO:astropy:splitting each image into 1 chunks to limit memory usage to 16000000000.0 bytes.\n"
     ]
    },
    {
     "name": "stdout",
     "output_type": "stream",
     "text": [
      "/Users/lasilla/dfosc_testdata/raw/Flat_I_000011.fits\n",
      "/Users/lasilla/dfosc_testdata/raw/Flat_I_000012.fits\n",
      "INFO: splitting each image into 1 chunks to limit memory usage to 16000000000.0 bytes. [ccdproc.combiner]\n"
     ]
    }
   ],
   "source": [
    "flat_I_list = []\n",
    "for filename in flat_files:\n",
    "    print(filename)\n",
    "    ccd = CCDData.read(filename, unit = u.adu)\n",
    "    #this has to be fixed as the bias section does not include the whole section that will be trimmed\n",
    "    #ccd = ccdproc.subtract_overscan(ccd, median=True,  overscan_axis=0, fits_section='[1:966,4105:4190]')\n",
    "    ccd = ccdproc.trim_image(ccd, fits_section='[76:2106, :]')\n",
    "    ccd = ccdproc.subtract_bias(ccd, master_bias)\n",
    "    flat_I_list.append(ccd)\n",
    "master_flat_I = ccdproc.combine(flat_I_list, method='median')\n",
    "master_flat_I.write('master_flat_I.fits', clobber=True)\n"
   ]
  },
  {
   "cell_type": "markdown",
   "metadata": {},
   "source": [
    "And now we just need to correct the science files :) We also remove cosmic rays^[I didn't see any in the raw data, but better save than sorry] and scale by the exposure time such that the resulting file is in counts/s."
   ]
  },
  {
   "cell_type": "code",
   "execution_count": 157,
   "metadata": {},
   "outputs": [
    {
     "name": "stdout",
     "output_type": "stream",
     "text": [
      "/Users/lasilla/dfosc_testdata/raw/testwasp24_000002.fits\n",
      "/Users/lasilla/dfosc_testdata/raw/testwasp24_000003.fits\n"
     ]
    }
   ],
   "source": [
    "for filename in science_files_I:\n",
    "    print(filename)\n",
    "    savename = os.path.basename(filename)\n",
    "    hdu = fits.open(filename)\n",
    "    ccd = CCDData(hdu['PRIMARY'].data, header=hdu['PRIMARY'].header, unit = u.adu)\n",
    "    #this has to be fixed as the bias section does not include the whole section that will be trimmed\n",
    "    #ccd = ccdproc.subtract_overscan(ccd, median=True,  overscan_axis=0, fits_section='[1:966,4105:4190]')\n",
    "    ccd = ccdproc.trim_image(ccd, fits_section='[76:2106, :]')\n",
    "    ccd = ccdproc.subtract_bias(ccd, master_bias)\n",
    "    ccd = ccdproc.flat_correct(ccd, master_flat_I)\n",
    "    ccd.write('sub_'+ savename, clobber=True)\n",
    "    ccd = ccdproc.cosmicray_lacosmic(ccd, sigclip=5) # remove cosmic rays\n",
    "    ccd.write('cr_'+ savename, clobber=True)\n",
    "    ccd.data = ccd.data.T\n",
    "    exptime = ccd.header['EXPTIME']\n",
    "    ccd.write('obj_'+ savename, clobber=True)"
   ]
  },
  {
   "cell_type": "markdown",
   "metadata": {},
   "source": [
    "Now the only thing left is do to the stacking. "
   ]
  }
 ],
 "metadata": {
  "kernelspec": {
   "display_name": "Python 2",
   "language": "python",
   "name": "python2"
  },
  "language_info": {
   "codemirror_mode": {
    "name": "ipython",
    "version": 2
   },
   "file_extension": ".py",
   "mimetype": "text/x-python",
   "name": "python",
   "nbconvert_exporter": "python",
   "pygments_lexer": "ipython2",
   "version": "2.7.17"
  }
 },
 "nbformat": 4,
 "nbformat_minor": 2
}
